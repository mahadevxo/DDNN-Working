{
 "cells": [
  {
   "cell_type": "code",
   "execution_count": null,
   "id": "0a7c213d",
   "metadata": {},
   "outputs": [
    {
     "name": "stdout",
     "output_type": "stream",
     "text": [
      "Error in callback _flush_stdio (for post_execute), with arguments args (),kwargs {}:\n"
     ]
    },
    {
     "ename": "UnicodeDecodeError",
     "evalue": "'utf-8' codec can't decode bytes in position 4094-4095: unexpected end of data",
     "output_type": "error",
     "traceback": [
      "\u001b[0;31m---------------------------------------------------------------------------\u001b[0m",
      "\u001b[0;31mUnicodeDecodeError\u001b[0m                        Traceback (most recent call last)",
      "File \u001b[0;32m~/.julia/packages/PythonCall/WMWY0/src/JlWrap/any.jl:262\u001b[0m, in \u001b[0;36m__call__\u001b[0;34m(self, *args, **kwargs)\u001b[0m\n\u001b[1;32m    260\u001b[0m     return ValueBase.__dir__(self) + self._jl_callmethod($(pyjl_methodnum(pyjlany_dir)))\n\u001b[1;32m    261\u001b[0m def __call__(self, *args, **kwargs):\n\u001b[0;32m--> 262\u001b[0m     return self._jl_callmethod($(pyjl_methodnum(pyjlany_call)), args, kwargs)\n\u001b[1;32m    263\u001b[0m def __bool__(self):\n\u001b[1;32m    264\u001b[0m     return True\n",
      "\u001b[0;31mUnicodeDecodeError\u001b[0m: 'utf-8' codec can't decode bytes in position 4094-4095: unexpected end of data"
     ]
    }
   ],
   "source": [
    "import matplotlib.pyplot as plt\n",
    "import torch.nn as nn\n",
    "import torch.optim as optim\n",
    "import torch\n",
    "from sklearn.preprocessing import MinMaxScaler\n",
    "import numpy as np"
   ]
  },
  {
   "cell_type": "code",
   "execution_count": 846,
   "id": "1616f676",
   "metadata": {},
   "outputs": [
    {
     "name": "stdout",
     "output_type": "stream",
     "text": [
      "Error in callback _flush_stdio (for post_execute), with arguments args (),kwargs {}:\n"
     ]
    },
    {
     "ename": "UnicodeDecodeError",
     "evalue": "'utf-8' codec can't decode bytes in position 4094-4095: unexpected end of data",
     "output_type": "error",
     "traceback": [
      "\u001b[0;31m---------------------------------------------------------------------------\u001b[0m",
      "\u001b[0;31mUnicodeDecodeError\u001b[0m                        Traceback (most recent call last)",
      "File \u001b[0;32m~/.julia/packages/PythonCall/WMWY0/src/JlWrap/any.jl:262\u001b[0m, in \u001b[0;36m__call__\u001b[0;34m(self, *args, **kwargs)\u001b[0m\n\u001b[1;32m    260\u001b[0m     return ValueBase.__dir__(self) + self._jl_callmethod($(pyjl_methodnum(pyjlany_dir)))\n\u001b[1;32m    261\u001b[0m def __call__(self, *args, **kwargs):\n\u001b[0;32m--> 262\u001b[0m     return self._jl_callmethod($(pyjl_methodnum(pyjlany_call)), args, kwargs)\n\u001b[1;32m    263\u001b[0m def __bool__(self):\n\u001b[1;32m    264\u001b[0m     return True\n",
      "\u001b[0;31mUnicodeDecodeError\u001b[0m: 'utf-8' codec can't decode bytes in position 4094-4095: unexpected end of data"
     ]
    }
   ],
   "source": [
    "def read_data(path):\n",
    "    with open(path, 'r') as f:\n",
    "        lines = f.readlines()\n",
    "        pre_acc, post_acc, pruning_amount = [], [], []\n",
    "        for line in lines[1:]:\n",
    "            pruning, pre, _, post, _, _ = line.strip().split(',')\n",
    "            pruning_amount.append(float(pruning))\n",
    "            pre_acc.append(float(pre))\n",
    "            post_acc.append(float(post))\n",
    "        print(path, len(pruning_amount), len(pre_acc), len(post_acc))\n",
    "        return pruning_amount, pre_acc, post_acc\n",
    "    #pruning amount, pre_acc, pre_comp_time, post_acc, post_comp_time, model_size"
   ]
  },
  {
   "cell_type": "code",
   "execution_count": 847,
   "id": "f4186a15",
   "metadata": {},
   "outputs": [
    {
     "name": "stdout",
     "output_type": "stream",
     "text": [
      "Error in callback _flush_stdio (for post_execute), with arguments args (),kwargs {}:\n"
     ]
    },
    {
     "ename": "UnicodeDecodeError",
     "evalue": "'utf-8' codec can't decode bytes in position 4094-4095: unexpected end of data",
     "output_type": "error",
     "traceback": [
      "\u001b[0;31m---------------------------------------------------------------------------\u001b[0m",
      "\u001b[0;31mUnicodeDecodeError\u001b[0m                        Traceback (most recent call last)",
      "File \u001b[0;32m~/.julia/packages/PythonCall/WMWY0/src/JlWrap/any.jl:262\u001b[0m, in \u001b[0;36m__call__\u001b[0;34m(self, *args, **kwargs)\u001b[0m\n\u001b[1;32m    260\u001b[0m     return ValueBase.__dir__(self) + self._jl_callmethod($(pyjl_methodnum(pyjlany_dir)))\n\u001b[1;32m    261\u001b[0m def __call__(self, *args, **kwargs):\n\u001b[0;32m--> 262\u001b[0m     return self._jl_callmethod($(pyjl_methodnum(pyjlany_call)), args, kwargs)\n\u001b[1;32m    263\u001b[0m def __bool__(self):\n\u001b[1;32m    264\u001b[0m     return True\n",
      "\u001b[0;31mUnicodeDecodeError\u001b[0m: 'utf-8' codec can't decode bytes in position 4094-4095: unexpected end of data"
     ]
    }
   ],
   "source": [
    "def plot_data(pruning_amount, pre_acc, post_acc):\n",
    "    plt.figure(figsize=(15, 5))\n",
    "    plt.plot(pruning_amount, pre_acc, 'o-', label='Pre-fine-tuning accuracy', color='red')\n",
    "    plt.plot(pruning_amount, post_acc, 'o-', label='Post-fine-tuning pruning accuracy', color='green')\n",
    "    plt.xlabel('Pruning Amount')\n",
    "    plt.ylabel('Accuracy')\n",
    "    plt.legend()\n",
    "    plt.show()\n"
   ]
  },
  {
   "cell_type": "code",
   "execution_count": 848,
   "id": "f89f76c6",
   "metadata": {},
   "outputs": [
    {
     "name": "stdout",
     "output_type": "stream",
     "text": [
      "../results/VGG11_results.csv 60 60 60\n",
      "../results/VGG13_results.csv 60 60 60\n",
      "../results/VGG16_results.csv 59 59 59\n",
      "../results/VGG19_results.csv 60 60 60\n",
      "../results/AlexNet_results.csv 60 60 60\n",
      "Error in callback _flush_stdio (for post_execute), with arguments args (),kwargs {}:\n"
     ]
    },
    {
     "ename": "UnicodeDecodeError",
     "evalue": "'utf-8' codec can't decode bytes in position 4094-4095: unexpected end of data",
     "output_type": "error",
     "traceback": [
      "\u001b[0;31m---------------------------------------------------------------------------\u001b[0m",
      "\u001b[0;31mUnicodeDecodeError\u001b[0m                        Traceback (most recent call last)",
      "File \u001b[0;32m~/.julia/packages/PythonCall/WMWY0/src/JlWrap/any.jl:262\u001b[0m, in \u001b[0;36m__call__\u001b[0;34m(self, *args, **kwargs)\u001b[0m\n\u001b[1;32m    260\u001b[0m     return ValueBase.__dir__(self) + self._jl_callmethod($(pyjl_methodnum(pyjlany_dir)))\n\u001b[1;32m    261\u001b[0m def __call__(self, *args, **kwargs):\n\u001b[0;32m--> 262\u001b[0m     return self._jl_callmethod($(pyjl_methodnum(pyjlany_call)), args, kwargs)\n\u001b[1;32m    263\u001b[0m def __bool__(self):\n\u001b[1;32m    264\u001b[0m     return True\n",
      "\u001b[0;31mUnicodeDecodeError\u001b[0m: 'utf-8' codec can't decode bytes in position 4094-4095: unexpected end of data"
     ]
    }
   ],
   "source": [
    "models_data = []\n",
    "\n",
    "data_paths = [\n",
    "    '../results/VGG11_results.csv',\n",
    "    '../results/VGG13_results.csv',\n",
    "    '../results/VGG16_results.csv',\n",
    "    '../results/VGG19_results.csv',\n",
    "    '../results/AlexNet_results.csv',\n",
    "]\n",
    "\n",
    "for data_path in data_paths:\n",
    "    models_data.append(read_data(data_path))"
   ]
  },
  {
   "cell_type": "code",
   "execution_count": 849,
   "id": "573e2c1c",
   "metadata": {},
   "outputs": [
    {
     "name": "stdout",
     "output_type": "stream",
     "text": [
      "Error in callback _flush_stdio (for post_execute), with arguments args (),kwargs {}:\n"
     ]
    },
    {
     "ename": "UnicodeDecodeError",
     "evalue": "'utf-8' codec can't decode bytes in position 4094-4095: unexpected end of data",
     "output_type": "error",
     "traceback": [
      "\u001b[0;31m---------------------------------------------------------------------------\u001b[0m",
      "\u001b[0;31mUnicodeDecodeError\u001b[0m                        Traceback (most recent call last)",
      "File \u001b[0;32m~/.julia/packages/PythonCall/WMWY0/src/JlWrap/any.jl:262\u001b[0m, in \u001b[0;36m__call__\u001b[0;34m(self, *args, **kwargs)\u001b[0m\n\u001b[1;32m    260\u001b[0m     return ValueBase.__dir__(self) + self._jl_callmethod($(pyjl_methodnum(pyjlany_dir)))\n\u001b[1;32m    261\u001b[0m def __call__(self, *args, **kwargs):\n\u001b[0;32m--> 262\u001b[0m     return self._jl_callmethod($(pyjl_methodnum(pyjlany_call)), args, kwargs)\n\u001b[1;32m    263\u001b[0m def __bool__(self):\n\u001b[1;32m    264\u001b[0m     return True\n",
      "\u001b[0;31mUnicodeDecodeError\u001b[0m: 'utf-8' codec can't decode bytes in position 4094-4095: unexpected end of data"
     ]
    }
   ],
   "source": [
    "X, y = [], []\n",
    "\n",
    "for pruning, pre_acc, post_acc in models_data:\n",
    "    initial_index = pruning.index(0)\n",
    "    initial_acc = pre_acc[initial_index]\n",
    "    \n",
    "    for p, pre, post in zip(pruning, pre_acc, post_acc):\n",
    "        X.append([p, pre, initial_acc])\n",
    "        y.append(post)"
   ]
  },
  {
   "cell_type": "code",
   "execution_count": 850,
   "id": "4b4ed6d0",
   "metadata": {},
   "outputs": [
    {
     "name": "stdout",
     "output_type": "stream",
     "text": [
      "Error in callback _flush_stdio (for post_execute), with arguments args (),kwargs {}:\n"
     ]
    },
    {
     "ename": "UnicodeDecodeError",
     "evalue": "'utf-8' codec can't decode bytes in position 4094-4095: unexpected end of data",
     "output_type": "error",
     "traceback": [
      "\u001b[0;31m---------------------------------------------------------------------------\u001b[0m",
      "\u001b[0;31mUnicodeDecodeError\u001b[0m                        Traceback (most recent call last)",
      "File \u001b[0;32m~/.julia/packages/PythonCall/WMWY0/src/JlWrap/any.jl:262\u001b[0m, in \u001b[0;36m__call__\u001b[0;34m(self, *args, **kwargs)\u001b[0m\n\u001b[1;32m    260\u001b[0m     return ValueBase.__dir__(self) + self._jl_callmethod($(pyjl_methodnum(pyjlany_dir)))\n\u001b[1;32m    261\u001b[0m def __call__(self, *args, **kwargs):\n\u001b[0;32m--> 262\u001b[0m     return self._jl_callmethod($(pyjl_methodnum(pyjlany_call)), args, kwargs)\n\u001b[1;32m    263\u001b[0m def __bool__(self):\n\u001b[1;32m    264\u001b[0m     return True\n",
      "\u001b[0;31mUnicodeDecodeError\u001b[0m: 'utf-8' codec can't decode bytes in position 4094-4095: unexpected end of data"
     ]
    }
   ],
   "source": [
    "X = torch.tensor(X, dtype=torch.float32)\n",
    "y = torch.tensor(y, dtype=torch.float32).unsqueeze(1)"
   ]
  },
  {
   "cell_type": "code",
   "execution_count": 851,
   "id": "d6138e91",
   "metadata": {},
   "outputs": [
    {
     "name": "stdout",
     "output_type": "stream",
     "text": [
      "Error in callback _flush_stdio (for post_execute), with arguments args (),kwargs {}:\n"
     ]
    },
    {
     "ename": "UnicodeDecodeError",
     "evalue": "'utf-8' codec can't decode bytes in position 4094-4095: unexpected end of data",
     "output_type": "error",
     "traceback": [
      "\u001b[0;31m---------------------------------------------------------------------------\u001b[0m",
      "\u001b[0;31mUnicodeDecodeError\u001b[0m                        Traceback (most recent call last)",
      "File \u001b[0;32m~/.julia/packages/PythonCall/WMWY0/src/JlWrap/any.jl:262\u001b[0m, in \u001b[0;36m__call__\u001b[0;34m(self, *args, **kwargs)\u001b[0m\n\u001b[1;32m    260\u001b[0m     return ValueBase.__dir__(self) + self._jl_callmethod($(pyjl_methodnum(pyjlany_dir)))\n\u001b[1;32m    261\u001b[0m def __call__(self, *args, **kwargs):\n\u001b[0;32m--> 262\u001b[0m     return self._jl_callmethod($(pyjl_methodnum(pyjlany_call)), args, kwargs)\n\u001b[1;32m    263\u001b[0m def __bool__(self):\n\u001b[1;32m    264\u001b[0m     return True\n",
      "\u001b[0;31mUnicodeDecodeError\u001b[0m: 'utf-8' codec can't decode bytes in position 4094-4095: unexpected end of data"
     ]
    }
   ],
   "source": [
    "indices = torch.randperm(X.size(0))\n",
    "X = X[indices]\n",
    "y = y[indices]"
   ]
  },
  {
   "cell_type": "code",
   "execution_count": 852,
   "id": "36b56214",
   "metadata": {},
   "outputs": [
    {
     "data": {
      "text/plain": [
       "(tensor([ 0., 50., 50.]), tensor([51.8400]))"
      ]
     },
     "execution_count": 852,
     "metadata": {},
     "output_type": "execute_result"
    },
    {
     "name": "stdout",
     "output_type": "stream",
     "text": [
      "Error in callback _flush_stdio (for post_execute), with arguments args (),kwargs {}:\n"
     ]
    },
    {
     "ename": "UnicodeDecodeError",
     "evalue": "'utf-8' codec can't decode bytes in position 4094-4095: unexpected end of data",
     "output_type": "error",
     "traceback": [
      "\u001b[0;31m---------------------------------------------------------------------------\u001b[0m",
      "\u001b[0;31mUnicodeDecodeError\u001b[0m                        Traceback (most recent call last)",
      "File \u001b[0;32m~/.julia/packages/PythonCall/WMWY0/src/JlWrap/any.jl:262\u001b[0m, in \u001b[0;36m__call__\u001b[0;34m(self, *args, **kwargs)\u001b[0m\n\u001b[1;32m    260\u001b[0m     return ValueBase.__dir__(self) + self._jl_callmethod($(pyjl_methodnum(pyjlany_dir)))\n\u001b[1;32m    261\u001b[0m def __call__(self, *args, **kwargs):\n\u001b[0;32m--> 262\u001b[0m     return self._jl_callmethod($(pyjl_methodnum(pyjlany_call)), args, kwargs)\n\u001b[1;32m    263\u001b[0m def __bool__(self):\n\u001b[1;32m    264\u001b[0m     return True\n",
      "\u001b[0;31mUnicodeDecodeError\u001b[0m: 'utf-8' codec can't decode bytes in position 4094-4095: unexpected end of data"
     ]
    }
   ],
   "source": [
    "X[10], y[10]"
   ]
  },
  {
   "cell_type": "code",
   "execution_count": 853,
   "id": "82c222c0",
   "metadata": {},
   "outputs": [
    {
     "name": "stdout",
     "output_type": "stream",
     "text": [
      "Error in callback _flush_stdio (for post_execute), with arguments args (),kwargs {}:\n"
     ]
    },
    {
     "ename": "UnicodeDecodeError",
     "evalue": "'utf-8' codec can't decode bytes in position 4094-4095: unexpected end of data",
     "output_type": "error",
     "traceback": [
      "\u001b[0;31m---------------------------------------------------------------------------\u001b[0m",
      "\u001b[0;31mUnicodeDecodeError\u001b[0m                        Traceback (most recent call last)",
      "File \u001b[0;32m~/.julia/packages/PythonCall/WMWY0/src/JlWrap/any.jl:262\u001b[0m, in \u001b[0;36m__call__\u001b[0;34m(self, *args, **kwargs)\u001b[0m\n\u001b[1;32m    260\u001b[0m     return ValueBase.__dir__(self) + self._jl_callmethod($(pyjl_methodnum(pyjlany_dir)))\n\u001b[1;32m    261\u001b[0m def __call__(self, *args, **kwargs):\n\u001b[0;32m--> 262\u001b[0m     return self._jl_callmethod($(pyjl_methodnum(pyjlany_call)), args, kwargs)\n\u001b[1;32m    263\u001b[0m def __bool__(self):\n\u001b[1;32m    264\u001b[0m     return True\n",
      "\u001b[0;31mUnicodeDecodeError\u001b[0m: 'utf-8' codec can't decode bytes in position 4094-4095: unexpected end of data"
     ]
    }
   ],
   "source": [
    "scaler_X = MinMaxScaler()\n",
    "X = torch.tensor(scaler_X.fit_transform(X), dtype=torch.float32)\n",
    "\n",
    "scaler_y = MinMaxScaler()\n",
    "y = torch.tensor(scaler_y.fit_transform(y), dtype=torch.float32)"
   ]
  },
  {
   "cell_type": "code",
   "execution_count": 854,
   "id": "3f726654",
   "metadata": {},
   "outputs": [
    {
     "name": "stdout",
     "output_type": "stream",
     "text": [
      "Error in callback _flush_stdio (for post_execute), with arguments args (),kwargs {}:\n"
     ]
    },
    {
     "ename": "UnicodeDecodeError",
     "evalue": "'utf-8' codec can't decode bytes in position 4094-4095: unexpected end of data",
     "output_type": "error",
     "traceback": [
      "\u001b[0;31m---------------------------------------------------------------------------\u001b[0m",
      "\u001b[0;31mUnicodeDecodeError\u001b[0m                        Traceback (most recent call last)",
      "File \u001b[0;32m~/.julia/packages/PythonCall/WMWY0/src/JlWrap/any.jl:262\u001b[0m, in \u001b[0;36m__call__\u001b[0;34m(self, *args, **kwargs)\u001b[0m\n\u001b[1;32m    260\u001b[0m     return ValueBase.__dir__(self) + self._jl_callmethod($(pyjl_methodnum(pyjlany_dir)))\n\u001b[1;32m    261\u001b[0m def __call__(self, *args, **kwargs):\n\u001b[0;32m--> 262\u001b[0m     return self._jl_callmethod($(pyjl_methodnum(pyjlany_call)), args, kwargs)\n\u001b[1;32m    263\u001b[0m def __bool__(self):\n\u001b[1;32m    264\u001b[0m     return True\n",
      "\u001b[0;31mUnicodeDecodeError\u001b[0m: 'utf-8' codec can't decode bytes in position 4094-4095: unexpected end of data"
     ]
    }
   ],
   "source": [
    "class LearnData(nn.Module):\n",
    "    def __init__(self):\n",
    "        super(LearnData, self).__init__()\n",
    "        self.net = nn.Sequential(\n",
    "            nn.Linear(3, 32),\n",
    "            nn.ReLU(),\n",
    "            nn.Linear(32, 16),\n",
    "            nn.ReLU(),\n",
    "            nn.Linear(16, 1),\n",
    "        )\n",
    "    def forward(self, x):\n",
    "        x = self.net(x)\n",
    "        return torch.abs(x)"
   ]
  },
  {
   "cell_type": "code",
   "execution_count": 855,
   "id": "e6609f4b",
   "metadata": {},
   "outputs": [
    {
     "name": "stdout",
     "output_type": "stream",
     "text": [
      "Error in callback _flush_stdio (for post_execute), with arguments args (),kwargs {}:\n"
     ]
    },
    {
     "ename": "UnicodeDecodeError",
     "evalue": "'utf-8' codec can't decode bytes in position 4094-4095: unexpected end of data",
     "output_type": "error",
     "traceback": [
      "\u001b[0;31m---------------------------------------------------------------------------\u001b[0m",
      "\u001b[0;31mUnicodeDecodeError\u001b[0m                        Traceback (most recent call last)",
      "File \u001b[0;32m~/.julia/packages/PythonCall/WMWY0/src/JlWrap/any.jl:262\u001b[0m, in \u001b[0;36m__call__\u001b[0;34m(self, *args, **kwargs)\u001b[0m\n\u001b[1;32m    260\u001b[0m     return ValueBase.__dir__(self) + self._jl_callmethod($(pyjl_methodnum(pyjlany_dir)))\n\u001b[1;32m    261\u001b[0m def __call__(self, *args, **kwargs):\n\u001b[0;32m--> 262\u001b[0m     return self._jl_callmethod($(pyjl_methodnum(pyjlany_call)), args, kwargs)\n\u001b[1;32m    263\u001b[0m def __bool__(self):\n\u001b[1;32m    264\u001b[0m     return True\n",
      "\u001b[0;31mUnicodeDecodeError\u001b[0m: 'utf-8' codec can't decode bytes in position 4094-4095: unexpected end of data"
     ]
    }
   ],
   "source": [
    "model = LearnData()\n",
    "optimizer = optim.Adam(model.parameters(), lr=1e-3)\n",
    "criterion = nn.MSELoss()\n",
    "\n",
    "model.to('mps')\n",
    "X = X.to('mps')\n",
    "y = y.to('mps')"
   ]
  },
  {
   "cell_type": "code",
   "execution_count": 856,
   "id": "e39aae7e",
   "metadata": {},
   "outputs": [
    {
     "name": "stdout",
     "output_type": "stream",
     "text": [
      "Error in callback _flush_stdio (for post_execute), with arguments args (),kwargs {}:\n"
     ]
    },
    {
     "ename": "UnicodeDecodeError",
     "evalue": "'utf-8' codec can't decode bytes in position 4094-4095: unexpected end of data",
     "output_type": "error",
     "traceback": [
      "\u001b[0;31m---------------------------------------------------------------------------\u001b[0m",
      "\u001b[0;31mUnicodeDecodeError\u001b[0m                        Traceback (most recent call last)",
      "File \u001b[0;32m~/.julia/packages/PythonCall/WMWY0/src/JlWrap/any.jl:262\u001b[0m, in \u001b[0;36m__call__\u001b[0;34m(self, *args, **kwargs)\u001b[0m\n\u001b[1;32m    260\u001b[0m     return ValueBase.__dir__(self) + self._jl_callmethod($(pyjl_methodnum(pyjlany_dir)))\n\u001b[1;32m    261\u001b[0m def __call__(self, *args, **kwargs):\n\u001b[0;32m--> 262\u001b[0m     return self._jl_callmethod($(pyjl_methodnum(pyjlany_call)), args, kwargs)\n\u001b[1;32m    263\u001b[0m def __bool__(self):\n\u001b[1;32m    264\u001b[0m     return True\n",
      "\u001b[0;31mUnicodeDecodeError\u001b[0m: 'utf-8' codec can't decode bytes in position 4094-4095: unexpected end of data"
     ]
    }
   ],
   "source": [
    "torch.save(model, 'learn_data.pth')"
   ]
  },
  {
   "cell_type": "code",
   "execution_count": 857,
   "id": "41b9b274",
   "metadata": {},
   "outputs": [
    {
     "name": "stdout",
     "output_type": "stream",
     "text": [
      "Train Size: 239\n",
      "Test Size: 60\n",
      "Error in callback _flush_stdio (for post_execute), with arguments args (),kwargs {}:\n"
     ]
    },
    {
     "ename": "UnicodeDecodeError",
     "evalue": "'utf-8' codec can't decode bytes in position 4094-4095: unexpected end of data",
     "output_type": "error",
     "traceback": [
      "\u001b[0;31m---------------------------------------------------------------------------\u001b[0m",
      "\u001b[0;31mUnicodeDecodeError\u001b[0m                        Traceback (most recent call last)",
      "File \u001b[0;32m~/.julia/packages/PythonCall/WMWY0/src/JlWrap/any.jl:262\u001b[0m, in \u001b[0;36m__call__\u001b[0;34m(self, *args, **kwargs)\u001b[0m\n\u001b[1;32m    260\u001b[0m     return ValueBase.__dir__(self) + self._jl_callmethod($(pyjl_methodnum(pyjlany_dir)))\n\u001b[1;32m    261\u001b[0m def __call__(self, *args, **kwargs):\n\u001b[0;32m--> 262\u001b[0m     return self._jl_callmethod($(pyjl_methodnum(pyjlany_call)), args, kwargs)\n\u001b[1;32m    263\u001b[0m def __bool__(self):\n\u001b[1;32m    264\u001b[0m     return True\n",
      "\u001b[0;31mUnicodeDecodeError\u001b[0m: 'utf-8' codec can't decode bytes in position 4094-4095: unexpected end of data"
     ]
    }
   ],
   "source": [
    "train_size = int(len(X) * 0.8)\n",
    "X_train = X[:train_size]\n",
    "y_train = y[:train_size]\n",
    "X_test = X[train_size:]\n",
    "y_test = y[train_size:]\n",
    "print(f\"Train Size: {len(X_train)}\")\n",
    "print(f\"Test Size: {len(X_test)}\")"
   ]
  },
  {
   "cell_type": "code",
   "execution_count": 858,
   "id": "374e8818",
   "metadata": {},
   "outputs": [
    {
     "name": "stdout",
     "output_type": "stream",
     "text": [
      "Error in callback _flush_stdio (for post_execute), with arguments args (),kwargs {}:\n"
     ]
    },
    {
     "ename": "UnicodeDecodeError",
     "evalue": "'utf-8' codec can't decode bytes in position 4094-4095: unexpected end of data",
     "output_type": "error",
     "traceback": [
      "\u001b[0;31m---------------------------------------------------------------------------\u001b[0m",
      "\u001b[0;31mUnicodeDecodeError\u001b[0m                        Traceback (most recent call last)",
      "File \u001b[0;32m~/.julia/packages/PythonCall/WMWY0/src/JlWrap/any.jl:262\u001b[0m, in \u001b[0;36m__call__\u001b[0;34m(self, *args, **kwargs)\u001b[0m\n\u001b[1;32m    260\u001b[0m     return ValueBase.__dir__(self) + self._jl_callmethod($(pyjl_methodnum(pyjlany_dir)))\n\u001b[1;32m    261\u001b[0m def __call__(self, *args, **kwargs):\n\u001b[0;32m--> 262\u001b[0m     return self._jl_callmethod($(pyjl_methodnum(pyjlany_call)), args, kwargs)\n\u001b[1;32m    263\u001b[0m def __bool__(self):\n\u001b[1;32m    264\u001b[0m     return True\n",
      "\u001b[0;31mUnicodeDecodeError\u001b[0m: 'utf-8' codec can't decode bytes in position 4094-4095: unexpected end of data"
     ]
    }
   ],
   "source": [
    "num_epochs = 1000"
   ]
  },
  {
   "cell_type": "code",
   "execution_count": 859,
   "id": "3d88f197",
   "metadata": {},
   "outputs": [
    {
     "name": "stdout",
     "output_type": "stream",
     "text": [
      "Epoch [0/1000], Loss: 0.1935\n",
      "Epoch [100/1000], Loss: 0.0119\n",
      "Epoch [200/1000], Loss: 0.0050\n",
      "Epoch [300/1000], Loss: 0.0034\n",
      "Epoch [400/1000], Loss: 0.0026\n",
      "Epoch [500/1000], Loss: 0.0023\n",
      "Epoch [600/1000], Loss: 0.0022\n",
      "Epoch [700/1000], Loss: 0.0021\n",
      "Epoch [800/1000], Loss: 0.0020\n",
      "Epoch [900/1000], Loss: 0.0020\n",
      "Error in callback _flush_stdio (for post_execute), with arguments args (),kwargs {}:\n"
     ]
    },
    {
     "ename": "UnicodeDecodeError",
     "evalue": "'utf-8' codec can't decode bytes in position 4094-4095: unexpected end of data",
     "output_type": "error",
     "traceback": [
      "\u001b[0;31m---------------------------------------------------------------------------\u001b[0m",
      "\u001b[0;31mUnicodeDecodeError\u001b[0m                        Traceback (most recent call last)",
      "File \u001b[0;32m~/.julia/packages/PythonCall/WMWY0/src/JlWrap/any.jl:262\u001b[0m, in \u001b[0;36m__call__\u001b[0;34m(self, *args, **kwargs)\u001b[0m\n\u001b[1;32m    260\u001b[0m     return ValueBase.__dir__(self) + self._jl_callmethod($(pyjl_methodnum(pyjlany_dir)))\n\u001b[1;32m    261\u001b[0m def __call__(self, *args, **kwargs):\n\u001b[0;32m--> 262\u001b[0m     return self._jl_callmethod($(pyjl_methodnum(pyjlany_call)), args, kwargs)\n\u001b[1;32m    263\u001b[0m def __bool__(self):\n\u001b[1;32m    264\u001b[0m     return True\n",
      "\u001b[0;31mUnicodeDecodeError\u001b[0m: 'utf-8' codec can't decode bytes in position 4094-4095: unexpected end of data"
     ]
    }
   ],
   "source": [
    "for epoch in range(num_epochs):\n",
    "    model.train()\n",
    "    optimizer.zero_grad()\n",
    "    outputs = model(X_train)\n",
    "    loss = criterion(outputs, y_train)\n",
    "    loss.backward()\n",
    "    optimizer.step()\n",
    "    \n",
    "    if epoch%100 == 0:\n",
    "        print(f'Epoch [{epoch}/{num_epochs}], Loss: {loss.item():.4f}')"
   ]
  },
  {
   "cell_type": "code",
   "execution_count": 860,
   "id": "6e3613ce",
   "metadata": {},
   "outputs": [
    {
     "data": {
      "text/plain": [
       "(60, 60)"
      ]
     },
     "execution_count": 860,
     "metadata": {},
     "output_type": "execute_result"
    },
    {
     "name": "stdout",
     "output_type": "stream",
     "text": [
      "Error in callback _flush_stdio (for post_execute), with arguments args (),kwargs {}:\n"
     ]
    },
    {
     "ename": "UnicodeDecodeError",
     "evalue": "'utf-8' codec can't decode bytes in position 4094-4095: unexpected end of data",
     "output_type": "error",
     "traceback": [
      "\u001b[0;31m---------------------------------------------------------------------------\u001b[0m",
      "\u001b[0;31mUnicodeDecodeError\u001b[0m                        Traceback (most recent call last)",
      "File \u001b[0;32m~/.julia/packages/PythonCall/WMWY0/src/JlWrap/any.jl:262\u001b[0m, in \u001b[0;36m__call__\u001b[0;34m(self, *args, **kwargs)\u001b[0m\n\u001b[1;32m    260\u001b[0m     return ValueBase.__dir__(self) + self._jl_callmethod($(pyjl_methodnum(pyjlany_dir)))\n\u001b[1;32m    261\u001b[0m def __call__(self, *args, **kwargs):\n\u001b[0;32m--> 262\u001b[0m     return self._jl_callmethod($(pyjl_methodnum(pyjlany_call)), args, kwargs)\n\u001b[1;32m    263\u001b[0m def __bool__(self):\n\u001b[1;32m    264\u001b[0m     return True\n",
      "\u001b[0;31mUnicodeDecodeError\u001b[0m: 'utf-8' codec can't decode bytes in position 4094-4095: unexpected end of data"
     ]
    }
   ],
   "source": [
    "len(X_test), len(y_test)"
   ]
  },
  {
   "cell_type": "code",
   "execution_count": 861,
   "id": "162e162b",
   "metadata": {},
   "outputs": [
    {
     "name": "stdout",
     "output_type": "stream",
     "text": [
      "Error in callback _flush_stdio (for post_execute), with arguments args (),kwargs {}:\n"
     ]
    },
    {
     "ename": "UnicodeDecodeError",
     "evalue": "'utf-8' codec can't decode bytes in position 4094-4095: unexpected end of data",
     "output_type": "error",
     "traceback": [
      "\u001b[0;31m---------------------------------------------------------------------------\u001b[0m",
      "\u001b[0;31mUnicodeDecodeError\u001b[0m                        Traceback (most recent call last)",
      "File \u001b[0;32m~/.julia/packages/PythonCall/WMWY0/src/JlWrap/any.jl:262\u001b[0m, in \u001b[0;36m__call__\u001b[0;34m(self, *args, **kwargs)\u001b[0m\n\u001b[1;32m    260\u001b[0m     return ValueBase.__dir__(self) + self._jl_callmethod($(pyjl_methodnum(pyjlany_dir)))\n\u001b[1;32m    261\u001b[0m def __call__(self, *args, **kwargs):\n\u001b[0;32m--> 262\u001b[0m     return self._jl_callmethod($(pyjl_methodnum(pyjlany_call)), args, kwargs)\n\u001b[1;32m    263\u001b[0m def __bool__(self):\n\u001b[1;32m    264\u001b[0m     return True\n",
      "\u001b[0;31mUnicodeDecodeError\u001b[0m: 'utf-8' codec can't decode bytes in position 4094-4095: unexpected end of data"
     ]
    }
   ],
   "source": [
    "# Getting 30 random samples\n",
    "import random\n",
    "random.seed(42)\n",
    "\n",
    "indices = random.sample(range(len(X_test)), (len(X_test)-10))\n",
    "X_test_samples = X_test[indices]\n",
    "y_test_samples = y_test[indices]"
   ]
  },
  {
   "cell_type": "code",
   "execution_count": 862,
   "id": "013d9711",
   "metadata": {},
   "outputs": [
    {
     "name": "stdout",
     "output_type": "stream",
     "text": [
      "Predicted: 7.64% \t\t Actual: 1.76%, \t\t\t Error: 5.88%, \t\tFor Pruning Amount: 46.0%\n",
      "Predicted: 19.56% \t\t Actual: 19.85%, \t\t\t Error: 0.29%, \t\tFor Pruning Amount: 33.0%\n",
      "Predicted: 48.16% \t\t Actual: 45.18%, \t\t\t Error: 2.98%, \t\tFor Pruning Amount: 16.0%\n",
      "Predicted: 2.08% \t\t Actual: 0.34%, \t\t\t Error: 1.74%, \t\tFor Pruning Amount: 57.0%\n",
      "Predicted: 39.09% \t\t Actual: 38.80%, \t\t\t Error: 0.29%, \t\tFor Pruning Amount: 21.0%\n",
      "Predicted: 35.42% \t\t Actual: 33.78%, \t\t\t Error: 1.64%, \t\tFor Pruning Amount: 32.0%\n",
      "Predicted: 32.59% \t\t Actual: 31.19%, \t\t\t Error: 1.40%, \t\tFor Pruning Amount: 28.0%\n",
      "Predicted: 4.31% \t\t Actual: 1.09%, \t\t\t Error: 3.22%, \t\tFor Pruning Amount: 50.0%\n",
      "Predicted: 32.86% \t\t Actual: 34.64%, \t\t\t Error: 1.78%, \t\tFor Pruning Amount: 31.0%\n",
      "Predicted: 8.08% \t\t Actual: 3.80%, \t\t\t Error: 4.28%, \t\tFor Pruning Amount: 42.0%\n",
      "Predicted: 2.70% \t\t Actual: 1.60%, \t\t\t Error: 1.10%, \t\tFor Pruning Amount: 48.0%\n",
      "Predicted: 20.32% \t\t Actual: 15.80%, \t\t\t Error: 4.52%, \t\tFor Pruning Amount: 36.0%\n",
      "Predicted: 52.58% \t\t Actual: 54.09%, \t\t\t Error: 1.51%, \t\tFor Pruning Amount: 11.0%\n",
      "Predicted: 45.52% \t\t Actual: 49.51%, \t\t\t Error: 3.99%, \t\tFor Pruning Amount: 20.0%\n",
      "Predicted: 35.37% \t\t Actual: 33.56%, \t\t\t Error: 1.81%, \t\tFor Pruning Amount: 26.0%\n",
      "Predicted: 3.30% \t\t Actual: 0.91%, \t\t\t Error: 2.39%, \t\tFor Pruning Amount: 51.0%\n",
      "Predicted: 37.27% \t\t Actual: 36.20%, \t\t\t Error: 1.07%, \t\tFor Pruning Amount: 13.0%\n",
      "Predicted: 31.78% \t\t Actual: 29.56%, \t\t\t Error: 2.22%, \t\tFor Pruning Amount: 35.0%\n",
      "Predicted: 21.38% \t\t Actual: 25.08%, \t\t\t Error: 3.70%, \t\tFor Pruning Amount: 38.0%\n",
      "Predicted: 43.29% \t\t Actual: 47.72%, \t\t\t Error: 4.43%, \t\tFor Pruning Amount: 22.0%\n",
      "Predicted: 50.11% \t\t Actual: 49.23%, \t\t\t Error: 0.88%, \t\tFor Pruning Amount: 14.0%\n",
      "Predicted: 12.82% \t\t Actual: 15.00%, \t\t\t Error: 2.18%, \t\tFor Pruning Amount: 44.0%\n",
      "Predicted: 18.05% \t\t Actual: 23.85%, \t\t\t Error: 5.80%, \t\tFor Pruning Amount: 41.0%\n",
      "Predicted: 50.08% \t\t Actual: 49.27%, \t\t\t Error: 0.81%, \t\tFor Pruning Amount: 14.0%\n",
      "Predicted: 15.87% \t\t Actual: 20.23%, \t\t\t Error: 4.36%, \t\tFor Pruning Amount: 42.0%\n",
      "Predicted: 42.05% \t\t Actual: 40.90%, \t\t\t Error: 1.15%, \t\tFor Pruning Amount: 21.0%\n",
      "Predicted: 17.61% \t\t Actual: 9.86%, \t\t\t Error: 7.75%, \t\tFor Pruning Amount: 38.0%\n",
      "Predicted: 50.18% \t\t Actual: 51.06%, \t\t\t Error: 0.88%, \t\tFor Pruning Amount: 13.0%\n",
      "Predicted: 14.56% \t\t Actual: 9.92%, \t\t\t Error: 4.64%, \t\tFor Pruning Amount: 40.0%\n",
      "Predicted: 42.85% \t\t Actual: 41.96%, \t\t\t Error: 0.89%, \t\tFor Pruning Amount: 23.0%\n",
      "Predicted: 35.84% \t\t Actual: 33.25%, \t\t\t Error: 2.59%, \t\tFor Pruning Amount: 17.0%\n",
      "Predicted: 36.16% \t\t Actual: 34.21%, \t\t\t Error: 1.95%, \t\tFor Pruning Amount: 31.0%\n",
      "Predicted: 5.90% \t\t Actual: 0.90%, \t\t\t Error: 5.00%, \t\tFor Pruning Amount: 48.0%\n",
      "Predicted: 41.00% \t\t Actual: 39.77%, \t\t\t Error: 1.23%, \t\tFor Pruning Amount: 25.0%\n",
      "Predicted: 42.86% \t\t Actual: 43.70%, \t\t\t Error: 0.84%, \t\tFor Pruning Amount: 18.0%\n",
      "Predicted: 44.93% \t\t Actual: 47.75%, \t\t\t Error: 2.82%, \t\tFor Pruning Amount: 19.0%\n",
      "Predicted: 45.58% \t\t Actual: 43.69%, \t\t\t Error: 1.89%, \t\tFor Pruning Amount: 18.0%\n",
      "Predicted: 15.27% \t\t Actual: 14.06%, \t\t\t Error: 1.21%, \t\tFor Pruning Amount: 47.0%\n",
      "Predicted: 13.64% \t\t Actual: 11.21%, \t\t\t Error: 2.43%, \t\tFor Pruning Amount: 48.0%\n",
      "Predicted: 49.94% \t\t Actual: 48.94%, \t\t\t Error: 1.00%, \t\tFor Pruning Amount: 16.0%\n",
      "Predicted: 52.13% \t\t Actual: 48.90%, \t\t\t Error: 3.23%, \t\tFor Pruning Amount: 10.0%\n",
      "Predicted: 22.21% \t\t Actual: 20.63%, \t\t\t Error: 1.58%, \t\tFor Pruning Amount: 42.0%\n",
      "Predicted: 25.25% \t\t Actual: 24.07%, \t\t\t Error: 1.18%, \t\tFor Pruning Amount: 40.0%\n",
      "Predicted: 11.00% \t\t Actual: 11.19%, \t\t\t Error: 0.19%, \t\tFor Pruning Amount: 52.0%\n",
      "Predicted: 9.23% \t\t Actual: 4.09%, \t\t\t Error: 5.14%, \t\tFor Pruning Amount: 52.0%\n",
      "Predicted: 0.94% \t\t Actual: 0.80%, \t\t\t Error: 0.14%, \t\tFor Pruning Amount: 52.0%\n",
      "Predicted: 9.44% \t\t Actual: 8.66%, \t\t\t Error: 0.78%, \t\tFor Pruning Amount: 54.0%\n",
      "Predicted: 34.98% \t\t Actual: 33.85%, \t\t\t Error: 1.13%, \t\tFor Pruning Amount: 18.0%\n",
      "Predicted: 53.68% \t\t Actual: 53.23%, \t\t\t Error: 0.45%, \t\tFor Pruning Amount: 9.0%\n",
      "Predicted: 22.54% \t\t Actual: 26.65%, \t\t\t Error: 4.11%, \t\tFor Pruning Amount: 31.0%\n",
      "Error in callback _flush_stdio (for post_execute), with arguments args (),kwargs {}:\n"
     ]
    },
    {
     "ename": "UnicodeDecodeError",
     "evalue": "'utf-8' codec can't decode bytes in position 4094-4095: unexpected end of data",
     "output_type": "error",
     "traceback": [
      "\u001b[0;31m---------------------------------------------------------------------------\u001b[0m",
      "\u001b[0;31mUnicodeDecodeError\u001b[0m                        Traceback (most recent call last)",
      "File \u001b[0;32m~/.julia/packages/PythonCall/WMWY0/src/JlWrap/any.jl:262\u001b[0m, in \u001b[0;36m__call__\u001b[0;34m(self, *args, **kwargs)\u001b[0m\n\u001b[1;32m    260\u001b[0m     return ValueBase.__dir__(self) + self._jl_callmethod($(pyjl_methodnum(pyjlany_dir)))\n\u001b[1;32m    261\u001b[0m def __call__(self, *args, **kwargs):\n\u001b[0;32m--> 262\u001b[0m     return self._jl_callmethod($(pyjl_methodnum(pyjlany_call)), args, kwargs)\n\u001b[1;32m    263\u001b[0m def __bool__(self):\n\u001b[1;32m    264\u001b[0m     return True\n",
      "\u001b[0;31mUnicodeDecodeError\u001b[0m: 'utf-8' codec can't decode bytes in position 4094-4095: unexpected end of data"
     ]
    }
   ],
   "source": [
    "model.eval()\n",
    "max_error = 0.0\n",
    "errors = []\n",
    "\n",
    "preds, actuals = [], []\n",
    "\n",
    "with torch.no_grad():\n",
    "    pred = model(X_test_samples)\n",
    "    pred = scaler_y.inverse_transform(pred.cpu().numpy())\n",
    "    y_30_actual = scaler_y.inverse_transform(y_test_samples.cpu().numpy())\n",
    "    X_30_actal = scaler_X.inverse_transform(X_test_samples.cpu().numpy())\n",
    "    for i in range(len(pred)):\n",
    "        error = abs(float(((pred[i] - y_30_actual[i])).item()))\n",
    "        if error >= max_error:\n",
    "            max_error = error\n",
    "        print(f\"Predicted: {pred[i].item():.2f}% \\t\\t Actual: {y_30_actual[i].item():.2f}%, \\t\\t\\t Error: {error:.2f}%, \\t\\tFor Pruning Amount: {X_30_actal[i][0]:.1f}%\")\n",
    "        preds.append(pred[i].item())\n",
    "        actuals.append(y_30_actual[i].item())\n",
    "        errors.append(error)"
   ]
  },
  {
   "cell_type": "code",
   "execution_count": 863,
   "id": "ccd74c1b",
   "metadata": {},
   "outputs": [
    {
     "name": "stdout",
     "output_type": "stream",
     "text": [
      "Max Error: 7.7454986572265625\n",
      "Mean Error: 2.368402497768402\n",
      "Error in callback _flush_stdio (for post_execute), with arguments args (),kwargs {}:\n"
     ]
    },
    {
     "ename": "UnicodeDecodeError",
     "evalue": "'utf-8' codec can't decode bytes in position 4094-4095: unexpected end of data",
     "output_type": "error",
     "traceback": [
      "\u001b[0;31m---------------------------------------------------------------------------\u001b[0m",
      "\u001b[0;31mUnicodeDecodeError\u001b[0m                        Traceback (most recent call last)",
      "File \u001b[0;32m~/.julia/packages/PythonCall/WMWY0/src/JlWrap/any.jl:262\u001b[0m, in \u001b[0;36m__call__\u001b[0;34m(self, *args, **kwargs)\u001b[0m\n\u001b[1;32m    260\u001b[0m     return ValueBase.__dir__(self) + self._jl_callmethod($(pyjl_methodnum(pyjlany_dir)))\n\u001b[1;32m    261\u001b[0m def __call__(self, *args, **kwargs):\n\u001b[0;32m--> 262\u001b[0m     return self._jl_callmethod($(pyjl_methodnum(pyjlany_call)), args, kwargs)\n\u001b[1;32m    263\u001b[0m def __bool__(self):\n\u001b[1;32m    264\u001b[0m     return True\n",
      "\u001b[0;31mUnicodeDecodeError\u001b[0m: 'utf-8' codec can't decode bytes in position 4094-4095: unexpected end of data"
     ]
    }
   ],
   "source": [
    "print(\"Max Error:\", max_error)\n",
    "print(\"Mean Error:\", np.mean(errors))"
   ]
  },
  {
   "cell_type": "code",
   "execution_count": 864,
   "id": "a30dd063",
   "metadata": {},
   "outputs": [
    {
     "data": {
      "image/png": "[encoded data removed]",
      "text/plain": [
       "<Figure size 1600x800 with 1 Axes>"
      ]
     },
     "metadata": {},
     "output_type": "display_data"
    },
    {
     "name": "stdout",
     "output_type": "stream",
     "text": [
      "Error in callback _flush_stdio (for post_execute), with arguments args (),kwargs {}:\n"
     ]
    },
    {
     "ename": "UnicodeDecodeError",
     "evalue": "'utf-8' codec can't decode bytes in position 4094-4095: unexpected end of data",
     "output_type": "error",
     "traceback": [
      "\u001b[0;31m---------------------------------------------------------------------------\u001b[0m",
      "\u001b[0;31mUnicodeDecodeError\u001b[0m                        Traceback (most recent call last)",
      "File \u001b[0;32m~/.julia/packages/PythonCall/WMWY0/src/JlWrap/any.jl:262\u001b[0m, in \u001b[0;36m__call__\u001b[0;34m(self, *args, **kwargs)\u001b[0m\n\u001b[1;32m    260\u001b[0m     return ValueBase.__dir__(self) + self._jl_callmethod($(pyjl_methodnum(pyjlany_dir)))\n\u001b[1;32m    261\u001b[0m def __call__(self, *args, **kwargs):\n\u001b[0;32m--> 262\u001b[0m     return self._jl_callmethod($(pyjl_methodnum(pyjlany_call)), args, kwargs)\n\u001b[1;32m    263\u001b[0m def __bool__(self):\n\u001b[1;32m    264\u001b[0m     return True\n",
      "\u001b[0;31mUnicodeDecodeError\u001b[0m: 'utf-8' codec can't decode bytes in position 4094-4095: unexpected end of data"
     ]
    }
   ],
   "source": [
    "plt.figure(figsize=(16, 8))\n",
    "plt.plot(preds, 'o-', label='Predicted', color='red', markersize=10)\n",
    "plt.plot(actuals, 'x-', label='Actual', color='blue', markersize=10)\n",
    "plt.plot(errors, 's-', label='Error', color='blue', markersize=3)\n",
    "plt.xlabel('Sample Index')\n",
    "plt.ylabel('Accuracy')\n",
    "plt.title('Predicted vs Actual Accuracy')\n",
    "plt.legend()\n",
    "plt.tight_layout()\n",
    "plt.show()"
   ]
  },
  {
   "cell_type": "code",
   "execution_count": 865,
   "id": "0a18cdaa",
   "metadata": {},
   "outputs": [
    {
     "name": "stdout",
     "output_type": "stream",
     "text": [
      "Error in callback _flush_stdio (for post_execute), with arguments args (),kwargs {}:\n"
     ]
    },
    {
     "ename": "UnicodeDecodeError",
     "evalue": "'utf-8' codec can't decode bytes in position 4094-4095: unexpected end of data",
     "output_type": "error",
     "traceback": [
      "\u001b[0;31m---------------------------------------------------------------------------\u001b[0m",
      "\u001b[0;31mUnicodeDecodeError\u001b[0m                        Traceback (most recent call last)",
      "File \u001b[0;32m~/.julia/packages/PythonCall/WMWY0/src/JlWrap/any.jl:262\u001b[0m, in \u001b[0;36m__call__\u001b[0;34m(self, *args, **kwargs)\u001b[0m\n\u001b[1;32m    260\u001b[0m     return ValueBase.__dir__(self) + self._jl_callmethod($(pyjl_methodnum(pyjlany_dir)))\n\u001b[1;32m    261\u001b[0m def __call__(self, *args, **kwargs):\n\u001b[0;32m--> 262\u001b[0m     return self._jl_callmethod($(pyjl_methodnum(pyjlany_call)), args, kwargs)\n\u001b[1;32m    263\u001b[0m def __bool__(self):\n\u001b[1;32m    264\u001b[0m     return True\n",
      "\u001b[0;31mUnicodeDecodeError\u001b[0m: 'utf-8' codec can't decode bytes in position 4094-4095: unexpected end of data"
     ]
    }
   ],
   "source": [
    "def save_to_csv(preds, actuals, filename):\n",
    "    with open(filename, 'w') as f:\n",
    "        f.write('Predicted,Actual\\n')\n",
    "        for pred, actual in zip(preds, actuals):\n",
    "            f.write(f'{pred},{actual}\\n')\n",
    "save_to_csv(preds, actuals, 'predictions.csv')"
   ]
  },
  {
   "cell_type": "code",
   "execution_count": 866,
   "id": "4c2541d6",
   "metadata": {},
   "outputs": [
    {
     "name": "stderr",
     "output_type": "stream",
     "text": [
      "/opt/homebrew/Caskroom/miniconda/base/envs/ML/lib/python3.10/site-packages/pysr/sr.py:2776: UserWarning: Note: it looks like you are running in Jupyter. The progress bar will be turned off.\n",
      "  warnings.warn(\n",
      "[ Info: Started!\n",
      "[ Info: Final population:\n",
      "[ Info: Results saved to:\n"
     ]
    },
    {
     "data": {
      "text/html": [
       "<style>#sk-container-id-14 {\n",
       "  /* Definition of color scheme common for light and dark mode */\n",
       "  --sklearn-color-text: #000;\n",
       "  --sklearn-color-text-muted: #666;\n",
       "  --sklearn-color-line: gray;\n",
       "  /* Definition of color scheme for unfitted estimators */\n",
       "  --sklearn-color-unfitted-level-0: #fff5e6;\n",
       "  --sklearn-color-unfitted-level-1: #f6e4d2;\n",
       "  --sklearn-color-unfitted-level-2: #ffe0b3;\n",
       "  --sklearn-color-unfitted-level-3: chocolate;\n",
       "  /* Definition of color scheme for fitted estimators */\n",
       "  --sklearn-color-fitted-level-0: #f0f8ff;\n",
       "  --sklearn-color-fitted-level-1: #d4ebff;\n",
       "  --sklearn-color-fitted-level-2: #b3dbfd;\n",
       "  --sklearn-color-fitted-level-3: cornflowerblue;\n",
       "\n",
       "  /* Specific color for light theme */\n",
       "  --sklearn-color-text-on-default-background: var(--sg-text-color, var(--theme-code-foreground, var(--jp-content-font-color1, black)));\n",
       "  --sklearn-color-background: var(--sg-background-color, var(--theme-background, var(--jp-layout-color0, white)));\n",
       "  --sklearn-color-border-box: var(--sg-text-color, var(--theme-code-foreground, var(--jp-content-font-color1, black)));\n",
       "  --sklearn-color-icon: #696969;\n",
       "\n",
       "  @media (prefers-color-scheme: dark) {\n",
       "    /* Redefinition of color scheme for dark theme */\n",
       "    --sklearn-color-text-on-default-background: var(--sg-text-color, var(--theme-code-foreground, var(--jp-content-font-color1, white)));\n",
       "    --sklearn-color-background: var(--sg-background-color, var(--theme-background, var(--jp-layout-color0, #111)));\n",
       "    --sklearn-color-border-box: var(--sg-text-color, var(--theme-code-foreground, var(--jp-content-font-color1, white)));\n",
       "    --sklearn-color-icon: #878787;\n",
       "  }\n",
       "}\n",
       "\n",
       "#sk-container-id-14 {\n",
       "  color: var(--sklearn-color-text);\n",
       "}\n",
       "\n",
       "#sk-container-id-14 pre {\n",
       "  padding: 0;\n",
       "}\n",
       "\n",
       "#sk-container-id-14 input.sk-hidden--visually {\n",
       "  border: 0;\n",
       "  clip: rect(1px 1px 1px 1px);\n",
       "  clip: rect(1px, 1px, 1px, 1px);\n",
       "  height: 1px;\n",
       "  margin: -1px;\n",
       "  overflow: hidden;\n",
       "  padding: 0;\n",
       "  position: absolute;\n",
       "  width: 1px;\n",
       "}\n",
       "\n",
       "#sk-container-id-14 div.sk-dashed-wrapped {\n",
       "  border: 1px dashed var(--sklearn-color-line);\n",
       "  margin: 0 0.4em 0.5em 0.4em;\n",
       "  box-sizing: border-box;\n",
       "  padding-bottom: 0.4em;\n",
       "  background-color: var(--sklearn-color-background);\n",
       "}\n",
       "\n",
       "#sk-container-id-14 div.sk-container {\n",
       "  /* jupyter's `normalize.less` sets `[hidden] { display: none; }`\n",
       "     but bootstrap.min.css set `[hidden] { display: none !important; }`\n",
       "     so we also need the `!important` here to be able to override the\n",
       "     default hidden behavior on the sphinx rendered scikit-learn.org.\n",
       "     See: https://github.com/scikit-learn/scikit-learn/issues/21755 */\n",
       "  display: inline-block !important;\n",
       "  position: relative;\n",
       "}\n",
       "\n",
       "#sk-container-id-14 div.sk-text-repr-fallback {\n",
       "  display: none;\n",
       "}\n",
       "\n",
       "div.sk-parallel-item,\n",
       "div.sk-serial,\n",
       "div.sk-item {\n",
       "  /* draw centered vertical line to link estimators */\n",
       "  background-image: linear-gradient(var(--sklearn-color-text-on-default-background), var(--sklearn-color-text-on-default-background));\n",
       "  background-size: 2px 100%;\n",
       "  background-repeat: no-repeat;\n",
       "  background-position: center center;\n",
       "}\n",
       "\n",
       "/* Parallel-specific style estimator block */\n",
       "\n",
       "#sk-container-id-14 div.sk-parallel-item::after {\n",
       "  content: \"\";\n",
       "  width: 100%;\n",
       "  border-bottom: 2px solid var(--sklearn-color-text-on-default-background);\n",
       "  flex-grow: 1;\n",
       "}\n",
       "\n",
       "#sk-container-id-14 div.sk-parallel {\n",
       "  display: flex;\n",
       "  align-items: stretch;\n",
       "  justify-content: center;\n",
       "  background-color: var(--sklearn-color-background);\n",
       "  position: relative;\n",
       "}\n",
       "\n",
       "#sk-container-id-14 div.sk-parallel-item {\n",
       "  display: flex;\n",
       "  flex-direction: column;\n",
       "}\n",
       "\n",
       "#sk-container-id-14 div.sk-parallel-item:first-child::after {\n",
       "  align-self: flex-end;\n",
       "  width: 50%;\n",
       "}\n",
       "\n",
       "#sk-container-id-14 div.sk-parallel-item:last-child::after {\n",
       "  align-self: flex-start;\n",
       "  width: 50%;\n",
       "}\n",
       "\n",
       "#sk-container-id-14 div.sk-parallel-item:only-child::after {\n",
       "  width: 0;\n",
       "}\n",
       "\n",
       "/* Serial-specific style estimator block */\n",
       "\n",
       "#sk-container-id-14 div.sk-serial {\n",
       "  display: flex;\n",
       "  flex-direction: column;\n",
       "  align-items: center;\n",
       "  background-color: var(--sklearn-color-background);\n",
       "  padding-right: 1em;\n",
       "  padding-left: 1em;\n",
       "}\n",
       "\n",
       "\n",
       "/* Toggleable style: style used for estimator/Pipeline/ColumnTransformer box that is\n",
       "clickable and can be expanded/collapsed.\n",
       "- Pipeline and ColumnTransformer use this feature and define the default style\n",
       "- Estimators will overwrite some part of the style using the `sk-estimator` class\n",
       "*/\n",
       "\n",
       "/* Pipeline and ColumnTransformer style (default) */\n",
       "\n",
       "#sk-container-id-14 div.sk-toggleable {\n",
       "  /* Default theme specific background. It is overwritten whether we have a\n",
       "  specific estimator or a Pipeline/ColumnTransformer */\n",
       "  background-color: var(--sklearn-color-background);\n",
       "}\n",
       "\n",
       "/* Toggleable label */\n",
       "#sk-container-id-14 label.sk-toggleable__label {\n",
       "  cursor: pointer;\n",
       "  display: flex;\n",
       "  width: 100%;\n",
       "  margin-bottom: 0;\n",
       "  padding: 0.5em;\n",
       "  box-sizing: border-box;\n",
       "  text-align: center;\n",
       "  align-items: start;\n",
       "  justify-content: space-between;\n",
       "  gap: 0.5em;\n",
       "}\n",
       "\n",
       "#sk-container-id-14 label.sk-toggleable__label .caption {\n",
       "  font-size: 0.6rem;\n",
       "  font-weight: lighter;\n",
       "  color: var(--sklearn-color-text-muted);\n",
       "}\n",
       "\n",
       "#sk-container-id-14 label.sk-toggleable__label-arrow:before {\n",
       "  /* Arrow on the left of the label */\n",
       "  content: \"▸\";\n",
       "  float: left;\n",
       "  margin-right: 0.25em;\n",
       "  color: var(--sklearn-color-icon);\n",
       "}\n",
       "\n",
       "#sk-container-id-14 label.sk-toggleable__label-arrow:hover:before {\n",
       "  color: var(--sklearn-color-text);\n",
       "}\n",
       "\n",
       "/* Toggleable content - dropdown */\n",
       "\n",
       "#sk-container-id-14 div.sk-toggleable__content {\n",
       "  max-height: 0;\n",
       "  max-width: 0;\n",
       "  overflow: hidden;\n",
       "  text-align: left;\n",
       "  /* unfitted */\n",
       "  background-color: var(--sklearn-color-unfitted-level-0);\n",
       "}\n",
       "\n",
       "#sk-container-id-14 div.sk-toggleable__content.fitted {\n",
       "  /* fitted */\n",
       "  background-color: var(--sklearn-color-fitted-level-0);\n",
       "}\n",
       "\n",
       "#sk-container-id-14 div.sk-toggleable__content pre {\n",
       "  margin: 0.2em;\n",
       "  border-radius: 0.25em;\n",
       "  color: var(--sklearn-color-text);\n",
       "  /* unfitted */\n",
       "  background-color: var(--sklearn-color-unfitted-level-0);\n",
       "}\n",
       "\n",
       "#sk-container-id-14 div.sk-toggleable__content.fitted pre {\n",
       "  /* unfitted */\n",
       "  background-color: var(--sklearn-color-fitted-level-0);\n",
       "}\n",
       "\n",
       "#sk-container-id-14 input.sk-toggleable__control:checked~div.sk-toggleable__content {\n",
       "  /* Expand drop-down */\n",
       "  max-height: 200px;\n",
       "  max-width: 100%;\n",
       "  overflow: auto;\n",
       "}\n",
       "\n",
       "#sk-container-id-14 input.sk-toggleable__control:checked~label.sk-toggleable__label-arrow:before {\n",
       "  content: \"▾\";\n",
       "}\n",
       "\n",
       "/* Pipeline/ColumnTransformer-specific style */\n",
       "\n",
       "#sk-container-id-14 div.sk-label input.sk-toggleable__control:checked~label.sk-toggleable__label {\n",
       "  color: var(--sklearn-color-text);\n",
       "  background-color: var(--sklearn-color-unfitted-level-2);\n",
       "}\n",
       "\n",
       "#sk-container-id-14 div.sk-label.fitted input.sk-toggleable__control:checked~label.sk-toggleable__label {\n",
       "  background-color: var(--sklearn-color-fitted-level-2);\n",
       "}\n",
       "\n",
       "/* Estimator-specific style */\n",
       "\n",
       "/* Colorize estimator box */\n",
       "#sk-container-id-14 div.sk-estimator input.sk-toggleable__control:checked~label.sk-toggleable__label {\n",
       "  /* unfitted */\n",
       "  background-color: var(--sklearn-color-unfitted-level-2);\n",
       "}\n",
       "\n",
       "#sk-container-id-14 div.sk-estimator.fitted input.sk-toggleable__control:checked~label.sk-toggleable__label {\n",
       "  /* fitted */\n",
       "  background-color: var(--sklearn-color-fitted-level-2);\n",
       "}\n",
       "\n",
       "#sk-container-id-14 div.sk-label label.sk-toggleable__label,\n",
       "#sk-container-id-14 div.sk-label label {\n",
       "  /* The background is the default theme color */\n",
       "  color: var(--sklearn-color-text-on-default-background);\n",
       "}\n",
       "\n",
       "/* On hover, darken the color of the background */\n",
       "#sk-container-id-14 div.sk-label:hover label.sk-toggleable__label {\n",
       "  color: var(--sklearn-color-text);\n",
       "  background-color: var(--sklearn-color-unfitted-level-2);\n",
       "}\n",
       "\n",
       "/* Label box, darken color on hover, fitted */\n",
       "#sk-container-id-14 div.sk-label.fitted:hover label.sk-toggleable__label.fitted {\n",
       "  color: var(--sklearn-color-text);\n",
       "  background-color: var(--sklearn-color-fitted-level-2);\n",
       "}\n",
       "\n",
       "/* Estimator label */\n",
       "\n",
       "#sk-container-id-14 div.sk-label label {\n",
       "  font-family: monospace;\n",
       "  font-weight: bold;\n",
       "  display: inline-block;\n",
       "  line-height: 1.2em;\n",
       "}\n",
       "\n",
       "#sk-container-id-14 div.sk-label-container {\n",
       "  text-align: center;\n",
       "}\n",
       "\n",
       "/* Estimator-specific */\n",
       "#sk-container-id-14 div.sk-estimator {\n",
       "  font-family: monospace;\n",
       "  border: 1px dotted var(--sklearn-color-border-box);\n",
       "  border-radius: 0.25em;\n",
       "  box-sizing: border-box;\n",
       "  margin-bottom: 0.5em;\n",
       "  /* unfitted */\n",
       "  background-color: var(--sklearn-color-unfitted-level-0);\n",
       "}\n",
       "\n",
       "#sk-container-id-14 div.sk-estimator.fitted {\n",
       "  /* fitted */\n",
       "  background-color: var(--sklearn-color-fitted-level-0);\n",
       "}\n",
       "\n",
       "/* on hover */\n",
       "#sk-container-id-14 div.sk-estimator:hover {\n",
       "  /* unfitted */\n",
       "  background-color: var(--sklearn-color-unfitted-level-2);\n",
       "}\n",
       "\n",
       "#sk-container-id-14 div.sk-estimator.fitted:hover {\n",
       "  /* fitted */\n",
       "  background-color: var(--sklearn-color-fitted-level-2);\n",
       "}\n",
       "\n",
       "/* Specification for estimator info (e.g. \"i\" and \"?\") */\n",
       "\n",
       "/* Common style for \"i\" and \"?\" */\n",
       "\n",
       ".sk-estimator-doc-link,\n",
       "a:link.sk-estimator-doc-link,\n",
       "a:visited.sk-estimator-doc-link {\n",
       "  float: right;\n",
       "  font-size: smaller;\n",
       "  line-height: 1em;\n",
       "  font-family: monospace;\n",
       "  background-color: var(--sklearn-color-background);\n",
       "  border-radius: 1em;\n",
       "  height: 1em;\n",
       "  width: 1em;\n",
       "  text-decoration: none !important;\n",
       "  margin-left: 0.5em;\n",
       "  text-align: center;\n",
       "  /* unfitted */\n",
       "  border: var(--sklearn-color-unfitted-level-1) 1pt solid;\n",
       "  color: var(--sklearn-color-unfitted-level-1);\n",
       "}\n",
       "\n",
       ".sk-estimator-doc-link.fitted,\n",
       "a:link.sk-estimator-doc-link.fitted,\n",
       "a:visited.sk-estimator-doc-link.fitted {\n",
       "  /* fitted */\n",
       "  border: var(--sklearn-color-fitted-level-1) 1pt solid;\n",
       "  color: var(--sklearn-color-fitted-level-1);\n",
       "}\n",
       "\n",
       "/* On hover */\n",
       "div.sk-estimator:hover .sk-estimator-doc-link:hover,\n",
       ".sk-estimator-doc-link:hover,\n",
       "div.sk-label-container:hover .sk-estimator-doc-link:hover,\n",
       ".sk-estimator-doc-link:hover {\n",
       "  /* unfitted */\n",
       "  background-color: var(--sklearn-color-unfitted-level-3);\n",
       "  color: var(--sklearn-color-background);\n",
       "  text-decoration: none;\n",
       "}\n",
       "\n",
       "div.sk-estimator.fitted:hover .sk-estimator-doc-link.fitted:hover,\n",
       ".sk-estimator-doc-link.fitted:hover,\n",
       "div.sk-label-container:hover .sk-estimator-doc-link.fitted:hover,\n",
       ".sk-estimator-doc-link.fitted:hover {\n",
       "  /* fitted */\n",
       "  background-color: var(--sklearn-color-fitted-level-3);\n",
       "  color: var(--sklearn-color-background);\n",
       "  text-decoration: none;\n",
       "}\n",
       "\n",
       "/* Span, style for the box shown on hovering the info icon */\n",
       ".sk-estimator-doc-link span {\n",
       "  display: none;\n",
       "  z-index: 9999;\n",
       "  position: relative;\n",
       "  font-weight: normal;\n",
       "  right: .2ex;\n",
       "  padding: .5ex;\n",
       "  margin: .5ex;\n",
       "  width: min-content;\n",
       "  min-width: 20ex;\n",
       "  max-width: 50ex;\n",
       "  color: var(--sklearn-color-text);\n",
       "  box-shadow: 2pt 2pt 4pt #999;\n",
       "  /* unfitted */\n",
       "  background: var(--sklearn-color-unfitted-level-0);\n",
       "  border: .5pt solid var(--sklearn-color-unfitted-level-3);\n",
       "}\n",
       "\n",
       ".sk-estimator-doc-link.fitted span {\n",
       "  /* fitted */\n",
       "  background: var(--sklearn-color-fitted-level-0);\n",
       "  border: var(--sklearn-color-fitted-level-3);\n",
       "}\n",
       "\n",
       ".sk-estimator-doc-link:hover span {\n",
       "  display: block;\n",
       "}\n",
       "\n",
       "/* \"?\"-specific style due to the `<a>` HTML tag */\n",
       "\n",
       "#sk-container-id-14 a.estimator_doc_link {\n",
       "  float: right;\n",
       "  font-size: 1rem;\n",
       "  line-height: 1em;\n",
       "  font-family: monospace;\n",
       "  background-color: var(--sklearn-color-background);\n",
       "  border-radius: 1rem;\n",
       "  height: 1rem;\n",
       "  width: 1rem;\n",
       "  text-decoration: none;\n",
       "  /* unfitted */\n",
       "  color: var(--sklearn-color-unfitted-level-1);\n",
       "  border: var(--sklearn-color-unfitted-level-1) 1pt solid;\n",
       "}\n",
       "\n",
       "#sk-container-id-14 a.estimator_doc_link.fitted {\n",
       "  /* fitted */\n",
       "  border: var(--sklearn-color-fitted-level-1) 1pt solid;\n",
       "  color: var(--sklearn-color-fitted-level-1);\n",
       "}\n",
       "\n",
       "/* On hover */\n",
       "#sk-container-id-14 a.estimator_doc_link:hover {\n",
       "  /* unfitted */\n",
       "  background-color: var(--sklearn-color-unfitted-level-3);\n",
       "  color: var(--sklearn-color-background);\n",
       "  text-decoration: none;\n",
       "}\n",
       "\n",
       "#sk-container-id-14 a.estimator_doc_link.fitted:hover {\n",
       "  /* fitted */\n",
       "  background-color: var(--sklearn-color-fitted-level-3);\n",
       "}\n",
       "</style><div id=\"sk-container-id-14\" class=\"sk-top-container\"><div class=\"sk-text-repr-fallback\"><pre>PySRRegressor.equations_ = [\n",
       "\t    pick     score                                           equation  \\\n",
       "\t0         0.000000                                          28.200182   \n",
       "\t1         0.628137                                       11.4651 / x0   \n",
       "\t2         0.457440                               log(x0) * -35.718956   \n",
       "\t3         0.764490                          63.8737 - (x0 * 66.06309)   \n",
       "\t4         0.000897                    abs((x0 * 66.682335) - 64.1251)   \n",
       "\t5         0.027683                 63.885788 - ((x2 + 65.40921) * x0)   \n",
       "\t6         0.028963            64.140816 - (x0 * (exp(x2) + 64.65485))   \n",
       "\t7         0.059049   64.637344 - (x0 * ((x2 / 0.12029391) + 63.4449))   \n",
       "\t8         0.255802  (((cos(x2) * 33.00824) + -90.96294) * x0) + 63...   \n",
       "\t9         0.031775  abs((x0 * ((cos(x2) * 34.980145) + -93.296684)...   \n",
       "\t10        0.022606  63.32308 + (x2 - (x0 * (93.20214 + (-35.90537 ...   \n",
       "\t11        1.219461  (cos((x2 + x0) - 0.9163515) * exp(4.587039 - x...   \n",
       "\t12        0.093757  abs(25.902876 - (cos((x2 + x0) - 0.9162715) * ...   \n",
       "\t13        0.017894  abs((cos((x0 + -0.91458404) + x2) * (x1 - exp(...   \n",
       "\t14        0.012865  abs(((exp(x1) - exp(4.607547 - x0)) * cos(x0 +...   \n",
       "\t15        0.166010  abs((cos((x2 + x0) - 0.8860845) * exp(4.640354...   \n",
       "\t16  &gt;&gt;&gt;&gt;  0.525934  abs(exp((cos(x2 + (x0 - 0.91285944)) * 3.72230...   \n",
       "\t17        0.042970  abs(exp((cos(sin(x2 - 0.9355855) + x0) * 3.797...   \n",
       "\t18        0.028394  abs((cos(x0 + x0) * -20.668478) - (cos(((x2 + ...   \n",
       "\t19        0.130240  abs((exp((cos(x0 + sin(x2 - 0.9430046)) * 3.79...   \n",
       "\t20        0.022797  abs((cos(x0 + x0) * -20.208586) - (cos(((x0 + ...   \n",
       "\t21        0.001601  abs(exp(0.003557794) - abs(exp((cos(x0 + sin(x...   \n",
       "\t22        0.015460  abs(((exp(3.7351668 - x0) * cos(((x2 + x0) * 1...   \n",
       "\t23        0.067051  sin(x2 / 0.20346154) + abs((4.505074 - (cos(x0...   \n",
       "\t24        0.045058  (abs((exp(3.9219096 - x0) * cos(1.2484028 - ((...   \n",
       "\t\n",
       "\t          loss  complexity  \n",
       "\t0   271.569240           1  \n",
       "\t1    77.319210           3  \n",
       "\t2    48.935463           4  \n",
       "\t3    22.782957           5  \n",
       "\t4    22.762520           6  \n",
       "\t5    22.141020           7  \n",
       "\t6    21.508955           8  \n",
       "\t7    20.275652           9  \n",
       "\t8    15.699346          10  \n",
       "\t9    15.208346          11  \n",
       "\t10   14.868408          12  \n",
       "\t11    4.391970          13  \n",
       "\t12    3.998908          14  \n",
       "\t13    3.858328          16  \n",
       "\t14    3.809010          17  \n",
       "\t15    3.226375          18  \n",
       "\t16    1.906798          19  \n",
       "\t17    1.826598          20  \n",
       "\t18    1.775462          21  \n",
       "\t19    1.558651          22  \n",
       "\t20    1.523521          23  \n",
       "\t21    1.516221          26  \n",
       "\t22    1.492961          27  \n",
       "\t23    1.396139          28  \n",
       "\t24    1.275828          30  \n",
       "]</pre><b>In a Jupyter environment, please rerun this cell to show the HTML representation or trust the notebook. <br />On GitHub, the HTML representation is unable to render, please try loading this page with nbviewer.org.</b></div><div class=\"sk-container\" hidden><div class=\"sk-item\"><div class=\"sk-estimator fitted sk-toggleable\"><input class=\"sk-toggleable__control sk-hidden--visually\" id=\"sk-estimator-id-14\" type=\"checkbox\" checked><label for=\"sk-estimator-id-14\" class=\"sk-toggleable__label fitted sk-toggleable__label-arrow\"><div><div>PySRRegressor</div></div><div><span class=\"sk-estimator-doc-link fitted\">i<span>Fitted</span></span></div></label><div class=\"sk-toggleable__content fitted\"><pre>PySRRegressor.equations_ = [\n",
       "\t    pick     score                                           equation  \\\n",
       "\t0         0.000000                                          28.200182   \n",
       "\t1         0.628137                                       11.4651 / x0   \n",
       "\t2         0.457440                               log(x0) * -35.718956   \n",
       "\t3         0.764490                          63.8737 - (x0 * 66.06309)   \n",
       "\t4         0.000897                    abs((x0 * 66.682335) - 64.1251)   \n",
       "\t5         0.027683                 63.885788 - ((x2 + 65.40921) * x0)   \n",
       "\t6         0.028963            64.140816 - (x0 * (exp(x2) + 64.65485))   \n",
       "\t7         0.059049   64.637344 - (x0 * ((x2 / 0.12029391) + 63.4449))   \n",
       "\t8         0.255802  (((cos(x2) * 33.00824) + -90.96294) * x0) + 63...   \n",
       "\t9         0.031775  abs((x0 * ((cos(x2) * 34.980145) + -93.296684)...   \n",
       "\t10        0.022606  63.32308 + (x2 - (x0 * (93.20214 + (-35.90537 ...   \n",
       "\t11        1.219461  (cos((x2 + x0) - 0.9163515) * exp(4.587039 - x...   \n",
       "\t12        0.093757  abs(25.902876 - (cos((x2 + x0) - 0.9162715) * ...   \n",
       "\t13        0.017894  abs((cos((x0 + -0.91458404) + x2) * (x1 - exp(...   \n",
       "\t14        0.012865  abs(((exp(x1) - exp(4.607547 - x0)) * cos(x0 +...   \n",
       "\t15        0.166010  abs((cos((x2 + x0) - 0.8860845) * exp(4.640354...   \n",
       "\t16  &gt;&gt;&gt;&gt;  0.525934  abs(exp((cos(x2 + (x0 - 0.91285944)) * 3.72230...   \n",
       "\t17        0.042970  abs(exp((cos(sin(x2 - 0.9355855) + x0) * 3.797...   \n",
       "\t18        0.028394  abs((cos(x0 + x0) * -20.668478) - (cos(((x2 + ...   \n",
       "\t19        0.130240  abs((exp((cos(x0 + sin(x2 - 0.9430046)) * 3.79...   \n",
       "\t20        0.022797  abs((cos(x0 + x0) * -20.208586) - (cos(((x0 + ...   \n",
       "\t21        0.001601  abs(exp(0.003557794) - abs(exp((cos(x0 + sin(x...   \n",
       "\t22        0.015460  abs(((exp(3.7351668 - x0) * cos(((x2 + x0) * 1...   \n",
       "\t23        0.067051  sin(x2 / 0.20346154) + abs((4.505074 - (cos(x0...   \n",
       "\t24        0.045058  (abs((exp(3.9219096 - x0) * cos(1.2484028 - ((...   \n",
       "\t\n",
       "\t          loss  complexity  \n",
       "\t0   271.569240           1  \n",
       "\t1    77.319210           3  \n",
       "\t2    48.935463           4  \n",
       "\t3    22.782957           5  \n",
       "\t4    22.762520           6  \n",
       "\t5    22.141020           7  \n",
       "\t6    21.508955           8  \n",
       "\t7    20.275652           9  \n",
       "\t8    15.699346          10  \n",
       "\t9    15.208346          11  \n",
       "\t10   14.868408          12  \n",
       "\t11    4.391970          13  \n",
       "\t12    3.998908          14  \n",
       "\t13    3.858328          16  \n",
       "\t14    3.809010          17  \n",
       "\t15    3.226375          18  \n",
       "\t16    1.906798          19  \n",
       "\t17    1.826598          20  \n",
       "\t18    1.775462          21  \n",
       "\t19    1.558651          22  \n",
       "\t20    1.523521          23  \n",
       "\t21    1.516221          26  \n",
       "\t22    1.492961          27  \n",
       "\t23    1.396139          28  \n",
       "\t24    1.275828          30  \n",
       "]</pre></div> </div></div></div></div>"
      ],
      "text/plain": [
       "PySRRegressor.equations_ = [\n",
       "\t    pick     score                                           equation  \\\n",
       "\t0         0.000000                                          28.200182   \n",
       "\t1         0.628137                                       11.4651 / x0   \n",
       "\t2         0.457440                               log(x0) * -35.718956   \n",
       "\t3         0.764490                          63.8737 - (x0 * 66.06309)   \n",
       "\t4         0.000897                    abs((x0 * 66.682335) - 64.1251)   \n",
       "\t5         0.027683                 63.885788 - ((x2 + 65.40921) * x0)   \n",
       "\t6         0.028963            64.140816 - (x0 * (exp(x2) + 64.65485))   \n",
       "\t7         0.059049   64.637344 - (x0 * ((x2 / 0.12029391) + 63.4449))   \n",
       "\t8         0.255802  (((cos(x2) * 33.00824) + -90.96294) * x0) + 63...   \n",
       "\t9         0.031775  abs((x0 * ((cos(x2) * 34.980145) + -93.296684)...   \n",
       "\t10        0.022606  63.32308 + (x2 - (x0 * (93.20214 + (-35.90537 ...   \n",
       "\t11        1.219461  (cos((x2 + x0) - 0.9163515) * exp(4.587039 - x...   \n",
       "\t12        0.093757  abs(25.902876 - (cos((x2 + x0) - 0.9162715) * ...   \n",
       "\t13        0.017894  abs((cos((x0 + -0.91458404) + x2) * (x1 - exp(...   \n",
       "\t14        0.012865  abs(((exp(x1) - exp(4.607547 - x0)) * cos(x0 +...   \n",
       "\t15        0.166010  abs((cos((x2 + x0) - 0.8860845) * exp(4.640354...   \n",
       "\t16  >>>>  0.525934  abs(exp((cos(x2 + (x0 - 0.91285944)) * 3.72230...   \n",
       "\t17        0.042970  abs(exp((cos(sin(x2 - 0.9355855) + x0) * 3.797...   \n",
       "\t18        0.028394  abs((cos(x0 + x0) * -20.668478) - (cos(((x2 + ...   \n",
       "\t19        0.130240  abs((exp((cos(x0 + sin(x2 - 0.9430046)) * 3.79...   \n",
       "\t20        0.022797  abs((cos(x0 + x0) * -20.208586) - (cos(((x0 + ...   \n",
       "\t21        0.001601  abs(exp(0.003557794) - abs(exp((cos(x0 + sin(x...   \n",
       "\t22        0.015460  abs(((exp(3.7351668 - x0) * cos(((x2 + x0) * 1...   \n",
       "\t23        0.067051  sin(x2 / 0.20346154) + abs((4.505074 - (cos(x0...   \n",
       "\t24        0.045058  (abs((exp(3.9219096 - x0) * cos(1.2484028 - ((...   \n",
       "\t\n",
       "\t          loss  complexity  \n",
       "\t0   271.569240           1  \n",
       "\t1    77.319210           3  \n",
       "\t2    48.935463           4  \n",
       "\t3    22.782957           5  \n",
       "\t4    22.762520           6  \n",
       "\t5    22.141020           7  \n",
       "\t6    21.508955           8  \n",
       "\t7    20.275652           9  \n",
       "\t8    15.699346          10  \n",
       "\t9    15.208346          11  \n",
       "\t10   14.868408          12  \n",
       "\t11    4.391970          13  \n",
       "\t12    3.998908          14  \n",
       "\t13    3.858328          16  \n",
       "\t14    3.809010          17  \n",
       "\t15    3.226375          18  \n",
       "\t16    1.906798          19  \n",
       "\t17    1.826598          20  \n",
       "\t18    1.775462          21  \n",
       "\t19    1.558651          22  \n",
       "\t20    1.523521          23  \n",
       "\t21    1.516221          26  \n",
       "\t22    1.492961          27  \n",
       "\t23    1.396139          28  \n",
       "\t24    1.275828          30  \n",
       "]"
      ]
     },
     "execution_count": 866,
     "metadata": {},
     "output_type": "execute_result"
    },
    {
     "name": "stdout",
     "output_type": "stream",
     "text": [
      "Error in callback _flush_stdio (for post_execute), with arguments args (),kwargs {}:\n"
     ]
    },
    {
     "ename": "UnicodeDecodeError",
     "evalue": "'utf-8' codec can't decode bytes in position 4094-4095: unexpected end of data",
     "output_type": "error",
     "traceback": [
      "\u001b[0;31m---------------------------------------------------------------------------\u001b[0m",
      "\u001b[0;31mUnicodeDecodeError\u001b[0m                        Traceback (most recent call last)",
      "File \u001b[0;32m~/.julia/packages/PythonCall/WMWY0/src/JlWrap/any.jl:262\u001b[0m, in \u001b[0;36m__call__\u001b[0;34m(self, *args, **kwargs)\u001b[0m\n\u001b[1;32m    260\u001b[0m     return ValueBase.__dir__(self) + self._jl_callmethod($(pyjl_methodnum(pyjlany_dir)))\n\u001b[1;32m    261\u001b[0m def __call__(self, *args, **kwargs):\n\u001b[0;32m--> 262\u001b[0m     return self._jl_callmethod($(pyjl_methodnum(pyjlany_call)), args, kwargs)\n\u001b[1;32m    263\u001b[0m def __bool__(self):\n\u001b[1;32m    264\u001b[0m     return True\n",
      "\u001b[0;31mUnicodeDecodeError\u001b[0m: 'utf-8' codec can't decode bytes in position 4094-4095: unexpected end of data"
     ]
    }
   ],
   "source": [
    "from pysr import PySRRegressor\n",
    "\n",
    "model_sym = PySRRegressor(\n",
    "    model_selection=\"best\",  # or \"accuracy\" or \"complexity\"\n",
    "    niterations=100,\n",
    "    binary_operators=[\"+\", \"-\", \"*\", \"/\"],\n",
    "    unary_operators=[\"exp\", \"log\", \"sin\", \"cos\", \"abs\"],\n",
    "    elementwise_loss=\"loss(x, y) = (x - y)^2\",\n",
    "    maxsize=30,\n",
    "    verbosity=1,\n",
    ")\n",
    "\n",
    "model_sym.fit(X_test_samples.cpu().numpy(), pred)"
   ]
  },
  {
   "cell_type": "code",
   "execution_count": 867,
   "id": "59d9d01c",
   "metadata": {},
   "outputs": [
    {
     "name": "stdout",
     "output_type": "stream",
     "text": [
      "Equation: (abs((exp(3.9219096 - x0) * cos(1.2484028 - ((x0 + x2) * 1.3535091))) - (4.505074 - (cos(x0 + x0) * 19.007563))) + sin(x2 / 0.20346154)) + -0.4682606\n",
      "Error in callback _flush_stdio (for post_execute), with arguments args (),kwargs {}:\n"
     ]
    },
    {
     "ename": "UnicodeDecodeError",
     "evalue": "'utf-8' codec can't decode bytes in position 4094-4095: unexpected end of data",
     "output_type": "error",
     "traceback": [
      "\u001b[0;31m---------------------------------------------------------------------------\u001b[0m",
      "\u001b[0;31mUnicodeDecodeError\u001b[0m                        Traceback (most recent call last)",
      "File \u001b[0;32m~/.julia/packages/PythonCall/WMWY0/src/JlWrap/any.jl:262\u001b[0m, in \u001b[0;36m__call__\u001b[0;34m(self, *args, **kwargs)\u001b[0m\n\u001b[1;32m    260\u001b[0m     return ValueBase.__dir__(self) + self._jl_callmethod($(pyjl_methodnum(pyjlany_dir)))\n\u001b[1;32m    261\u001b[0m def __call__(self, *args, **kwargs):\n\u001b[0;32m--> 262\u001b[0m     return self._jl_callmethod($(pyjl_methodnum(pyjlany_call)), args, kwargs)\n\u001b[1;32m    263\u001b[0m def __bool__(self):\n\u001b[1;32m    264\u001b[0m     return True\n",
      "\u001b[0;31mUnicodeDecodeError\u001b[0m: 'utf-8' codec can't decode bytes in position 4094-4095: unexpected end of data"
     ]
    }
   ],
   "source": [
    "eq = model_sym.equations_.iloc[len(model_sym.equations_)-1].equation\n",
    "print(f\"Equation: {eq}\")"
   ]
  },
  {
   "cell_type": "code",
   "execution_count": 868,
   "id": "7814a2dd",
   "metadata": {},
   "outputs": [
    {
     "name": "stdout",
     "output_type": "stream",
     "text": [
      "Best Equation: complexity                                                      19\n",
      "loss                                                      1.906798\n",
      "equation         abs(exp((cos(x2 + (x0 - 0.91285944)) * 3.72230...\n",
      "score                                                     0.525934\n",
      "sympy_format     Abs(exp(-x0 + cos(x0 + x2 - 1*0.91285944)*3.72...\n",
      "lambda_format    PySRFunction(X=>Abs(exp(-x0 + cos(x0 + x2 - 1*...\n",
      "Name: 16, dtype: object\n",
      "Error in callback _flush_stdio (for post_execute), with arguments args (),kwargs {}:\n"
     ]
    },
    {
     "ename": "UnicodeDecodeError",
     "evalue": "'utf-8' codec can't decode bytes in position 4094-4095: unexpected end of data",
     "output_type": "error",
     "traceback": [
      "\u001b[0;31m---------------------------------------------------------------------------\u001b[0m",
      "\u001b[0;31mUnicodeDecodeError\u001b[0m                        Traceback (most recent call last)",
      "File \u001b[0;32m~/.julia/packages/PythonCall/WMWY0/src/JlWrap/any.jl:262\u001b[0m, in \u001b[0;36m__call__\u001b[0;34m(self, *args, **kwargs)\u001b[0m\n\u001b[1;32m    260\u001b[0m     return ValueBase.__dir__(self) + self._jl_callmethod($(pyjl_methodnum(pyjlany_dir)))\n\u001b[1;32m    261\u001b[0m def __call__(self, *args, **kwargs):\n\u001b[0;32m--> 262\u001b[0m     return self._jl_callmethod($(pyjl_methodnum(pyjlany_call)), args, kwargs)\n\u001b[1;32m    263\u001b[0m def __bool__(self):\n\u001b[1;32m    264\u001b[0m     return True\n",
      "\u001b[0;31mUnicodeDecodeError\u001b[0m: 'utf-8' codec can't decode bytes in position 4094-4095: unexpected end of data"
     ]
    }
   ],
   "source": [
    "equation_str = model_sym.get_best().__str__()\n",
    "print(f\"Best Equation: {equation_str}\")"
   ]
  },
  {
   "cell_type": "markdown",
   "id": "31997062",
   "metadata": {},
   "source": [
    "x0 -> pruning amount\n",
    "\n",
    "x1 -> initial accuracy\n",
    "\n",
    "x2 -> accuracy at pruning amount 0"
   ]
  },
  {
   "cell_type": "code",
   "execution_count": 869,
   "id": "7c80858e",
   "metadata": {},
   "outputs": [
    {
     "name": "stdout",
     "output_type": "stream",
     "text": [
      "\\left|{e^{- x_{0} + \\cos{\\left(x_{0} + x_{2} - 0.913 \\right)} 3.72} - \\cos{\\left(x_{0} + x_{0} \\right)} \\left(-22.4\\right)}\\right|\n",
      "Error in callback _flush_stdio (for post_execute), with arguments args (),kwargs {}:\n"
     ]
    },
    {
     "ename": "UnicodeDecodeError",
     "evalue": "'utf-8' codec can't decode bytes in position 4094-4095: unexpected end of data",
     "output_type": "error",
     "traceback": [
      "\u001b[0;31m---------------------------------------------------------------------------\u001b[0m",
      "\u001b[0;31mUnicodeDecodeError\u001b[0m                        Traceback (most recent call last)",
      "File \u001b[0;32m~/.julia/packages/PythonCall/WMWY0/src/JlWrap/any.jl:262\u001b[0m, in \u001b[0;36m__call__\u001b[0;34m(self, *args, **kwargs)\u001b[0m\n\u001b[1;32m    260\u001b[0m     return ValueBase.__dir__(self) + self._jl_callmethod($(pyjl_methodnum(pyjlany_dir)))\n\u001b[1;32m    261\u001b[0m def __call__(self, *args, **kwargs):\n\u001b[0;32m--> 262\u001b[0m     return self._jl_callmethod($(pyjl_methodnum(pyjlany_call)), args, kwargs)\n\u001b[1;32m    263\u001b[0m def __bool__(self):\n\u001b[1;32m    264\u001b[0m     return True\n",
      "\u001b[0;31mUnicodeDecodeError\u001b[0m: 'utf-8' codec can't decode bytes in position 4094-4095: unexpected end of data"
     ]
    }
   ],
   "source": [
    "print(model_sym.latex())"
   ]
  },
  {
   "cell_type": "markdown",
   "id": "b69a0a65",
   "metadata": {},
   "source": [
    "$\\left|{e^{- x_{0} + \\cos{\\left(x_{0} + x_{2} - 0.913 \\right)} 3.72} - \\cos{\\left(x_{0} + x_{0} \\right)} \\left(-22.4\\right)}\\right|$"
   ]
  },
  {
   "cell_type": "code",
   "execution_count": null,
   "id": "51534210",
   "metadata": {},
   "outputs": [],
   "source": []
  }
 ],
 "metadata": {
  "kernelspec": {
   "display_name": "ML",
   "language": "python",
   "name": "python3"
  },
  "language_info": {
   "codemirror_mode": {
    "name": "ipython",
    "version": 3
   },
   "file_extension": ".py",
   "mimetype": "text/x-python",
   "name": "python",
   "nbconvert_exporter": "python",
   "pygments_lexer": "ipython3",
   "version": "3.10.0"
  }
 },
 "nbformat": 4,
 "nbformat_minor": 5
}
