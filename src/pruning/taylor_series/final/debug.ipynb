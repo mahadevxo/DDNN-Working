{
 "cells": [
  {
   "cell_type": "code",
   "execution_count": 1,
   "id": "e6fcaf74",
   "metadata": {},
   "outputs": [],
   "source": [
    "import torch\n",
    "import numpy as np\n",
    "from MVCNN.models.MVCNN import SVCNN\n",
    "from MVCNN_Trainer import MVCNN_Trainer\n",
    "from PruningFineTuner import PruningFineTuner\n",
    "from Pruning import Pruning\n",
    "from FilterPruner import FilterPruner"
   ]
  },
  {
   "cell_type": "code",
   "execution_count": 2,
   "id": "a2102a3d",
   "metadata": {},
   "outputs": [],
   "source": [
    "model = SVCNN('svcnn')\n",
    "model.load_state_dict(torch.load('./model-00030.pth', map_location='mps'))\n",
    "model = model.to('mps')"
   ]
  },
  {
   "cell_type": "code",
   "execution_count": 3,
   "id": "2c824a1a",
   "metadata": {},
   "outputs": [],
   "source": [
    "mvcnntrainer = MVCNN_Trainer(optimizer=torch.optim.Adam(model.parameters(), lr=0.01))"
   ]
  },
  {
   "cell_type": "code",
   "execution_count": 4,
   "id": "e21cf12d",
   "metadata": {},
   "outputs": [
    {
     "data": {
      "text/plain": [
       "(491.72034072875977, 2752)"
      ]
     },
     "execution_count": 4,
     "metadata": {},
     "output_type": "execute_result"
    }
   ],
   "source": [
    "mvcnntrainer.get_size(model), mvcnntrainer.get_num_filters(model)"
   ]
  },
  {
   "cell_type": "code",
   "execution_count": 5,
   "id": "3f431c64",
   "metadata": {},
   "outputs": [],
   "source": [
    "pft = PruningFineTuner(model, train_amt=0.01, test_amt=0.1)"
   ]
  },
  {
   "cell_type": "code",
   "execution_count": 6,
   "id": "c6debb69",
   "metadata": {},
   "outputs": [
    {
     "name": "stdout",
     "output_type": "stream",
     "text": [
      "Original Num Filter: 2752\n"
     ]
    }
   ],
   "source": [
    "ranks = pft.prune(rank_filters=True)"
   ]
  },
  {
   "cell_type": "code",
   "execution_count": 7,
   "id": "814ea864",
   "metadata": {},
   "outputs": [],
   "source": [
    "layers_pruned = {}\n",
    "for layer_index, filter_index in ranks[1]:\n",
    "    layers_pruned[layer_index] = layers_pruned.get(layer_index, 0) + 1"
   ]
  },
  {
   "cell_type": "code",
   "execution_count": 8,
   "id": "75e3a9e1",
   "metadata": {},
   "outputs": [
    {
     "data": {
      "text/plain": [
       "{0: 64, 3: 128, 6: 256, 8: 256, 11: 512, 13: 512, 16: 512, 18: 512}"
      ]
     },
     "execution_count": 8,
     "metadata": {},
     "output_type": "execute_result"
    }
   ],
   "source": [
    "layers_pruned"
   ]
  },
  {
   "cell_type": "code",
   "execution_count": 9,
   "id": "eb6fa7b3",
   "metadata": {},
   "outputs": [
    {
     "name": "stdout",
     "output_type": "stream",
     "text": [
      "PruningFineTuner object deleted and memory cleared.\n"
     ]
    }
   ],
   "source": [
    "del pft"
   ]
  },
  {
   "cell_type": "code",
   "execution_count": 10,
   "id": "a4cb6df6",
   "metadata": {},
   "outputs": [],
   "source": [
    "model = SVCNN('svcnn')\n",
    "model.load_state_dict(torch.load('./model-00030.pth', map_location='mps'))\n",
    "model = model.to('mps')"
   ]
  },
  {
   "cell_type": "code",
   "execution_count": 11,
   "id": "491985d8",
   "metadata": {},
   "outputs": [],
   "source": [
    "pft = PruningFineTuner(model, train_amt=0.01, test_amt=0.1)"
   ]
  },
  {
   "cell_type": "code",
   "execution_count": 12,
   "id": "e776189c",
   "metadata": {},
   "outputs": [],
   "source": [
    "prune_amount=0.4\n",
    "num_filter_to_remove=0.9*pft.total_num_filters()\n",
    "prune_targets = ranks[1][:int(num_filter_to_remove)]"
   ]
  },
  {
   "cell_type": "code",
   "execution_count": 13,
   "id": "96c5500c",
   "metadata": {},
   "outputs": [
    {
     "data": {
      "text/plain": [
       "2476"
      ]
     },
     "execution_count": 13,
     "metadata": {},
     "output_type": "execute_result"
    }
   ],
   "source": [
    "len(prune_targets)"
   ]
  },
  {
   "cell_type": "code",
   "execution_count": 14,
   "id": "32024800",
   "metadata": {},
   "outputs": [],
   "source": [
    "pruner = Pruning(model)"
   ]
  },
  {
   "cell_type": "code",
   "execution_count": 15,
   "id": "fce5ee6d",
   "metadata": {},
   "outputs": [
    {
     "name": "stderr",
     "output_type": "stream",
     "text": [
      "/opt/homebrew/Caskroom/miniconda/base/envs/ML/lib/python3.13/site-packages/torch/nn/init.py:511: UserWarning: Initializing zero-element tensors is a no-op\n",
      "  warnings.warn(\"Initializing zero-element tensors is a no-op\")\n"
     ]
    }
   ],
   "source": [
    "for layer_index, filter_index in prune_targets:\n",
    "    model = pruner.prune_conv_layers(model, layer_index=layer_index, filter_index=filter_index)"
   ]
  },
  {
   "cell_type": "code",
   "execution_count": 16,
   "id": "7457053a",
   "metadata": {},
   "outputs": [
    {
     "data": {
      "text/plain": [
       "275.8605537414551"
      ]
     },
     "execution_count": 16,
     "metadata": {},
     "output_type": "execute_result"
    }
   ],
   "source": [
    "pft.get_model_size(model)"
   ]
  },
  {
   "cell_type": "code",
   "execution_count": 17,
   "id": "1380a0bf",
   "metadata": {},
   "outputs": [
    {
     "data": {
      "text/plain": [
       "(275.8605537414551, 276)"
      ]
     },
     "execution_count": 17,
     "metadata": {},
     "output_type": "execute_result"
    }
   ],
   "source": [
    "mvcnntrainer.get_size(model), mvcnntrainer.get_num_filters(model)"
   ]
  },
  {
   "cell_type": "code",
   "execution_count": null,
   "id": "6db4c8aa",
   "metadata": {},
   "outputs": [],
   "source": [
    "# exit()"
   ]
  },
  {
   "cell_type": "code",
   "execution_count": null,
   "id": "407862be",
   "metadata": {},
   "outputs": [],
   "source": []
  }
 ],
 "metadata": {
  "kernelspec": {
   "display_name": "ML",
   "language": "python",
   "name": "python3"
  },
  "language_info": {
   "codemirror_mode": {
    "name": "ipython",
    "version": 3
   },
   "file_extension": ".py",
   "mimetype": "text/x-python",
   "name": "python",
   "nbconvert_exporter": "python",
   "pygments_lexer": "ipython3",
   "version": "3.13.0"
  }
 },
 "nbformat": 4,
 "nbformat_minor": 5
}
