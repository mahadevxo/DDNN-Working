{
 "cells": [
  {
   "cell_type": "markdown",
   "id": "35c10da4",
   "metadata": {},
   "source": [
    "# Global Optimization"
   ]
  },
  {
   "cell_type": "code",
   "execution_count": 1,
   "id": "1624e133",
   "metadata": {},
   "outputs": [],
   "source": [
    "import numpy as np"
   ]
  },
  {
   "cell_type": "markdown",
   "id": "79a5efbd",
   "metadata": {},
   "source": [
    "# Per View Rewards"
   ]
  },
  {
   "cell_type": "markdown",
   "id": "89d160ed",
   "metadata": {},
   "source": [
    "### Accuracy Reward"
   ]
  },
  {
   "cell_type": "code",
   "execution_count": 2,
   "id": "2a0ef0d2",
   "metadata": {},
   "outputs": [],
   "source": [
    "def get_accuracy_reward(curr_accuracy, min_accuracy, sigma_right=4, sigma_left=2):\n",
    "    diff = curr_accuracy - min_accuracy\n",
    "    if 0<=diff<=1e-2:\n",
    "        return (np.exp(- (diff**2) / (10 * sigma_left**2)) * 100)\n",
    "    else:\n",
    "        return 1*(np.exp(- (abs(diff)**1.5) / (2 * sigma_right**2)) * 100)"
   ]
  },
  {
   "cell_type": "markdown",
   "id": "467c4540",
   "metadata": {},
   "source": [
    "### Inference Time Reward"
   ]
  },
  {
   "cell_type": "code",
   "execution_count": 3,
   "id": "0e1defe5",
   "metadata": {},
   "outputs": [],
   "source": [
    "def get_comp_time_reward(current_comp_time, sigma=0.8):\n",
    "    return np.exp(- (current_comp_time**2) / (2 * sigma**2))*50"
   ]
  },
  {
   "cell_type": "markdown",
   "id": "cab866b3",
   "metadata": {},
   "source": [
    "### Model Size Reward"
   ]
  },
  {
   "cell_type": "code",
   "execution_count": 4,
   "id": "d01c4950",
   "metadata": {},
   "outputs": [],
   "source": [
    "def get_model_size_reward(current_model_size, max_model_size, sigma_left=2):\n",
    "    diff = current_model_size - max_model_size\n",
    "    if current_model_size > max_model_size:\n",
    "        return np.exp(- ((diff)**2) / (10 * sigma_left**2))*99\n",
    "    if current_model_size == max_model_size:\n",
    "        return 99\n",
    "    else:\n",
    "        return (99+(current_model_size/max_model_size))"
   ]
  },
  {
   "cell_type": "markdown",
   "id": "46c3ef38",
   "metadata": {},
   "source": [
    "### Optimal Model Reward"
   ]
  },
  {
   "cell_type": "code",
   "execution_count": 5,
   "id": "cd9631f1",
   "metadata": {},
   "outputs": [],
   "source": [
    "def more_acc_less_size(accuracy, min_accuracy, size, max_model_size):\n",
    "    if accuracy >= min_accuracy and size <= max_model_size:\n",
    "        return ((accuracy-min_accuracy)*2) + (max_model_size-size)/2\n",
    "    return 0"
   ]
  },
  {
   "cell_type": "markdown",
   "id": "54de4540",
   "metadata": {},
   "source": [
    "### Per View Final Reward"
   ]
  },
  {
   "cell_type": "code",
   "execution_count": 6,
   "id": "43d30e0a",
   "metadata": {},
   "outputs": [],
   "source": [
    "def get_final_reward(\n",
    "    min_accuracy, max_model_size, x=1, y=1, z=1,\n",
    "    curr_accuracy=0, curr_comp_time=0, curr_model_size=0):\n",
    "    \n",
    "    acc_reward = get_accuracy_reward(curr_accuracy, min_accuracy)\n",
    "    comp_time_reward = get_comp_time_reward(curr_comp_time)\n",
    "    model_size_reward = get_model_size_reward(curr_model_size, max_model_size)\n",
    "    optimal_model_reward = more_acc_less_size(\n",
    "        curr_accuracy, min_accuracy, curr_model_size, max_model_size)\n",
    "\n",
    "    x, y, z = x/(sum([x, y, z]) or 1), y/(sum([x, y, z]) or 1), z/(sum([x, y, z]) or 1)\n",
    "\n",
    "    return (\n",
    "        (x * acc_reward)\n",
    "        + (y * comp_time_reward)\n",
    "        + (z * model_size_reward)\n",
    "        + optimal_model_reward\n",
    "    )"
   ]
  },
  {
   "cell_type": "markdown",
   "id": "27a3f20d",
   "metadata": {},
   "source": [
    "## Global Reward"
   ]
  },
  {
   "cell_type": "markdown",
   "id": "77dc698b",
   "metadata": {},
   "source": [
    "### Function to find final accuracy of model"
   ]
  },
  {
   "cell_type": "markdown",
   "id": "d27ec3e0",
   "metadata": {},
   "source": [
    "#### Inputs\n",
    "\n",
    "- $i$: Array of $[i_0 \\dots i_v]$\n",
    "- $acc_{-v}$: Array of accuracy of model when view $v$ is removed $[acc_{-0}\\dots acc_{-v}]$\n",
    "- $acc_{v}$: Array of accuracy of using only view $v$ $[arr_0 \\dots arr_v]$\n",
    "\n",
    "### Output\n",
    "- $acc_f$: Accuracy of final model with all views"
   ]
  },
  {
   "cell_type": "markdown",
   "id": "1f27420a",
   "metadata": {},
   "source": [
    "1. Find a value for $p$ that optimizes maximizes per-view reward\n",
    "2. Use $p$ as a function of $i$"
   ]
  },
  {
   "cell_type": "markdown",
   "id": "6b8b9da0",
   "metadata": {},
   "source": []
  }
 ],
 "metadata": {
  "kernelspec": {
   "display_name": "ML",
   "language": "python",
   "name": "python3"
  },
  "language_info": {
   "codemirror_mode": {
    "name": "ipython",
    "version": 3
   },
   "file_extension": ".py",
   "mimetype": "text/x-python",
   "name": "python",
   "nbconvert_exporter": "python",
   "pygments_lexer": "ipython3",
   "version": "3.13.3"
  }
 },
 "nbformat": 4,
 "nbformat_minor": 5
}
