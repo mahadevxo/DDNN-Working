{
 "cells": [
  {
   "cell_type": "code",
   "execution_count": 6,
   "id": "4c6ba822",
   "metadata": {},
   "outputs": [],
   "source": [
    "import numpy as np\n",
    "import matplotlib.pyplot as plt"
   ]
  },
  {
   "cell_type": "markdown",
   "id": "dd83f479",
   "metadata": {},
   "source": [
    "## Using Exponential Decay to find 10 pruning amounts that decreases exponentially"
   ]
  },
  {
   "cell_type": "code",
   "execution_count": 41,
   "id": "bba8dd6a",
   "metadata": {},
   "outputs": [],
   "source": [
    "def get_exp_curve(total_sum: float) -> list[float]:\n",
    "    if total_sum == 0:\n",
    "        return [0.0] * 10\n",
    "    \n",
    "    x = np.arange(10)\n",
    "    decay_target_ratio = 0.01\n",
    "    \n",
    "    k_rate = -np.log(decay_target_ratio) / 9\n",
    "    curve_raw = np.exp(-k_rate * x)\n",
    "    shift_amount = curve_raw[-1]    \n",
    "    curve_shifted = curve_raw - shift_amount\n",
    "    sum_of_shifted = np.sum(curve_shifted)\n",
    "    scaling_factor = total_sum / sum_of_shifted\n",
    "    final_curve = curve_shifted * scaling_factor\n",
    "    final_curve[-1] = 0.0\n",
    "    return final_curve.tolist()"
   ]
  },
  {
   "cell_type": "code",
   "execution_count": 44,
   "id": "20f1dac7",
   "metadata": {},
   "outputs": [
    {
     "name": "stdout",
     "output_type": "stream",
     "text": [
      "37.408, 22.274, 13.202, 7.763, 4.502, 2.548, 1.376, 0.674, 0.252, 0.000, "
     ]
    },
    {
     "data": {
      "text/plain": [
       "90.00000000000001"
      ]
     },
     "execution_count": 44,
     "metadata": {},
     "output_type": "execute_result"
    },
    {
     "data": {
      "image/png": "[encoded data removed]",
      "text/plain": [
       "<Figure size 640x480 with 1 Axes>"
      ]
     },
     "metadata": {},
     "output_type": "display_data"
    }
   ],
   "source": [
    "inp = 90\n",
    "for x in get_exp_curve(inp):\n",
    "    print(f\"{x:.3f}\", end=\", \")\n",
    "\n",
    "plt.plot(get_exp_curve(inp))\n",
    "sum(get_exp_curve(inp))"
   ]
  },
  {
   "cell_type": "markdown",
   "id": "5f038f33",
   "metadata": {},
   "source": [
    "### method is\n",
    "\n",
    "1. prune with x[0]\n",
    "2. fine tune\n",
    "3. prune with x[1]\n",
    "4. fine tune\n",
    "5. prune with x[2]\n",
    "6. fine tune <br>\n",
    "...\n",
    "19. prune with x[9]\n",
    "20. fine tune\n",
    "<br>\n",
    "this should give better results"
   ]
  },
  {
   "cell_type": "markdown",
   "id": "1292befb",
   "metadata": {},
   "source": [
    "### time taken would be approx 10x the time taken by the other pruning algorithm\n",
    "### should go to the global optima, theoritically"
   ]
  },
  {
   "cell_type": "code",
   "execution_count": null,
   "id": "b43f000a",
   "metadata": {},
   "outputs": [],
   "source": []
  }
 ],
 "metadata": {
  "kernelspec": {
   "display_name": "ML",
   "language": "python",
   "name": "python3"
  },
  "language_info": {
   "codemirror_mode": {
    "name": "ipython",
    "version": 3
   },
   "file_extension": ".py",
   "mimetype": "text/x-python",
   "name": "python",
   "nbconvert_exporter": "python",
   "pygments_lexer": "ipython3",
   "version": "3.13.3"
  }
 },
 "nbformat": 4,
 "nbformat_minor": 5
}
