{
 "cells": [
  {
   "cell_type": "code",
   "execution_count": 1,
   "id": "823d24b8",
   "metadata": {},
   "outputs": [],
   "source": [
    "from models import MVCNN\n",
    "from tools import ImgDataset\n",
    "import torch\n",
    "from tqdm import tqdm\n",
    "import matplotlib.pyplot as plt"
   ]
  },
  {
   "cell_type": "markdown",
   "id": "94caf73e",
   "metadata": {},
   "source": [
    "# Calculating Importance"
   ]
  },
  {
   "cell_type": "markdown",
   "id": "c174039e",
   "metadata": {},
   "source": [
    "## Initialization"
   ]
  },
  {
   "cell_type": "code",
   "execution_count": 2,
   "id": "cdbd4190",
   "metadata": {},
   "outputs": [],
   "source": [
    "device = 'mps' if torch.backends.mps.is_available() else 'cuda' if torch.cuda.is_available() else 'cpu'"
   ]
  },
  {
   "cell_type": "code",
   "execution_count": 3,
   "id": "2921957f",
   "metadata": {},
   "outputs": [
    {
     "data": {
      "text/plain": [
       "SVCNN(\n",
       "  (net_1): Sequential(\n",
       "    (0): Conv2d(3, 64, kernel_size=(3, 3), stride=(1, 1), padding=(1, 1))\n",
       "    (1): ReLU(inplace=True)\n",
       "    (2): MaxPool2d(kernel_size=2, stride=2, padding=0, dilation=1, ceil_mode=False)\n",
       "    (3): Conv2d(64, 128, kernel_size=(3, 3), stride=(1, 1), padding=(1, 1))\n",
       "    (4): ReLU(inplace=True)\n",
       "    (5): MaxPool2d(kernel_size=2, stride=2, padding=0, dilation=1, ceil_mode=False)\n",
       "    (6): Conv2d(128, 256, kernel_size=(3, 3), stride=(1, 1), padding=(1, 1))\n",
       "    (7): ReLU(inplace=True)\n",
       "    (8): Conv2d(256, 256, kernel_size=(3, 3), stride=(1, 1), padding=(1, 1))\n",
       "    (9): ReLU(inplace=True)\n",
       "    (10): MaxPool2d(kernel_size=2, stride=2, padding=0, dilation=1, ceil_mode=False)\n",
       "    (11): Conv2d(256, 512, kernel_size=(3, 3), stride=(1, 1), padding=(1, 1))\n",
       "    (12): ReLU(inplace=True)\n",
       "    (13): Conv2d(512, 512, kernel_size=(3, 3), stride=(1, 1), padding=(1, 1))\n",
       "    (14): ReLU(inplace=True)\n",
       "    (15): MaxPool2d(kernel_size=2, stride=2, padding=0, dilation=1, ceil_mode=False)\n",
       "    (16): Conv2d(512, 512, kernel_size=(3, 3), stride=(1, 1), padding=(1, 1))\n",
       "    (17): ReLU(inplace=True)\n",
       "    (18): Conv2d(512, 512, kernel_size=(3, 3), stride=(1, 1), padding=(1, 1))\n",
       "    (19): ReLU(inplace=True)\n",
       "    (20): MaxPool2d(kernel_size=2, stride=2, padding=0, dilation=1, ceil_mode=False)\n",
       "  )\n",
       "  (net_2): Sequential(\n",
       "    (0): Linear(in_features=25088, out_features=4096, bias=True)\n",
       "    (1): ReLU(inplace=True)\n",
       "    (2): Dropout(p=0.5, inplace=False)\n",
       "    (3): Linear(in_features=4096, out_features=4096, bias=True)\n",
       "    (4): ReLU(inplace=True)\n",
       "    (5): Dropout(p=0.5, inplace=False)\n",
       "    (6): Linear(in_features=4096, out_features=33, bias=True)\n",
       "  )\n",
       ")"
      ]
     },
     "execution_count": 3,
     "metadata": {},
     "output_type": "execute_result"
    }
   ],
   "source": [
    "model = MVCNN.SVCNN('svcnn')\n",
    "weights = torch.load('../test_results/MVCNN/trained-models/MVCNN/model-00030.pth', map_location=device)\n",
    "model.load_state_dict(weights)\n",
    "model.to(device)\n",
    "model.eval()"
   ]
  },
  {
   "cell_type": "code",
   "execution_count": 4,
   "id": "32815c7f",
   "metadata": {},
   "outputs": [],
   "source": [
    "test_dataset = ImgDataset.MultiviewImgDataset(\n",
    "    root_dir='../searching-algorithm/ModelNet40-12View/*/test',\n",
    "    scale_aug=False,\n",
    "    rot_aug=False,\n",
    "    test_mode=True,\n",
    "    num_models=0,\n",
    "    num_views=12,\n",
    "    shuffle=False\n",
    ")\n",
    "test_loader = torch.utils.data.DataLoader(\n",
    "    test_dataset,\n",
    "    batch_size=1,  # Set batch_size to 1 to get all 12 views of a single model\n",
    "    shuffle=False,\n",
    "    num_workers=1,\n",
    "    pin_memory=True\n",
    ")"
   ]
  },
  {
   "cell_type": "code",
   "execution_count": 5,
   "id": "fd234112",
   "metadata": {},
   "outputs": [],
   "source": [
    "# Extract CNN feature extractor from the model\n",
    "feature_extractor = model.net_1\n",
    "classifier = model.net_2\n",
    "\n",
    "feature_extractor.eval()\n",
    "classifier.eval()\n",
    "\n",
    "num_views = 12  # Number of views per model"
   ]
  },
  {
   "cell_type": "markdown",
   "id": "943d291a",
   "metadata": {},
   "source": [
    "views are as\n",
    "\n",
    "0, 1, 10, 11, 2, 3, 4, 5, 6, 7, 8, 9"
   ]
  },
  {
   "cell_type": "markdown",
   "id": "1dd1a6da",
   "metadata": {},
   "source": [
    "## Accuracy Of Each View"
   ]
  },
  {
   "cell_type": "code",
   "execution_count": 34,
   "id": "ee5599ee",
   "metadata": {},
   "outputs": [],
   "source": [
    "ranking = {\n",
    "    'view 0': [], \n",
    "    'view 1': [],\n",
    "    'view 2': [],\n",
    "    'view 3': [],\n",
    "    'view 4': [],\n",
    "    'view 5': [],\n",
    "    'view 6': [],\n",
    "    'view 7': [],\n",
    "    'view 8': [],\n",
    "    'view 9': [],\n",
    "    'view 10': [],\n",
    "    'view 11': []\n",
    "}"
   ]
  },
  {
   "cell_type": "code",
   "execution_count": 35,
   "id": "360f8bbe",
   "metadata": {},
   "outputs": [],
   "source": [
    "!rm outputs"
   ]
  },
  {
   "cell_type": "code",
   "execution_count": 36,
   "id": "aea10118",
   "metadata": {},
   "outputs": [
    {
     "name": "stderr",
     "output_type": "stream",
     "text": [
      "100%|██████████| 1860/1860 [02:33<00:00, 12.15it/s]\n"
     ]
    }
   ],
   "source": [
    "prev=torch.tensor([]).to(device)\n",
    "for batch_idx, (target, data, data_path) in tqdm(enumerate(test_loader), total=len(test_loader)):\n",
    "    data = data.to(device)\n",
    "    target = target.to(device)\n",
    "    for i, view in enumerate([0, 1, 10, 11, 2, 3, 4, 5, 6, 7, 8, 9]):\n",
    "        view_data = data[:, view, :, :, :].squeeze(0)\n",
    "        view_data = view_data.to(device)\n",
    "        \n",
    "        if torch.equal(view_data, prev):\n",
    "            break\n",
    "        \n",
    "        with torch.no_grad():\n",
    "            features = feature_extractor(view_data.unsqueeze(0))\n",
    "            pooled = torch.max(features, dim=0)[0].unsqueeze(0)\n",
    "            pooled = pooled.view(pooled.size(0), -1)\n",
    "            \n",
    "            with torch.no_grad():\n",
    "                output = classifier(pooled)\n",
    "            \n",
    "            _, pred = torch.max(output, 1)\n",
    "            out = (pred==target).float().item()\n",
    "            ranking[f'view {view}'].append(out)\n",
    "        \n",
    "        prev = view_data\n",
    "        \n",
    "        with open (\"outputs\", 'a') as f:\n",
    "            f.write(f\"{data_path[i]} view {view}, {out}\\n\")"
   ]
  },
  {
   "cell_type": "code",
   "execution_count": 44,
   "id": "91b1e4ea",
   "metadata": {},
   "outputs": [],
   "source": [
    "ranking = {view: sum(ranking[view]) / len(ranking[view]) if ranking[view] else 0.0 for view in ranking}"
   ]
  },
  {
   "cell_type": "code",
   "execution_count": 45,
   "id": "3637e836",
   "metadata": {},
   "outputs": [
    {
     "data": {
      "text/plain": [
       "{'view 0': 0.8311827956989247,\n",
       " 'view 1': 0.8623655913978494,\n",
       " 'view 2': 0.8559139784946237,\n",
       " 'view 3': 0.8521505376344086,\n",
       " 'view 4': 0.853225806451613,\n",
       " 'view 5': 0.8510752688172043,\n",
       " 'view 6': 0.8516129032258064,\n",
       " 'view 7': 0.8290322580645161,\n",
       " 'view 8': 0.7919354838709678,\n",
       " 'view 9': 0.8333333333333334,\n",
       " 'view 10': 0.864516129032258,\n",
       " 'view 11': 0.8521505376344086}"
      ]
     },
     "execution_count": 45,
     "metadata": {},
     "output_type": "execute_result"
    }
   ],
   "source": [
    "ranking"
   ]
  },
  {
   "cell_type": "code",
   "execution_count": 142,
   "id": "91698e6a",
   "metadata": {},
   "outputs": [],
   "source": [
    "def min_max_norm(arr):\n",
    "    max_val = max(arr)\n",
    "    min_val = min(arr)\n",
    "    return [(x-min_val) / (max_val - min_val) for x in arr]\n",
    "\n",
    "def l1_norm(arr):\n",
    "    norm = sum(abs(x) for x in arr)\n",
    "    return [(x)*10 / norm for x in arr] if norm != 0 else arr"
   ]
  },
  {
   "cell_type": "code",
   "execution_count": 48,
   "id": "c7266c44",
   "metadata": {},
   "outputs": [
    {
     "data": {
      "text/plain": [
       "[0.5407407407407404,\n",
       " 0.9703703703703698,\n",
       " 0.8814814814814821,\n",
       " 0.8296296296296299,\n",
       " 0.8444444444444451,\n",
       " 0.8148148148148148,\n",
       " 0.8222222222222216,\n",
       " 0.5111111111111102,\n",
       " 0.0,\n",
       " 0.5703703703703706,\n",
       " 1.0,\n",
       " 0.8296296296296299]"
      ]
     },
     "execution_count": 48,
     "metadata": {},
     "output_type": "execute_result"
    }
   ],
   "source": [
    "min_max_norm(list(ranking.values()))"
   ]
  },
  {
   "cell_type": "code",
   "execution_count": 49,
   "id": "87f23863",
   "metadata": {},
   "outputs": [
    {
     "data": {
      "text/plain": [
       "[0.08206380381124263,\n",
       " 0.08514252348850787,\n",
       " 0.08450554700355645,\n",
       " 0.08413397738733479,\n",
       " 0.0842401401348267,\n",
       " 0.08402781463984288,\n",
       " 0.08408089601358883,\n",
       " 0.08185147831625882,\n",
       " 0.0781888635277881,\n",
       " 0.08227612930622645,\n",
       " 0.08535484898349169,\n",
       " 0.08413397738733479]"
      ]
     },
     "execution_count": 49,
     "metadata": {},
     "output_type": "execute_result"
    }
   ],
   "source": [
    "l1_norm(list(ranking.values()))"
   ]
  },
  {
   "cell_type": "markdown",
   "id": "9deee827",
   "metadata": {},
   "source": [
    "## Accuracy While Removing Views"
   ]
  },
  {
   "cell_type": "code",
   "execution_count": 6,
   "id": "3fee1735",
   "metadata": {},
   "outputs": [
    {
     "name": "stderr",
     "output_type": "stream",
     "text": [
      "Batches:   0%|          | 0/1860 [00:00<?, ?it/s]"
     ]
    },
    {
     "name": "stderr",
     "output_type": "stream",
     "text": [
      "Batches: 100%|██████████| 1860/1860 [16:00<00:00,  1.94it/s]\n"
     ]
    }
   ],
   "source": [
    "per_view_importance = {\n",
    "    'view 0': [],\n",
    "    'view 1': [],\n",
    "    'view 2': [],\n",
    "    'view 3': [],\n",
    "    'view 4': [],\n",
    "    'view 5': [],\n",
    "    'view 6': [],\n",
    "    'view 7': [],\n",
    "    'view 8': [],\n",
    "    'view 9': [],\n",
    "    'view 10': [],\n",
    "    'view 11': []\n",
    "}\n",
    "baseline_acc = 0\n",
    "# Wrap test_loader with tqdm\n",
    "for batch_idx, (target, data, _) in enumerate(tqdm(test_loader, desc=\"Batches\")):\n",
    "    data = data.to(device)  # shape: [1, 12, 3, 244, 244]\n",
    "    target = target.to(device)\n",
    "\n",
    "    all_views = data.squeeze(0)  # shape: [12, 3, 244, 244]\n",
    "\n",
    "    # === Baseline ===\n",
    "    all_feats = feature_extractor(all_views)  # shape: [12, C, H, W]\n",
    "    pooled = torch.max(all_feats, dim=0)[0]  # shape: [C, H, W]\n",
    "    pooled = pooled.unsqueeze(0)  # shape: [1, C, H, W]\n",
    "    flattened = pooled.view(pooled.size(0), -1)  # shape: [1, C*H*W]\n",
    "    with torch.no_grad():\n",
    "        output = classifier(flattened)\n",
    "    _, predicted = torch.max(output, 1)\n",
    "    baseline_acc_batch = (predicted == target).float().item()\n",
    "\n",
    "    # if batch_idx % 100 == 0:\n",
    "        # print(f\"Processed {batch_idx} batches, current average baseline accuracy: {sum_baseline / (batch_idx + 1):.4f}\")\n",
    "\n",
    "    # === Per-View Importance ===\n",
    "    for view in tqdm([0, 1, 10, 11, 2, 3, 4, 5, 6, 7, 8, 9], desc=f\"View removal batch {batch_idx}\", leave=False):\n",
    "        views_removed = torch.cat([all_views[:view], all_views[view+1:]], dim=0)\n",
    "        feats = feature_extractor(views_removed)\n",
    "        pooled = torch.max(feats, dim=0)[0].unsqueeze(0)\n",
    "        flattened = pooled.view(pooled.size(0), -1)\n",
    "        with torch.no_grad():\n",
    "            output = classifier(flattened)\n",
    "        _, predicted = torch.max(output, 1)\n",
    "        acc = (predicted == target).float().item()\n",
    "        \n",
    "        per_view_importance[f'view {view}'].append(acc)\n",
    "        baseline_acc += baseline_acc_batch\n",
    "        # print(f\"View {view} removed, accuracy: {acc:.4f}, baseline: {baseline_acc:.4f}\")"
   ]
  },
  {
   "cell_type": "code",
   "execution_count": 140,
   "id": "100613c0",
   "metadata": {},
   "outputs": [
    {
     "data": {
      "text/plain": [
       "12"
      ]
     },
     "execution_count": 140,
     "metadata": {},
     "output_type": "execute_result"
    }
   ],
   "source": [
    "len(per_view_importance)"
   ]
  },
  {
   "cell_type": "code",
   "execution_count": 141,
   "id": "3aeaaf0a",
   "metadata": {},
   "outputs": [
    {
     "data": {
      "text/plain": [
       "0.5844086021505376"
      ]
     },
     "execution_count": 141,
     "metadata": {},
     "output_type": "execute_result"
    }
   ],
   "source": [
    "baseline_acc/(1860*12)"
   ]
  },
  {
   "cell_type": "code",
   "execution_count": 18,
   "id": "7394b448",
   "metadata": {},
   "outputs": [
    {
     "name": "stdout",
     "output_type": "stream",
     "text": [
      "view 0 , 0.5870967741935483\n",
      "view 1 , 0.5946236559139785\n",
      "view 2 , 0.5989247311827957\n",
      "view 3 , 0.5946236559139785\n",
      "view 4 , 0.6005376344086022\n",
      "view 5 , 0.5967741935483871\n",
      "view 6 , 0.5908602150537634\n",
      "view 7 , 0.5919354838709677\n",
      "view 8 , 0.5978494623655914\n",
      "view 9 , 0.5951612903225807\n",
      "view 10 , 0.5887096774193549\n",
      "view 11 , 0.6021505376344086\n"
     ]
    }
   ],
   "source": [
    "for view in per_view_importance:\n",
    "    print(view,\",\" ,sum(per_view_importance[view]) / len(per_view_importance[view])) if per_view_importance[view] else 0.0"
   ]
  },
  {
   "cell_type": "code",
   "execution_count": 143,
   "id": "8e8bdf7e",
   "metadata": {},
   "outputs": [
    {
     "data": {
      "text/plain": [
       "[0.0,\n",
       " 0.5,\n",
       " 0.7857142857142857,\n",
       " 0.5,\n",
       " 0.8928571428571429,\n",
       " 0.6428571428571429,\n",
       " 0.25,\n",
       " 0.32142857142857145,\n",
       " 0.7142857142857143,\n",
       " 0.5357142857142857,\n",
       " 0.10714285714285714,\n",
       " 1.0]"
      ]
     },
     "execution_count": 143,
     "metadata": {},
     "output_type": "execute_result"
    }
   ],
   "source": [
    "min_max_norm([sum(per_view_importance[view]) for view in per_view_importance])"
   ]
  },
  {
   "cell_type": "code",
   "execution_count": 181,
   "id": "6a81733c",
   "metadata": {},
   "outputs": [
    {
     "data": {
      "text/plain": [
       "1.189247311827957"
      ]
     },
     "execution_count": 181,
     "metadata": {},
     "output_type": "execute_result"
    }
   ],
   "source": [
    "max_l1 = max(sum(per_view_importance[view])/len(per_view_importance[view]) for view in per_view_importance)\n",
    "min_l1 = min(sum(per_view_importance[view])/len(per_view_importance[view]) for view in per_view_importance)\n",
    "min_l1+max_l1"
   ]
  },
  {
   "cell_type": "code",
   "execution_count": 182,
   "id": "9800f971",
   "metadata": {},
   "outputs": [],
   "source": [
    "def l1_norm(arr):\n",
    "    norm = sum(abs(x) for x in arr)\n",
    "    return [x / (norm) for x in arr] if norm != 0 else arr"
   ]
  },
  {
   "cell_type": "code",
   "execution_count": 184,
   "id": "2d52e5b8",
   "metadata": {},
   "outputs": [
    {
     "data": {
      "text/plain": [
       "[0.08223510806536635,\n",
       " 0.08328940432261465,\n",
       " 0.08389185932675652,\n",
       " 0.08328940432261465,\n",
       " 0.08411777995330974,\n",
       " 0.0835906318246856,\n",
       " 0.0827622561939905,\n",
       " 0.08291286994502597,\n",
       " 0.08374124557572106,\n",
       " 0.0833647111981324,\n",
       " 0.08246102869191957,\n",
       " 0.08434370057986294]"
      ]
     },
     "execution_count": 184,
     "metadata": {},
     "output_type": "execute_result"
    }
   ],
   "source": [
    "l1_norm(([sum(per_view_importance[view])/len(per_view_importance[view]) for view in per_view_importance]))"
   ]
  },
  {
   "cell_type": "code",
   "execution_count": 192,
   "id": "4baa3aa3",
   "metadata": {},
   "outputs": [],
   "source": [
    "norms = [0.08223510806536635,\n",
    "    0.08328940432261465,\n",
    "    0.08389185932675652,\n",
    "    0.08328940432261465,\n",
    "    0.08411777995330974,\n",
    "    0.0835906318246856,\n",
    "    0.0827622561939905,\n",
    "    0.08291286994502597,\n",
    "    0.08374124557572106,\n",
    "    0.0833647111981324,\n",
    "    0.08246102869191957,\n",
    "    0.08434370057986294]\n",
    "norms = [1-min_l1+max_l1-x for x in norms]"
   ]
  },
  {
   "cell_type": "code",
   "execution_count": 193,
   "id": "312823f2",
   "metadata": {},
   "outputs": [
    {
     "data": {
      "text/plain": [
       "[0.9328186553754939,\n",
       " 0.9317643591182456,\n",
       " 0.9311619041141037,\n",
       " 0.9317643591182456,\n",
       " 0.9309359834875506,\n",
       " 0.9314631316161747,\n",
       " 0.9322915072468698,\n",
       " 0.9321408934958343,\n",
       " 0.9313125178651392,\n",
       " 0.9316890522427279,\n",
       " 0.9325927347489407,\n",
       " 0.9307100628609973]"
      ]
     },
     "execution_count": 193,
     "metadata": {},
     "output_type": "execute_result"
    }
   ],
   "source": [
    "norms"
   ]
  },
  {
   "cell_type": "code",
   "execution_count": 194,
   "id": "74b912f7",
   "metadata": {},
   "outputs": [],
   "source": [
    "def find_imp(arr):\n",
    "    mean = sum(abs(x) for x in arr)/len(arr)\n",
    "    return [(mean)/x for x in arr] if mean != 0 else arr"
   ]
  },
  {
   "cell_type": "code",
   "execution_count": 195,
   "id": "374a51ea",
   "metadata": {},
   "outputs": [
    {
     "data": {
      "text/plain": [
       "[0.9988226808483747,\n",
       " 0.9999528539482233,\n",
       " 1.0005998161984029,\n",
       " 0.9999528539482233,\n",
       " 1.0008426429248525,\n",
       " 1.0002762304621824,\n",
       " 0.9993874478798704,\n",
       " 0.9995489272155731,\n",
       " 1.0004379971648214,\n",
       " 1.000033678473224,\n",
       " 0.9990646456819668,\n",
       " 1.0010855875388558]"
      ]
     },
     "execution_count": 195,
     "metadata": {},
     "output_type": "execute_result"
    }
   ],
   "source": [
    "find_imp(norms)"
   ]
  },
  {
   "cell_type": "code",
   "execution_count": 172,
   "id": "20a1b051",
   "metadata": {},
   "outputs": [
    {
     "data": {
      "text/plain": [
       "[1.0133547008547008,\n",
       " 1.0005274261603374,\n",
       " 0.9933423099940155,\n",
       " 1.0005274261603374,\n",
       " 0.9906744255446135,\n",
       " 0.9969219219219219,\n",
       " 1.006900212314225,\n",
       " 1.0050711474417195,\n",
       " 0.995128896882494,\n",
       " 0.9996236073471845,\n",
       " 1.0105783866057838,\n",
       " 0.9880208333333332]"
      ]
     },
     "execution_count": 172,
     "metadata": {},
     "output_type": "execute_result"
    }
   ],
   "source": [
    "find_imp([sum(per_view_importance[view]) for view in per_view_importance])"
   ]
  },
  {
   "cell_type": "code",
   "execution_count": 136,
   "id": "bb5a87e5",
   "metadata": {},
   "outputs": [
    {
     "data": {
      "text/plain": [
       "12.000671294560666"
      ]
     },
     "execution_count": 136,
     "metadata": {},
     "output_type": "execute_result"
    }
   ],
   "source": [
    "sum(find_imp([sum(per_view_importance[view]) for view in per_view_importance]))"
   ]
  },
  {
   "cell_type": "code",
   "execution_count": 137,
   "id": "3faa8e24",
   "metadata": {},
   "outputs": [
    {
     "data": {
      "text/plain": [
       "[<matplotlib.lines.Line2D at 0x1463ce990>]"
      ]
     },
     "execution_count": 137,
     "metadata": {},
     "output_type": "execute_result"
    },
    {
     "data": {
      "image/png": "[encoded data removed]",
      "text/plain": [
       "<Figure size 640x480 with 1 Axes>"
      ]
     },
     "metadata": {},
     "output_type": "display_data"
    }
   ],
   "source": [
    "plt.plot(find_imp([sum(per_view_importance[view]) for view in per_view_importance]))"
   ]
  },
  {
   "cell_type": "markdown",
   "id": "8c27b4f1",
   "metadata": {},
   "source": [
    "## Accuarcy of Whole MVCNN Model"
   ]
  },
  {
   "cell_type": "code",
   "execution_count": 13,
   "id": "536980ef",
   "metadata": {},
   "outputs": [],
   "source": [
    "test_dataset = ImgDataset.MultiviewImgDataset(\n",
    "    root_dir='../searching-algorithm/ModelNet40-12View/*/train',\n",
    "    scale_aug=False,\n",
    "    rot_aug=False,\n",
    "    test_mode=True,\n",
    "    num_models=0,\n",
    "    num_views=12,\n",
    "    shuffle=False\n",
    ")\n",
    "test_loader = torch.utils.data.DataLoader(\n",
    "    test_dataset,\n",
    "    batch_size=1,\n",
    "    shuffle=False,\n",
    "    num_workers=1,\n",
    "    pin_memory=True\n",
    ")"
   ]
  },
  {
   "cell_type": "code",
   "execution_count": 15,
   "id": "9f91d9a7",
   "metadata": {},
   "outputs": [
    {
     "name": "stderr",
     "output_type": "stream",
     "text": [
      "                                                                           "
     ]
    },
    {
     "name": "stdout",
     "output_type": "stream",
     "text": [
      "Final Accuracy: 0.6611\n"
     ]
    },
    {
     "name": "stderr",
     "output_type": "stream",
     "text": [
      "\r"
     ]
    }
   ],
   "source": [
    "correct = 0\n",
    "total = 0\n",
    "\n",
    "pbar = tqdm(test_loader, desc=\"Testing\", leave=False, unit=\"batch\")\n",
    "\n",
    "for label, data, _ in pbar:\n",
    "    data = data.to(device)\n",
    "    label = label.to(device)\n",
    "\n",
    "    with torch.no_grad():\n",
    "        features = feature_extractor(data.squeeze(0))  # shape: [12, C, H, W]\n",
    "        pooled = torch.max(features, dim=0)[0].unsqueeze(0)\n",
    "        pooled = pooled.view(pooled.size(0), -1)\n",
    "        output = classifier(pooled)\n",
    "\n",
    "    _, pred = torch.max(output, 1)\n",
    "    correct += (pred == label).float().item()\n",
    "    total += 1\n",
    "\n",
    "    acc = correct / total\n",
    "    pbar.set_postfix(acc=f\"{acc:.4f}\")\n",
    "\n",
    "print(f\"Final Accuracy: {correct / total:.4f}\")"
   ]
  },
  {
   "cell_type": "code",
   "execution_count": null,
   "id": "36703237",
   "metadata": {},
   "outputs": [],
   "source": []
  }
 ],
 "metadata": {
  "kernelspec": {
   "display_name": "ML",
   "language": "python",
   "name": "python3"
  },
  "language_info": {
   "codemirror_mode": {
    "name": "ipython",
    "version": 3
   },
   "file_extension": ".py",
   "mimetype": "text/x-python",
   "name": "python",
   "nbconvert_exporter": "python",
   "pygments_lexer": "ipython3",
   "version": "3.13.3"
  }
 },
 "nbformat": 4,
 "nbformat_minor": 5
}
