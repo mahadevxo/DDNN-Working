{
 "cells": [
  {
   "cell_type": "code",
   "execution_count": 1,
   "id": "823d24b8",
   "metadata": {},
   "outputs": [],
   "source": [
    "from models import MVCNN\n",
    "from tools import ImgDataset\n",
    "import torch\n",
    "import numpy as np\n",
    "import csv\n",
    "from tqdm import tqdm"
   ]
  },
  {
   "cell_type": "code",
   "execution_count": 2,
   "id": "cdbd4190",
   "metadata": {},
   "outputs": [],
   "source": [
    "device = 'mps' if torch.backends.mps.is_available() else 'cuda' if torch.cuda.is_available() else 'cpu'"
   ]
  },
  {
   "cell_type": "code",
   "execution_count": 3,
   "id": "2921957f",
   "metadata": {},
   "outputs": [
    {
     "data": {
      "text/plain": [
       "SVCNN(\n",
       "  (net_1): Sequential(\n",
       "    (0): Conv2d(3, 64, kernel_size=(3, 3), stride=(1, 1), padding=(1, 1))\n",
       "    (1): ReLU(inplace=True)\n",
       "    (2): MaxPool2d(kernel_size=2, stride=2, padding=0, dilation=1, ceil_mode=False)\n",
       "    (3): Conv2d(64, 128, kernel_size=(3, 3), stride=(1, 1), padding=(1, 1))\n",
       "    (4): ReLU(inplace=True)\n",
       "    (5): MaxPool2d(kernel_size=2, stride=2, padding=0, dilation=1, ceil_mode=False)\n",
       "    (6): Conv2d(128, 256, kernel_size=(3, 3), stride=(1, 1), padding=(1, 1))\n",
       "    (7): ReLU(inplace=True)\n",
       "    (8): Conv2d(256, 256, kernel_size=(3, 3), stride=(1, 1), padding=(1, 1))\n",
       "    (9): ReLU(inplace=True)\n",
       "    (10): MaxPool2d(kernel_size=2, stride=2, padding=0, dilation=1, ceil_mode=False)\n",
       "    (11): Conv2d(256, 512, kernel_size=(3, 3), stride=(1, 1), padding=(1, 1))\n",
       "    (12): ReLU(inplace=True)\n",
       "    (13): Conv2d(512, 512, kernel_size=(3, 3), stride=(1, 1), padding=(1, 1))\n",
       "    (14): ReLU(inplace=True)\n",
       "    (15): MaxPool2d(kernel_size=2, stride=2, padding=0, dilation=1, ceil_mode=False)\n",
       "    (16): Conv2d(512, 512, kernel_size=(3, 3), stride=(1, 1), padding=(1, 1))\n",
       "    (17): ReLU(inplace=True)\n",
       "    (18): Conv2d(512, 512, kernel_size=(3, 3), stride=(1, 1), padding=(1, 1))\n",
       "    (19): ReLU(inplace=True)\n",
       "    (20): MaxPool2d(kernel_size=2, stride=2, padding=0, dilation=1, ceil_mode=False)\n",
       "  )\n",
       "  (net_2): Sequential(\n",
       "    (0): Linear(in_features=25088, out_features=4096, bias=True)\n",
       "    (1): ReLU(inplace=True)\n",
       "    (2): Dropout(p=0.5, inplace=False)\n",
       "    (3): Linear(in_features=4096, out_features=4096, bias=True)\n",
       "    (4): ReLU(inplace=True)\n",
       "    (5): Dropout(p=0.5, inplace=False)\n",
       "    (6): Linear(in_features=4096, out_features=33, bias=True)\n",
       "  )\n",
       ")"
      ]
     },
     "execution_count": 3,
     "metadata": {},
     "output_type": "execute_result"
    }
   ],
   "source": [
    "model = MVCNN.SVCNN('svcnn')\n",
    "weights = torch.load('../test_results/MVCNN/trained-models/MVCNN/model-00030.pth', map_location=device)\n",
    "model.load_state_dict(weights)\n",
    "model.to(device)\n",
    "model.eval()"
   ]
  },
  {
   "cell_type": "code",
   "execution_count": 4,
   "id": "32815c7f",
   "metadata": {},
   "outputs": [],
   "source": [
    "test_dataset = ImgDataset.MultiviewImgDataset(\n",
    "    root_dir='../searching-algorithm/ModelNet40-12View/*/test',\n",
    "    scale_aug=False,\n",
    "    rot_aug=False,\n",
    "    test_mode=True,\n",
    "    num_models=0,\n",
    "    num_views=12,\n",
    "    shuffle=False\n",
    ")\n",
    "test_loader = torch.utils.data.DataLoader(\n",
    "    test_dataset,\n",
    "    batch_size=1,  # Set batch_size to 1 to get all 12 views of a single model\n",
    "    shuffle=False,\n",
    "    num_workers=1,\n",
    "    pin_memory=True\n",
    ")"
   ]
  },
  {
   "cell_type": "code",
   "execution_count": null,
   "id": "fd234112",
   "metadata": {},
   "outputs": [],
   "source": [
    "# Extract CNN feature extractor from the model\n",
    "feature_extractor = model.net_1\n",
    "classifier = model.net_2\n",
    "\n",
    "feature_extractor.eval()\n",
    "classifier.eval()\n",
    "\n",
    "num_views = 12  # Number of views per model"
   ]
  },
  {
   "cell_type": "markdown",
   "id": "943d291a",
   "metadata": {},
   "source": [
    "views are as\n",
    "\n",
    "0, 1, 10, 11, 2, 3, 4, 5, 6, 7, 8, 9"
   ]
  },
  {
   "cell_type": "code",
   "execution_count": null,
   "id": "ee5599ee",
   "metadata": {},
   "outputs": [],
   "source": [
    "view_importance = {}\n",
    "sum_baseline = 0"
   ]
  },
  {
   "cell_type": "code",
   "execution_count": null,
   "id": "aea10118",
   "metadata": {},
   "outputs": [],
   "source": [
    "view_importance = {}\n",
    "\n",
    "# Wrap test_loader with tqdm\n",
    "for batch_idx, (target, data, _) in enumerate(tqdm(test_loader, desc=\"Batches\")):\n",
    "    \n",
    "    sum_baseline = 0\n",
    "    \n",
    "    data = data.to(device)  # shape: [1, 12, 3, 244, 244]\n",
    "    target = target.to(device)\n",
    "\n",
    "    all_views = data.squeeze(0)  # shape: [12, 3, 244, 244]\n",
    "\n",
    "    # === Baseline ===\n",
    "    all_feats = feature_extractor(all_views)  # shape: [12, C, H, W]\n",
    "    pooled = torch.max(all_feats, dim=0)[0]  # shape: [C, H, W]\n",
    "    pooled = pooled.unsqueeze(0)  # shape: [1, C, H, W]\n",
    "    flattened = pooled.view(pooled.size(0), -1)  # shape: [1, C*H*W]\n",
    "    with torch.no_grad():\n",
    "        output = classifier(flattened)\n",
    "    _, predicted = torch.max(output, 1)\n",
    "    baseline_acc = (predicted == target).float().item()\n",
    "    sum_baseline += baseline_acc\n",
    "\n",
    "    # if batch_idx % 100 == 0:\n",
    "        # print(f\"Processed {batch_idx} batches, current average baseline accuracy: {sum_baseline / (batch_idx + 1):.4f}\")\n",
    "\n",
    "    # === Per-View Importance ===\n",
    "    for view in tqdm(range(12), desc=f\"View removal batch {batch_idx}\", leave=False):\n",
    "        views_removed = torch.cat([all_views[:view], all_views[view+1:]], dim=0)\n",
    "        feats = feature_extractor(views_removed)\n",
    "        pooled = torch.max(feats, dim=0)[0].unsqueeze(0)\n",
    "        flattened = pooled.view(pooled.size(0), -1)\n",
    "        with torch.no_grad():\n",
    "            output = classifier(flattened)\n",
    "        _, predicted = torch.max(output, 1)\n",
    "        acc = (predicted == target).float().item()\n",
    "\n",
    "        # accuracy drop = baseline - acc\n",
    "        drop = baseline_acc - acc\n",
    "        \n",
    "        if view in view_importance:\n",
    "            view_importance[view] += drop\n",
    "        else:\n",
    "            view_importance[view] = drop"
   ]
  },
  {
   "cell_type": "code",
   "execution_count": 61,
   "id": "296e77d1",
   "metadata": {},
   "outputs": [],
   "source": [
    "view_importance = {\n",
    "    0: 55.0,\n",
    "    1: 37.0,\n",
    "    2: 61.0,\n",
    "    3: 45.0,\n",
    "    4: 52.0,\n",
    "    5: 57.0,\n",
    "    6: 48.0,\n",
    "    7: 46.0,\n",
    "    8: 43.0,\n",
    "    9: 49.0,\n",
    "    10: 49.0,\n",
    "    11: 55.0\n",
    "} #more the loss, more the importance"
   ]
  },
  {
   "cell_type": "code",
   "execution_count": 62,
   "id": "3c094106",
   "metadata": {},
   "outputs": [],
   "source": [
    "#normalize the importance\n",
    "diff = max(view_importance.values())\n",
    "for view in view_importance:\n",
    "    view_importance[view] /= diff"
   ]
  },
  {
   "cell_type": "code",
   "execution_count": 63,
   "id": "aa47ae24",
   "metadata": {},
   "outputs": [],
   "source": [
    "# sort the view importance\n",
    "sorted_view_importance = sorted(view_importance.items(), key=lambda x: x[1], reverse=True)"
   ]
  },
  {
   "cell_type": "code",
   "execution_count": 64,
   "id": "785b4089",
   "metadata": {},
   "outputs": [
    {
     "data": {
      "text/plain": [
       "[(2, 1.0),\n",
       " (5, 0.9344262295081968),\n",
       " (0, 0.9016393442622951),\n",
       " (11, 0.9016393442622951),\n",
       " (4, 0.8524590163934426),\n",
       " (9, 0.8032786885245902),\n",
       " (10, 0.8032786885245902),\n",
       " (6, 0.7868852459016393),\n",
       " (7, 0.7540983606557377),\n",
       " (3, 0.7377049180327869),\n",
       " (8, 0.7049180327868853),\n",
       " (1, 0.6065573770491803)]"
      ]
     },
     "execution_count": 64,
     "metadata": {},
     "output_type": "execute_result"
    }
   ],
   "source": [
    "sorted_view_importance"
   ]
  },
  {
   "cell_type": "code",
   "execution_count": null,
   "id": "2ae01206",
   "metadata": {},
   "outputs": [],
   "source": []
  }
 ],
 "metadata": {
  "kernelspec": {
   "display_name": "ML",
   "language": "python",
   "name": "python3"
  },
  "language_info": {
   "codemirror_mode": {
    "name": "ipython",
    "version": 3
   },
   "file_extension": ".py",
   "mimetype": "text/x-python",
   "name": "python",
   "nbconvert_exporter": "python",
   "pygments_lexer": "ipython3",
   "version": "3.13.3"
  }
 },
 "nbformat": 4,
 "nbformat_minor": 5
}
