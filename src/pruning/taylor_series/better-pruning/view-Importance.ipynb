{
 "cells": [
  {
   "cell_type": "code",
   "execution_count": 1,
   "id": "823d24b8",
   "metadata": {},
   "outputs": [],
   "source": [
    "import torch\n",
    "from tqdm import tqdm\n",
    "# add path\n",
    "import sys\n",
    "sys.path.append('../../../MVCNN')\n",
    "from models import MVCNN\n",
    "from tools import ImgDataset\n",
    "import numpy as np"
   ]
  },
  {
   "cell_type": "markdown",
   "id": "94caf73e",
   "metadata": {},
   "source": [
    "# Calculating Importance"
   ]
  },
  {
   "cell_type": "markdown",
   "id": "c174039e",
   "metadata": {},
   "source": [
    "## Initialization"
   ]
  },
  {
   "cell_type": "code",
   "execution_count": 2,
   "id": "cdbd4190",
   "metadata": {},
   "outputs": [],
   "source": [
    "device = 'mps' if torch.backends.mps.is_available() else 'cuda' if torch.cuda.is_available() else 'cpu'"
   ]
  },
  {
   "cell_type": "code",
   "execution_count": 3,
   "id": "2921957f",
   "metadata": {},
   "outputs": [
    {
     "data": {
      "text/plain": [
       "SVCNN(\n",
       "  (net_1): Sequential(\n",
       "    (0): Conv2d(3, 64, kernel_size=(3, 3), stride=(1, 1), padding=(1, 1))\n",
       "    (1): ReLU(inplace=True)\n",
       "    (2): MaxPool2d(kernel_size=2, stride=2, padding=0, dilation=1, ceil_mode=False)\n",
       "    (3): Conv2d(64, 128, kernel_size=(3, 3), stride=(1, 1), padding=(1, 1))\n",
       "    (4): ReLU(inplace=True)\n",
       "    (5): MaxPool2d(kernel_size=2, stride=2, padding=0, dilation=1, ceil_mode=False)\n",
       "    (6): Conv2d(128, 256, kernel_size=(3, 3), stride=(1, 1), padding=(1, 1))\n",
       "    (7): ReLU(inplace=True)\n",
       "    (8): Conv2d(256, 256, kernel_size=(3, 3), stride=(1, 1), padding=(1, 1))\n",
       "    (9): ReLU(inplace=True)\n",
       "    (10): MaxPool2d(kernel_size=2, stride=2, padding=0, dilation=1, ceil_mode=False)\n",
       "    (11): Conv2d(256, 512, kernel_size=(3, 3), stride=(1, 1), padding=(1, 1))\n",
       "    (12): ReLU(inplace=True)\n",
       "    (13): Conv2d(512, 512, kernel_size=(3, 3), stride=(1, 1), padding=(1, 1))\n",
       "    (14): ReLU(inplace=True)\n",
       "    (15): MaxPool2d(kernel_size=2, stride=2, padding=0, dilation=1, ceil_mode=False)\n",
       "    (16): Conv2d(512, 512, kernel_size=(3, 3), stride=(1, 1), padding=(1, 1))\n",
       "    (17): ReLU(inplace=True)\n",
       "    (18): Conv2d(512, 512, kernel_size=(3, 3), stride=(1, 1), padding=(1, 1))\n",
       "    (19): ReLU(inplace=True)\n",
       "    (20): MaxPool2d(kernel_size=2, stride=2, padding=0, dilation=1, ceil_mode=False)\n",
       "  )\n",
       "  (net_2): Sequential(\n",
       "    (0): Linear(in_features=25088, out_features=4096, bias=True)\n",
       "    (1): ReLU(inplace=True)\n",
       "    (2): Dropout(p=0.5, inplace=False)\n",
       "    (3): Linear(in_features=4096, out_features=4096, bias=True)\n",
       "    (4): ReLU(inplace=True)\n",
       "    (5): Dropout(p=0.5, inplace=False)\n",
       "    (6): Linear(in_features=4096, out_features=33, bias=True)\n",
       "  )\n",
       ")"
      ]
     },
     "execution_count": 3,
     "metadata": {},
     "output_type": "execute_result"
    }
   ],
   "source": [
    "model = MVCNN.SVCNN('mvcnn')\n",
    "weights = torch.load('../../../MVCNN/MVCNN/model-mvcnn-00050.pth', map_location=device)\n",
    "model.load_state_dict(weights)\n",
    "model.to(device)\n",
    "model.eval()"
   ]
  },
  {
   "cell_type": "code",
   "execution_count": 4,
   "id": "fd234112",
   "metadata": {},
   "outputs": [],
   "source": [
    "# Extract CNN feature extractor from the model\n",
    "feature_extractor = model.net_1\n",
    "classifier = model.net_2\n",
    "\n",
    "feature_extractor.eval()\n",
    "classifier.eval()\n",
    "\n",
    "num_views = 12  # Number of views per model"
   ]
  },
  {
   "cell_type": "markdown",
   "id": "895be02c",
   "metadata": {},
   "source": [
    "## Accuracy Calculator"
   ]
  },
  {
   "cell_type": "code",
   "execution_count": 5,
   "id": "d12fb86e",
   "metadata": {},
   "outputs": [],
   "source": [
    "def validate_model(model,\n",
    "                   model_name,\n",
    "                   test_loader,\n",
    "                   single_view: bool = False,\n",
    "                   view_idx: int = 0):\n",
    "    all_correct = 0\n",
    "    all_samples = 0\n",
    "    all_loss = 0.0\n",
    "\n",
    "    # for per‐class stats (if you still want them)\n",
    "    wrong_class   = np.zeros(33, dtype=int)\n",
    "    samples_class = np.zeros(33, dtype=int)\n",
    "\n",
    "    model.eval()\n",
    "    pbar = tqdm(test_loader, desc=f'Val {model_name}'+(' (1 view)' if single_view else ''), unit='batch')\n",
    "    for batch_i, data in enumerate(pbar):\n",
    "        labels, views = data[0].to(device), data[1].to(device)\n",
    "        # views: (N, V, C, H, W)\n",
    "        if model_name == 'mvcnn' and not single_view:\n",
    "            # —— full MVCNN voting as before ——\n",
    "            N, V, C, H, W = views.size()\n",
    "            x = views.view(-1, C, H, W)                # (N*V, C, H, W)\n",
    "            tgt = labels.repeat_interleave(V, dim=0)   # (N*V,)\n",
    "            out = model(x)\n",
    "            preds = out.argmax(1)\n",
    "\n",
    "            # compute batch loss\n",
    "            all_loss += torch.nn.functional.cross_entropy(out, tgt).item()\n",
    "            \n",
    "            # majority vote per object\n",
    "            batch_correct = 0\n",
    "            for i in range(N):\n",
    "                vp = preds[i*V:(i+1)*V].cpu()\n",
    "                voted = torch.mode(vp)[0]\n",
    "                if voted == labels[i].cpu():\n",
    "                    batch_correct += 1\n",
    "                else:\n",
    "                    wrong_class[labels[i].item()] += 1\n",
    "                samples_class[labels[i].item()] += 1\n",
    "\n",
    "            all_correct += batch_correct\n",
    "            all_samples += N\n",
    "            acc = batch_correct / N\n",
    "\n",
    "        else:\n",
    "            # —— single‐view branch (or any non-mvcnn model) ——\n",
    "            # pick one view:\n",
    "            x     = views[:, view_idx, ...]    # (N, C, H, W)\n",
    "            tgt   = labels                     # (N,)\n",
    "            out   = model(x)\n",
    "            preds = out.argmax(1)\n",
    "\n",
    "            all_loss += torch.nn.functional.cross_entropy(out, tgt).item()\n",
    "            \n",
    "            # accumulate per‐class if you want\n",
    "            matches = (preds == tgt)\n",
    "            for i, correct in enumerate(matches):\n",
    "                samples_class[tgt[i].item()] += 1\n",
    "                if not correct:\n",
    "                    wrong_class[tgt[i].item()] += 1\n",
    "\n",
    "            batch_correct = matches.sum().item()\n",
    "            all_correct += batch_correct\n",
    "            all_samples += tgt.size(0)\n",
    "            acc = batch_correct / tgt.size(0)\n",
    "\n",
    "        pbar.set_postfix({\n",
    "            'acc':  f'{acc:.4f}',\n",
    "            'loss': f'{(all_loss / (batch_i+1)):.4f}'\n",
    "        })\n",
    "\n",
    "    overall_acc = all_correct / all_samples\n",
    "    per_cls     = (samples_class - wrong_class) / np.maximum(samples_class, 1)\n",
    "    mean_cls    = per_cls[samples_class>0].mean()\n",
    "\n",
    "    print(f'\\nOverall Acc: {overall_acc:.4f}   Mean Class Acc: {mean_cls:.4f}')"
   ]
  },
  {
   "cell_type": "markdown",
   "id": "d3874bb6",
   "metadata": {},
   "source": [
    "## Dataset Initializer"
   ]
  },
  {
   "cell_type": "markdown",
   "id": "7952a225",
   "metadata": {},
   "source": [
    "### MVCNN Dataset"
   ]
  },
  {
   "cell_type": "code",
   "execution_count": 6,
   "id": "f160f75f",
   "metadata": {},
   "outputs": [],
   "source": [
    "test_dataset_mvcnn = ImgDataset.MultiviewImgDataset(\n",
    "    root_dir='../../../MVCNN/ModelNet40-12View/*/test',\n",
    "    scale_aug=False,\n",
    "    rot_aug=False,\n",
    "    test_mode=True,\n",
    "    num_models=0,\n",
    "    num_views=12,\n",
    ")\n",
    "test_loader_mvcnn = torch.utils.data.DataLoader(\n",
    "    test_dataset_mvcnn,\n",
    "    batch_size=8,\n",
    "    shuffle=False,\n",
    "    num_workers=4,\n",
    "    pin_memory=True\n",
    ")"
   ]
  },
  {
   "cell_type": "markdown",
   "id": "21b8b003",
   "metadata": {},
   "source": [
    "### SVCNN Dataset"
   ]
  },
  {
   "cell_type": "code",
   "execution_count": 7,
   "id": "0b82b55b",
   "metadata": {},
   "outputs": [],
   "source": [
    "test_dataset_svcnn = ImgDataset.SingleImgDataset(\n",
    "    root_dir='../../../MVCNN/ModelNet40-12View/*/test',\n",
    "    scale_aug=False,\n",
    "    rot_aug=False,\n",
    "    test_mode=True,\n",
    "    num_models=0,\n",
    ")\n",
    "test_loader_svcnn = torch.utils.data.DataLoader(\n",
    "    test_dataset_svcnn,\n",
    "    batch_size=32,\n",
    "    shuffle=False,\n",
    "    num_workers=4,\n",
    "    pin_memory=True\n",
    ")"
   ]
  },
  {
   "cell_type": "markdown",
   "id": "e6c69600",
   "metadata": {},
   "source": [
    "## Baseline Accuracy"
   ]
  },
  {
   "cell_type": "code",
   "execution_count": 8,
   "id": "64e2e9e7",
   "metadata": {},
   "outputs": [
    {
     "name": "stderr",
     "output_type": "stream",
     "text": [
      "Val mvcnn: 100%|██████████| 233/233 [01:41<00:00,  2.30batch/s, acc=1.0000, loss=1.3893]"
     ]
    },
    {
     "name": "stdout",
     "output_type": "stream",
     "text": [
      "\n",
      "Overall Acc: 0.9177   Mean Class Acc: 0.8773\n"
     ]
    },
    {
     "name": "stderr",
     "output_type": "stream",
     "text": [
      "\n"
     ]
    }
   ],
   "source": [
    "validate_model(model, 'mvcnn', test_loader_mvcnn, single_view=False, view_idx=0)"
   ]
  },
  {
   "cell_type": "markdown",
   "id": "1dd1a6da",
   "metadata": {},
   "source": [
    "## Accuracy Of Each View"
   ]
  },
  {
   "cell_type": "code",
   "execution_count": 9,
   "id": "b8ae7176",
   "metadata": {},
   "outputs": [],
   "source": [
    "views = [0, 1, 10, 11, 2, 3, 4, 5, 6, 7, 8, 9]"
   ]
  },
  {
   "cell_type": "code",
   "execution_count": 10,
   "id": "67bb6a75",
   "metadata": {},
   "outputs": [
    {
     "name": "stdout",
     "output_type": "stream",
     "text": [
      "\n",
      "Validating view 0...\n"
     ]
    },
    {
     "name": "stderr",
     "output_type": "stream",
     "text": [
      "Val mvcnn (1 view): 100%|██████████| 233/233 [00:35<00:00,  6.64batch/s, acc=1.0000, loss=1.4149]\n"
     ]
    },
    {
     "name": "stdout",
     "output_type": "stream",
     "text": [
      "\n",
      "Overall Acc: 0.8742   Mean Class Acc: 0.8224\n",
      "\n",
      "Validating view 1...\n"
     ]
    },
    {
     "name": "stderr",
     "output_type": "stream",
     "text": [
      "Val mvcnn (1 view): 100%|██████████| 233/233 [00:33<00:00,  6.97batch/s, acc=0.7500, loss=1.2530]\n"
     ]
    },
    {
     "name": "stdout",
     "output_type": "stream",
     "text": [
      "\n",
      "Overall Acc: 0.8887   Mean Class Acc: 0.8427\n",
      "\n",
      "Validating view 10...\n"
     ]
    },
    {
     "name": "stderr",
     "output_type": "stream",
     "text": [
      "Val mvcnn (1 view): 100%|██████████| 233/233 [00:33<00:00,  6.99batch/s, acc=1.0000, loss=1.3136]\n"
     ]
    },
    {
     "name": "stdout",
     "output_type": "stream",
     "text": [
      "\n",
      "Overall Acc: 0.8909   Mean Class Acc: 0.8488\n",
      "\n",
      "Validating view 11...\n"
     ]
    },
    {
     "name": "stderr",
     "output_type": "stream",
     "text": [
      "Val mvcnn (1 view): 100%|██████████| 233/233 [00:33<00:00,  7.02batch/s, acc=1.0000, loss=1.2038]\n"
     ]
    },
    {
     "name": "stdout",
     "output_type": "stream",
     "text": [
      "\n",
      "Overall Acc: 0.8968   Mean Class Acc: 0.8485\n",
      "\n",
      "Validating view 2...\n"
     ]
    },
    {
     "name": "stderr",
     "output_type": "stream",
     "text": [
      "Val mvcnn (1 view): 100%|██████████| 233/233 [00:33<00:00,  7.00batch/s, acc=0.7500, loss=1.2764]\n"
     ]
    },
    {
     "name": "stdout",
     "output_type": "stream",
     "text": [
      "\n",
      "Overall Acc: 0.8914   Mean Class Acc: 0.8588\n",
      "\n",
      "Validating view 3...\n"
     ]
    },
    {
     "name": "stderr",
     "output_type": "stream",
     "text": [
      "Val mvcnn (1 view): 100%|██████████| 233/233 [00:34<00:00,  6.83batch/s, acc=0.7500, loss=1.5373]\n"
     ]
    },
    {
     "name": "stdout",
     "output_type": "stream",
     "text": [
      "\n",
      "Overall Acc: 0.8478   Mean Class Acc: 0.8076\n",
      "\n",
      "Validating view 4...\n"
     ]
    },
    {
     "name": "stderr",
     "output_type": "stream",
     "text": [
      "Val mvcnn (1 view): 100%|██████████| 233/233 [00:33<00:00,  6.90batch/s, acc=0.7500, loss=1.4712]\n"
     ]
    },
    {
     "name": "stdout",
     "output_type": "stream",
     "text": [
      "\n",
      "Overall Acc: 0.8823   Mean Class Acc: 0.8488\n",
      "\n",
      "Validating view 5...\n"
     ]
    },
    {
     "name": "stderr",
     "output_type": "stream",
     "text": [
      "Val mvcnn (1 view): 100%|██████████| 233/233 [00:33<00:00,  6.89batch/s, acc=0.7500, loss=1.4172]\n"
     ]
    },
    {
     "name": "stdout",
     "output_type": "stream",
     "text": [
      "\n",
      "Overall Acc: 0.8844   Mean Class Acc: 0.8342\n",
      "\n",
      "Validating view 6...\n"
     ]
    },
    {
     "name": "stderr",
     "output_type": "stream",
     "text": [
      "Val mvcnn (1 view): 100%|██████████| 233/233 [00:34<00:00,  6.78batch/s, acc=0.7500, loss=1.5293]\n"
     ]
    },
    {
     "name": "stdout",
     "output_type": "stream",
     "text": [
      "\n",
      "Overall Acc: 0.8688   Mean Class Acc: 0.8145\n",
      "\n",
      "Validating view 7...\n"
     ]
    },
    {
     "name": "stderr",
     "output_type": "stream",
     "text": [
      "Val mvcnn (1 view): 100%|██████████| 233/233 [00:34<00:00,  6.69batch/s, acc=0.7500, loss=1.3619]\n"
     ]
    },
    {
     "name": "stdout",
     "output_type": "stream",
     "text": [
      "\n",
      "Overall Acc: 0.8930   Mean Class Acc: 0.8452\n",
      "\n",
      "Validating view 8...\n"
     ]
    },
    {
     "name": "stderr",
     "output_type": "stream",
     "text": [
      "Val mvcnn (1 view): 100%|██████████| 233/233 [00:33<00:00,  6.91batch/s, acc=0.7500, loss=1.3240]\n"
     ]
    },
    {
     "name": "stdout",
     "output_type": "stream",
     "text": [
      "\n",
      "Overall Acc: 0.8914   Mean Class Acc: 0.8491\n",
      "\n",
      "Validating view 9...\n"
     ]
    },
    {
     "name": "stderr",
     "output_type": "stream",
     "text": [
      "Val mvcnn (1 view): 100%|██████████| 233/233 [00:33<00:00,  6.89batch/s, acc=1.0000, loss=1.5693]"
     ]
    },
    {
     "name": "stdout",
     "output_type": "stream",
     "text": [
      "\n",
      "Overall Acc: 0.8710   Mean Class Acc: 0.8242\n"
     ]
    },
    {
     "name": "stderr",
     "output_type": "stream",
     "text": [
      "\n"
     ]
    }
   ],
   "source": [
    "for i in range(num_views):\n",
    "    print(f'\\nValidating view {views[i]}...')\n",
    "    validate_model(model, 'mvcnn', test_loader_mvcnn, single_view=True, view_idx=i)"
   ]
  },
  {
   "cell_type": "markdown",
   "id": "9deee827",
   "metadata": {},
   "source": [
    "## Accuracy While Removing Views"
   ]
  },
  {
   "cell_type": "markdown",
   "id": "008acb7f",
   "metadata": {},
   "source": [
    "#### Use Multi View Dataset"
   ]
  },
  {
   "cell_type": "code",
   "execution_count": null,
   "id": "bd6b2dcf",
   "metadata": {},
   "outputs": [],
   "source": []
  }
 ],
 "metadata": {
  "kernelspec": {
   "display_name": "ML",
   "language": "python",
   "name": "python3"
  },
  "language_info": {
   "codemirror_mode": {
    "name": "ipython",
    "version": 3
   },
   "file_extension": ".py",
   "mimetype": "text/x-python",
   "name": "python",
   "nbconvert_exporter": "python",
   "pygments_lexer": "ipython3",
   "version": "3.13.3"
  }
 },
 "nbformat": 4,
 "nbformat_minor": 5
}
