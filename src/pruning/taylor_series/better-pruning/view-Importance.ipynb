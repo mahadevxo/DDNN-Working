{
 "cells": [
  {
   "cell_type": "code",
   "execution_count": 1,
   "id": "823d24b8",
   "metadata": {},
   "outputs": [],
   "source": [
    "from models import MVCNN\n",
    "from tools import ImgDataset\n",
    "import torch\n",
    "import numpy as np\n",
    "import csv\n",
    "from tqdm import tqdm"
   ]
  },
  {
   "cell_type": "code",
   "execution_count": 2,
   "id": "cdbd4190",
   "metadata": {},
   "outputs": [],
   "source": [
    "device = 'mps' if torch.backends.mps.is_available() else 'cuda' if torch.cuda.is_available() else 'cpu'"
   ]
  },
  {
   "cell_type": "code",
   "execution_count": 3,
   "id": "2921957f",
   "metadata": {},
   "outputs": [
    {
     "data": {
      "text/plain": [
       "SVCNN(\n",
       "  (net_1): Sequential(\n",
       "    (0): Conv2d(3, 64, kernel_size=(3, 3), stride=(1, 1), padding=(1, 1))\n",
       "    (1): ReLU(inplace=True)\n",
       "    (2): MaxPool2d(kernel_size=2, stride=2, padding=0, dilation=1, ceil_mode=False)\n",
       "    (3): Conv2d(64, 128, kernel_size=(3, 3), stride=(1, 1), padding=(1, 1))\n",
       "    (4): ReLU(inplace=True)\n",
       "    (5): MaxPool2d(kernel_size=2, stride=2, padding=0, dilation=1, ceil_mode=False)\n",
       "    (6): Conv2d(128, 256, kernel_size=(3, 3), stride=(1, 1), padding=(1, 1))\n",
       "    (7): ReLU(inplace=True)\n",
       "    (8): Conv2d(256, 256, kernel_size=(3, 3), stride=(1, 1), padding=(1, 1))\n",
       "    (9): ReLU(inplace=True)\n",
       "    (10): MaxPool2d(kernel_size=2, stride=2, padding=0, dilation=1, ceil_mode=False)\n",
       "    (11): Conv2d(256, 512, kernel_size=(3, 3), stride=(1, 1), padding=(1, 1))\n",
       "    (12): ReLU(inplace=True)\n",
       "    (13): Conv2d(512, 512, kernel_size=(3, 3), stride=(1, 1), padding=(1, 1))\n",
       "    (14): ReLU(inplace=True)\n",
       "    (15): MaxPool2d(kernel_size=2, stride=2, padding=0, dilation=1, ceil_mode=False)\n",
       "    (16): Conv2d(512, 512, kernel_size=(3, 3), stride=(1, 1), padding=(1, 1))\n",
       "    (17): ReLU(inplace=True)\n",
       "    (18): Conv2d(512, 512, kernel_size=(3, 3), stride=(1, 1), padding=(1, 1))\n",
       "    (19): ReLU(inplace=True)\n",
       "    (20): MaxPool2d(kernel_size=2, stride=2, padding=0, dilation=1, ceil_mode=False)\n",
       "  )\n",
       "  (net_2): Sequential(\n",
       "    (0): Linear(in_features=25088, out_features=4096, bias=True)\n",
       "    (1): ReLU(inplace=True)\n",
       "    (2): Dropout(p=0.5, inplace=False)\n",
       "    (3): Linear(in_features=4096, out_features=4096, bias=True)\n",
       "    (4): ReLU(inplace=True)\n",
       "    (5): Dropout(p=0.5, inplace=False)\n",
       "    (6): Linear(in_features=4096, out_features=33, bias=True)\n",
       "  )\n",
       ")"
      ]
     },
     "execution_count": 3,
     "metadata": {},
     "output_type": "execute_result"
    }
   ],
   "source": [
    "model = MVCNN.SVCNN('svcnn')\n",
    "weights = torch.load('../test_results/MVCNN/trained-models/MVCNN/model-00030.pth', map_location=device)\n",
    "model.load_state_dict(weights)\n",
    "model.to(device)\n",
    "model.eval()"
   ]
  },
  {
   "cell_type": "code",
   "execution_count": 4,
   "id": "32815c7f",
   "metadata": {},
   "outputs": [],
   "source": [
    "test_dataset = ImgDataset.MultiviewImgDataset(\n",
    "    root_dir='../searching-algorithm/ModelNet40-12View/*/test',\n",
    "    scale_aug=False,\n",
    "    rot_aug=False,\n",
    "    test_mode=True,\n",
    "    num_models=0,\n",
    "    num_views=12,\n",
    "    shuffle=False\n",
    ")\n",
    "test_loader = torch.utils.data.DataLoader(\n",
    "    test_dataset,\n",
    "    batch_size=1,  # Set batch_size to 1 to get all 12 views of a single model\n",
    "    shuffle=False,\n",
    "    num_workers=1,\n",
    "    pin_memory=True\n",
    ")"
   ]
  },
  {
   "cell_type": "code",
   "execution_count": null,
   "id": "fd234112",
   "metadata": {},
   "outputs": [],
   "source": [
    "# Extract CNN feature extractor from the model\n",
    "feature_extractor = model.net_1\n",
    "classifier = model.net_2\n",
    "\n",
    "feature_extractor.eval()\n",
    "classifier.eval()\n",
    "\n",
    "num_views = 12  # Number of views per model"
   ]
  },
  {
   "cell_type": "markdown",
   "id": "943d291a",
   "metadata": {},
   "source": [
    "views are as\n",
    "\n",
    "0, 1, 10, 11, 2, 3, 4, 5, 6, 7, 8, 9"
   ]
  },
  {
   "cell_type": "code",
   "execution_count": null,
   "id": "ee5599ee",
   "metadata": {},
   "outputs": [],
   "source": [
    "ranking = {}\n",
    "sum_baseline = 0"
   ]
  },
  {
   "cell_type": "code",
   "execution_count": null,
   "id": "aea10118",
   "metadata": {},
   "outputs": [],
   "source": [
    "ranking = {}\n",
    "\n",
    "# Wrap test_loader with tqdm\n",
    "for batch_idx, (target, data, _) in enumerate(tqdm(test_loader, desc=\"Batches\")):\n",
    "    \n",
    "    data = data.to(device)  # shape: [1, 12, 3, 244, 244]\n",
    "    target = target.to(device)\n",
    "\n",
    "    all_views = data.squeeze(0)  # shape: [12, 3, 244, 244]\n",
    "\n",
    "    # === Baseline ===\n",
    "    all_feats = feature_extractor(all_views)  # shape: [12, C, H, W]\n",
    "    pooled = torch.max(all_feats, dim=0)[0]  # shape: [C, H, W]\n",
    "    pooled = pooled.unsqueeze(0)  # shape: [1, C, H, W]\n",
    "    flattened = pooled.view(pooled.size(0), -1)  # shape: [1, C*H*W]\n",
    "    with torch.no_grad():\n",
    "        output = classifier(flattened)\n",
    "    _, predicted = torch.max(output, 1)\n",
    "    baseline_acc = (predicted == target).float().item()\n",
    "\n",
    "    # if batch_idx % 100 == 0:\n",
    "        # print(f\"Processed {batch_idx} batches, current average baseline accuracy: {sum_baseline / (batch_idx + 1):.4f}\")\n",
    "\n",
    "    # === Per-View Importance ===\n",
    "    for view in tqdm(range(12), desc=f\"View removal batch {batch_idx}\", leave=False):\n",
    "        views_removed = torch.cat([all_views[:view], all_views[view+1:]], dim=0)\n",
    "        feats = feature_extractor(views_removed)\n",
    "        pooled = torch.max(feats, dim=0)[0].unsqueeze(0)\n",
    "        flattened = pooled.view(pooled.size(0), -1)\n",
    "        with torch.no_grad():\n",
    "            output = classifier(flattened)\n",
    "        _, predicted = torch.max(output, 1)\n",
    "        acc = (predicted == target).float().item()\n",
    "\n",
    "        drop = baseline_acc - acc\n",
    "        \n",
    "        if view in ranking:\n",
    "            ranking[view] += drop\n",
    "        else:\n",
    "            ranking[view] = drop"
   ]
  },
  {
   "cell_type": "code",
   "execution_count": 143,
   "id": "2ae01206",
   "metadata": {},
   "outputs": [],
   "source": [
    "ranking = {\n",
    "    0: -5.0,\n",
    "    10: -7.0,\n",
    "    6: -12.0,\n",
    "    7: -14.0,\n",
    "    1: -19.0,\n",
    "    3: -19.0,\n",
    "    9: -21.0,\n",
    "    5: -23.0,\n",
    "    8: -25.0,\n",
    "    2: -27.0,\n",
    "    4: -30.0,\n",
    "    11: -33.0\n",
    "}\n",
    "# more -ve, less important"
   ]
  },
  {
   "cell_type": "code",
   "execution_count": 144,
   "id": "1b70fc65",
   "metadata": {},
   "outputs": [],
   "source": [
    "#normalize the importance\n",
    "norm = max(ranking.values())\n",
    "for view in ranking:\n",
    "    ranking[view] = -1/(abs(ranking[view]) / norm)"
   ]
  },
  {
   "cell_type": "code",
   "execution_count": 145,
   "id": "036d9fee",
   "metadata": {},
   "outputs": [],
   "source": [
    "# Sort and build a new dict in descending‐drop order\n",
    "ranking = dict(sorted(ranking.items(), key=lambda item: item[1], reverse=True))"
   ]
  },
  {
   "cell_type": "code",
   "execution_count": 146,
   "id": "d2058004",
   "metadata": {},
   "outputs": [
    {
     "data": {
      "text/plain": [
       "{0: 1.0,\n",
       " 10: 0.7142857142857143,\n",
       " 6: 0.4166666666666667,\n",
       " 7: 0.35714285714285715,\n",
       " 1: 0.2631578947368421,\n",
       " 3: 0.2631578947368421,\n",
       " 9: 0.23809523809523808,\n",
       " 5: 0.2173913043478261,\n",
       " 8: 0.2,\n",
       " 2: 0.18518518518518517,\n",
       " 4: 0.16666666666666666,\n",
       " 11: 0.15151515151515152}"
      ]
     },
     "execution_count": 146,
     "metadata": {},
     "output_type": "execute_result"
    }
   ],
   "source": [
    "ranking"
   ]
  },
  {
   "cell_type": "code",
   "execution_count": null,
   "id": "ffa7768a",
   "metadata": {},
   "outputs": [],
   "source": []
  }
 ],
 "metadata": {
  "kernelspec": {
   "display_name": "ML",
   "language": "python",
   "name": "python3"
  },
  "language_info": {
   "codemirror_mode": {
    "name": "ipython",
    "version": 3
   },
   "file_extension": ".py",
   "mimetype": "text/x-python",
   "name": "python",
   "nbconvert_exporter": "python",
   "pygments_lexer": "ipython3",
   "version": "3.13.3"
  }
 },
 "nbformat": 4,
 "nbformat_minor": 5
}
