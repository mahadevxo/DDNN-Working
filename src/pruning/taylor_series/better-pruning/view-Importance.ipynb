{
 "cells": [
  {
   "cell_type": "code",
   "execution_count": 1,
   "id": "823d24b8",
   "metadata": {},
   "outputs": [],
   "source": [
    "from models import MVCNN\n",
    "from tools import ImgDataset\n",
    "import torch\n",
    "import numpy as np\n",
    "import csv\n",
    "from tqdm import tqdm"
   ]
  },
  {
   "cell_type": "code",
   "execution_count": 2,
   "id": "cdbd4190",
   "metadata": {},
   "outputs": [],
   "source": [
    "device = 'mps' if torch.backends.mps.is_available() else 'cuda' if torch.cuda.is_available() else 'cpu'"
   ]
  },
  {
   "cell_type": "code",
   "execution_count": 3,
   "id": "2921957f",
   "metadata": {},
   "outputs": [
    {
     "data": {
      "text/plain": [
       "SVCNN(\n",
       "  (net_1): Sequential(\n",
       "    (0): Conv2d(3, 64, kernel_size=(3, 3), stride=(1, 1), padding=(1, 1))\n",
       "    (1): ReLU(inplace=True)\n",
       "    (2): MaxPool2d(kernel_size=2, stride=2, padding=0, dilation=1, ceil_mode=False)\n",
       "    (3): Conv2d(64, 128, kernel_size=(3, 3), stride=(1, 1), padding=(1, 1))\n",
       "    (4): ReLU(inplace=True)\n",
       "    (5): MaxPool2d(kernel_size=2, stride=2, padding=0, dilation=1, ceil_mode=False)\n",
       "    (6): Conv2d(128, 256, kernel_size=(3, 3), stride=(1, 1), padding=(1, 1))\n",
       "    (7): ReLU(inplace=True)\n",
       "    (8): Conv2d(256, 256, kernel_size=(3, 3), stride=(1, 1), padding=(1, 1))\n",
       "    (9): ReLU(inplace=True)\n",
       "    (10): MaxPool2d(kernel_size=2, stride=2, padding=0, dilation=1, ceil_mode=False)\n",
       "    (11): Conv2d(256, 512, kernel_size=(3, 3), stride=(1, 1), padding=(1, 1))\n",
       "    (12): ReLU(inplace=True)\n",
       "    (13): Conv2d(512, 512, kernel_size=(3, 3), stride=(1, 1), padding=(1, 1))\n",
       "    (14): ReLU(inplace=True)\n",
       "    (15): MaxPool2d(kernel_size=2, stride=2, padding=0, dilation=1, ceil_mode=False)\n",
       "    (16): Conv2d(512, 512, kernel_size=(3, 3), stride=(1, 1), padding=(1, 1))\n",
       "    (17): ReLU(inplace=True)\n",
       "    (18): Conv2d(512, 512, kernel_size=(3, 3), stride=(1, 1), padding=(1, 1))\n",
       "    (19): ReLU(inplace=True)\n",
       "    (20): MaxPool2d(kernel_size=2, stride=2, padding=0, dilation=1, ceil_mode=False)\n",
       "  )\n",
       "  (net_2): Sequential(\n",
       "    (0): Linear(in_features=25088, out_features=4096, bias=True)\n",
       "    (1): ReLU(inplace=True)\n",
       "    (2): Dropout(p=0.5, inplace=False)\n",
       "    (3): Linear(in_features=4096, out_features=4096, bias=True)\n",
       "    (4): ReLU(inplace=True)\n",
       "    (5): Dropout(p=0.5, inplace=False)\n",
       "    (6): Linear(in_features=4096, out_features=33, bias=True)\n",
       "  )\n",
       ")"
      ]
     },
     "execution_count": 3,
     "metadata": {},
     "output_type": "execute_result"
    }
   ],
   "source": [
    "model = MVCNN.SVCNN('svcnn')\n",
    "weights = torch.load('../test_results/MVCNN/trained-models/MVCNN/model-00030.pth', map_location=device)\n",
    "model.load_state_dict(weights)\n",
    "model.to(device)\n",
    "model.eval()"
   ]
  },
  {
   "cell_type": "code",
   "execution_count": 4,
   "id": "32815c7f",
   "metadata": {},
   "outputs": [],
   "source": [
    "test_dataset = ImgDataset.MultiviewImgDataset(\n",
    "    root_dir='../searching-algorithm/ModelNet40-12View/*/test',\n",
    "    scale_aug=False,\n",
    "    rot_aug=False,\n",
    "    test_mode=True,\n",
    "    num_models=0,\n",
    "    num_views=12,\n",
    "    shuffle=False\n",
    ")\n",
    "test_loader = torch.utils.data.DataLoader(\n",
    "    test_dataset,\n",
    "    batch_size=1,  # Set batch_size to 1 to get all 12 views of a single model\n",
    "    shuffle=False,\n",
    "    num_workers=1,\n",
    "    pin_memory=True\n",
    ")"
   ]
  },
  {
   "cell_type": "code",
   "execution_count": null,
   "id": "fd234112",
   "metadata": {},
   "outputs": [],
   "source": [
    "# Extract CNN feature extractor from the model\n",
    "feature_extractor = model.net_1\n",
    "classifier = model.net_2\n",
    "\n",
    "feature_extractor.eval()\n",
    "classifier.eval()\n",
    "\n",
    "num_views = 12  # Number of views per model"
   ]
  },
  {
   "cell_type": "markdown",
   "id": "943d291a",
   "metadata": {},
   "source": [
    "views are as\n",
    "\n",
    "0, 1, 10, 11, 2, 3, 4, 5, 6, 7, 8, 9"
   ]
  },
  {
   "cell_type": "code",
   "execution_count": null,
   "id": "ee5599ee",
   "metadata": {},
   "outputs": [
    {
     "ename": "",
     "evalue": "",
     "output_type": "error",
     "traceback": [
      "\u001b[1;31mThe Kernel crashed while executing code in the current cell or a previous cell. \n",
      "\u001b[1;31mPlease review the code in the cell(s) to identify a possible cause of the failure. \n",
      "\u001b[1;31mClick <a href='https://aka.ms/vscodeJupyterKernelCrash'>here</a> for more info. \n",
      "\u001b[1;31mView Jupyter <a href='command:jupyter.viewOutput'>log</a> for further details."
     ]
    }
   ],
   "source": [
    "view_importance = {}\n",
    "sum_baseline = 0"
   ]
  },
  {
   "cell_type": "code",
   "execution_count": null,
   "id": "aea10118",
   "metadata": {},
   "outputs": [
    {
     "name": "stderr",
     "output_type": "stream",
     "text": [
      "Batches:   0%|          | 0/1860 [00:00<?, ?it/s]"
     ]
    },
    {
     "name": "stderr",
     "output_type": "stream",
     "text": [
      "Batches:  12%|█▏        | 216/1860 [01:48<13:43,  2.00it/s]]\u001b[A"
     ]
    },
    {
     "ename": "",
     "evalue": "",
     "output_type": "error",
     "traceback": [
      "\u001b[1;31mCannot execute code, session has been disposed. Please try restarting the Kernel."
     ]
    },
    {
     "ename": "",
     "evalue": "",
     "output_type": "error",
     "traceback": [
      "\u001b[1;31mCannot execute code, session has been disposed. Please try restarting the Kernel. \n",
      "\u001b[1;31mView Jupyter <a href='command:jupyter.viewOutput'>log</a> for further details."
     ]
    }
   ],
   "source": [
    "view_importance = {}\n",
    "sum_baseline = 0\n",
    "\n",
    "# Wrap test_loader with tqdm\n",
    "for batch_idx, (target, data, _) in enumerate(tqdm(test_loader, desc=\"Batches\")):\n",
    "    data = data.to(device)  # shape: [1, 12, 3, 244, 244]\n",
    "    target = target.to(device)\n",
    "\n",
    "    all_views = data.squeeze(0)  # shape: [12, 3, 244, 244]\n",
    "\n",
    "    # === Baseline ===\n",
    "    all_feats = feature_extractor(all_views)  # shape: [12, C, H, W]\n",
    "    pooled = torch.max(all_feats, dim=0)[0]  # shape: [C, H, W]\n",
    "    pooled = pooled.unsqueeze(0)  # shape: [1, C, H, W]\n",
    "    flattened = pooled.view(pooled.size(0), -1)  # shape: [1, C*H*W]\n",
    "    with torch.no_grad():\n",
    "        output = classifier(flattened)\n",
    "    _, predicted = torch.max(output, 1)\n",
    "    baseline_acc = (predicted == target).float().item()\n",
    "    sum_baseline += baseline_acc\n",
    "\n",
    "    # if batch_idx % 100 == 0:\n",
    "        # print(f\"Processed {batch_idx} batches, current average baseline accuracy: {sum_baseline / (batch_idx + 1):.4f}\")\n",
    "\n",
    "    # === Per-View Importance ===\n",
    "    for view in tqdm(range(12), desc=f\"View removal batch {batch_idx}\", leave=False):\n",
    "        views_removed = torch.cat([all_views[:view], all_views[view+1:]], dim=0)\n",
    "        feats = feature_extractor(views_removed)\n",
    "        pooled = torch.max(feats, dim=0)[0].unsqueeze(0)\n",
    "        flattened = pooled.view(pooled.size(0), -1)\n",
    "        with torch.no_grad():\n",
    "            output = classifier(flattened)\n",
    "        _, predicted = torch.max(output, 1)\n",
    "        acc = (predicted == target).float().item()\n",
    "\n",
    "        # accuracy drop = baseline - acc\n",
    "        drop = acc - baseline_acc\n",
    "        if view in view_importance:\n",
    "            view_importance[view] += drop\n",
    "        else:\n",
    "            view_importance[view] = drop"
   ]
  },
  {
   "cell_type": "code",
   "execution_count": null,
   "id": "60c3afe3",
   "metadata": {},
   "outputs": [
    {
     "data": {
      "text/plain": [
       "{}"
      ]
     },
     "execution_count": 8,
     "metadata": {},
     "output_type": "execute_result"
    }
   ],
   "source": [
    "view_importance"
   ]
  },
  {
   "cell_type": "code",
   "execution_count": null,
   "id": "0f227bd0",
   "metadata": {},
   "outputs": [],
   "source": [
    "# for batch_idx, (target, data, _) in enumerate(test_loader):\n",
    "#     view_features = []\n",
    "#     for i, data_view in enumerate(data[0]):\n",
    "#         data_view = data_view.unsqueeze(0).to(device)\n",
    "#         features = feature_extractor(data_view)\n",
    "#         features = features.view(1, -1)\n",
    "#         view_features.append(features)\n",
    "#     max_pooled_features = torch.max(torch.stack(view_features), dim=0)[0]\n",
    "#     output = classifier(max_pooled_features)\n",
    "#     _, predicted = torch.max(output, 1)\n",
    "#     target = target.to(device)\n",
    "#     correct = (predicted == target).sum().item()\n",
    "#     print(f'Batch {batch_idx + 1}/{len(test_loader)}: {correct}')"
   ]
  },
  {
   "cell_type": "code",
   "execution_count": null,
   "id": "3c094106",
   "metadata": {},
   "outputs": [],
   "source": []
  }
 ],
 "metadata": {
  "kernelspec": {
   "display_name": "ML",
   "language": "python",
   "name": "python3"
  },
  "language_info": {
   "codemirror_mode": {
    "name": "ipython",
    "version": 3
   },
   "file_extension": ".py",
   "mimetype": "text/x-python",
   "name": "python",
   "nbconvert_exporter": "python",
   "pygments_lexer": "ipython3",
   "version": "3.13.3"
  }
 },
 "nbformat": 4,
 "nbformat_minor": 5
}
