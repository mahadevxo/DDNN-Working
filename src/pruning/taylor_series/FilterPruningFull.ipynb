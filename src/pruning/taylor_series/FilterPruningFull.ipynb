{
 "cells": [
  {
   "cell_type": "markdown",
   "id": "f916f1ba",
   "metadata": {},
   "source": [
    "# Filter Pruning"
   ]
  },
  {
   "cell_type": "code",
   "execution_count": 1,
   "id": "4fd40e9b",
   "metadata": {},
   "outputs": [],
   "source": [
    "import sys\n",
    "import torch\n",
    "from PruningFineTuner import PruningFineTuner\n",
    "sys.path.append('../../MVCNN')\n",
    "from models import MVCNN"
   ]
  },
  {
   "cell_type": "code",
   "execution_count": 2,
   "id": "fbec95c7",
   "metadata": {},
   "outputs": [
    {
     "data": {
      "text/plain": [
       "<All keys matched successfully>"
      ]
     },
     "execution_count": 2,
     "metadata": {},
     "output_type": "execute_result"
    }
   ],
   "source": [
    "svcnn_weights = torch.load('../../MVCNN/trained-models/MVCNN/model-00030.pth', weights_only=True, map_location='mps')\n",
    "svcnn = MVCNN.SVCNN('svcnn')\n",
    "svcnn.load_state_dict(svcnn_weights, strict=False)"
   ]
  },
  {
   "cell_type": "code",
   "execution_count": 3,
   "id": "25ec5555",
   "metadata": {},
   "outputs": [
    {
     "name": "stdout",
     "output_type": "stream",
     "text": [
      "Train Data: 900\n",
      "Test Data: 216\n",
      "Train Loss: 0.5366715959690768, Train Accuracy: 25.862068965517242, Val Loss: 1.0404187440872192, Val Accuracy: 72.22222222222221\n",
      "Filters to prune:\n"
     ]
    },
    {
     "name": "stderr",
     "output_type": "stream",
     "text": [
      "/Users/mahadevsunilkumar/Desktop/DDNN-Working/src/pruning/taylor_series/MVCNN_Trainer.py:125: RuntimeWarning: invalid value encountered in divide\n",
      "  val_class_acc = 1 - (wrong_class / np.nan_to_num(samples_class))\n"
     ]
    }
   ],
   "source": [
    "pruner = PruningFineTuner(model=svcnn, train_amt=0.01, test_amt=0.01)\n",
    "ranks = pruner.prune(rank_filters=True)"
   ]
  }
 ],
 "metadata": {
  "kernelspec": {
   "display_name": "ML",
   "language": "python",
   "name": "python3"
  },
  "language_info": {
   "codemirror_mode": {
    "name": "ipython",
    "version": 3
   },
   "file_extension": ".py",
   "mimetype": "text/x-python",
   "name": "python",
   "nbconvert_exporter": "python",
   "pygments_lexer": "ipython3",
   "version": "3.13.0"
  }
 },
 "nbformat": 4,
 "nbformat_minor": 5
}
