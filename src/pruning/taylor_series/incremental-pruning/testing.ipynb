{
 "cells": [
  {
   "cell_type": "code",
   "execution_count": 11,
   "id": "00c7b786",
   "metadata": {},
   "outputs": [],
   "source": [
    "import sys\n",
    "sys.path.append(\"../../../MVCNN\")\n",
    "import torch\n",
    "from tools.ImgDataset import MultiviewImgDataset\n",
    "import numpy as np\n",
    "from torch.utils.data import DataLoader\n",
    "from tqdm import tqdm\n",
    "from torch.nn import functional as F\n",
    "import random\n",
    "from torch.utils.data import Subset"
   ]
  },
  {
   "cell_type": "code",
   "execution_count": 2,
   "id": "1b02e661",
   "metadata": {},
   "outputs": [],
   "source": [
    "pruned_models = {\n",
    "    0.0: torch.jit.load(\"/Users/mahadevsunilkumar/Desktop/DDNN-Working/src/pruning/taylor_series/incremental-pruning/mvcnn-pruned/models/mvcnn_pruned_0.00.pth\", map_location=torch.device('mps')),\n",
    "    0.1: torch.jit.load(\"/Users/mahadevsunilkumar/Desktop/DDNN-Working/src/pruning/taylor_series/incremental-pruning/mvcnn-pruned/models/mvcnn_pruned_0.10.pth\", map_location=torch.device('mps')),\n",
    "    0.3: torch.jit.load(\"/Users/mahadevsunilkumar/Desktop/DDNN-Working/src/pruning/taylor_series/incremental-pruning/mvcnn-pruned/models/mvcnn_pruned_0.30.pth\", map_location=torch.device('mps')),\n",
    "    0.5: torch.jit.load(\"/Users/mahadevsunilkumar/Desktop/DDNN-Working/src/pruning/taylor_series/incremental-pruning/mvcnn-pruned/models/mvcnn_pruned_0.50.pth\", map_location=torch.device('mps')),\n",
    "    # 0.7: torch.jit.load(\"/Users/mahadevsunilkumar/Desktop/DDNN-Working/src/pruning/taylor_series/incremental-pruning/mvcnn-pruned/models/mvcnn_pruned_0.70.pth\", map_location=torch.device('mps')),\n",
    "    0.9: torch.jit.load(\"/Users/mahadevsunilkumar/Desktop/DDNN-Working/src/pruning/taylor_series/incremental-pruning/mvcnn-pruned/models/mvcnn_pruned_0.90.pth\", map_location=torch.device('mps')),\n",
    "}"
   ]
  },
  {
   "cell_type": "code",
   "execution_count": 3,
   "id": "c6d50d75",
   "metadata": {},
   "outputs": [],
   "source": [
    "test_path = \"../../../MVCNN/ModelNet40-12View/*/test\"\n",
    "train_path = \"../../../MVCNN/ModelNet40-12View/*/train\"\n",
    "device = torch.device('mps') if torch.backends.mps.is_available() else torch.device('cuda') if torch.cuda.is_available() else torch.device('cpu')"
   ]
  },
  {
   "cell_type": "code",
   "execution_count": 4,
   "id": "60cc3b36",
   "metadata": {},
   "outputs": [
    {
     "name": "stdout",
     "output_type": "stream",
     "text": [
      "Samples in dataset: 7589\n"
     ]
    }
   ],
   "source": [
    "dataset = MultiviewImgDataset(\n",
    "    root_dir=train_path,\n",
    "    scale_aug=False,\n",
    "    num_models=0,\n",
    "    num_views=12,\n",
    ")\n",
    "dataloader = DataLoader(dataset, batch_size=8, shuffle=False, num_workers=4, pin_memory=True)\n",
    "print(f\"Samples in dataset: {len(dataset)}\")"
   ]
  },
  {
   "cell_type": "code",
   "execution_count": 12,
   "id": "0b223097",
   "metadata": {},
   "outputs": [],
   "source": [
    "num_samples = 100"
   ]
  },
  {
   "cell_type": "code",
   "execution_count": 13,
   "id": "57d43dca",
   "metadata": {},
   "outputs": [],
   "source": [
    "dataset_indices = random.sample(range(len(dataset)), num_samples)\n",
    "dataset = Subset(dataset, dataset_indices)"
   ]
  },
  {
   "cell_type": "code",
   "execution_count": 5,
   "id": "5680ec6b",
   "metadata": {},
   "outputs": [
    {
     "name": "stdout",
     "output_type": "stream",
     "text": [
      "12\n"
     ]
    }
   ],
   "source": [
    "print(len(dataloader.dataset[0][1]))"
   ]
  },
  {
   "cell_type": "code",
   "execution_count": null,
   "id": "e5b12f0d",
   "metadata": {},
   "outputs": [],
   "source": [
    "def get_accuracy(model):\n",
    "    all_correct = 0\n",
    "    all_samples = 0\n",
    "    \n",
    "    wrong_class = np.zeros(33, dtype=int)\n",
    "    samples_class = np.zeros(33, dtype=int)\n",
    "    \n",
    "    model.eval()\n",
    "    model = model.to(device)\n",
    "    with torch.no_grad():\n",
    "        pbar = tqdm(dataloader, total=len(dataloader), desc=\"Testing\")\n",
    "        for _, data in enumerate(pbar):\n",
    "            labels, images = data[0], data[1]\n",
    "            labels = labels.to(device)\n",
    "            images = images.to(device)       \n",
    "            N, V, C, H, W = images.size()\n",
    "            \n",
    "            x = images.view(-1, C, H, W)\n",
    "            net_1_out = model.net_1(x)\n",
    "            y = F.adaptive_avg_pool2d(net_1_out, (7, 7))\n",
    "            y = y.view(N, V, -1)\n",
    "            y = torch.max(y, dim=1)[0]\n",
    "            output = model.net_2(y)\n",
    "            preds = output.argmax(dim=1)\n",
    "            break\n",
    "            \n",
    "            batch_correct = (preds == labels).sum().item()\n",
    "            all_correct += batch_correct\n",
    "            all_samples += N\n",
    "            \n",
    "            for i in range(N):\n",
    "                if preds[i] != labels[i]:\n",
    "                    wrong_class[labels[i].cpu().item()] += 1\n",
    "                samples_class[labels[i].cpu().item()] += 1\n",
    "\n",
    "        overall_acc = all_correct / all_samples\n",
    "        per_class_acc = (samples_class - wrong_class) / np.maximum(samples_class, 1)\n",
    "        mean_class = per_class_acc[samples_class > 0].mean()\n",
    "\n",
    "        print(f\"Overall accuracy: {overall_acc:.4f}\")\n",
    "        print(f\"Mean class accuracy: {mean_class:.4f}\")"
   ]
  },
  {
   "cell_type": "code",
   "execution_count": 9,
   "id": "d8a4f5fb",
   "metadata": {},
   "outputs": [
    {
     "name": "stdout",
     "output_type": "stream",
     "text": [
      "Testing model with pruning rate 0.0\n"
     ]
    },
    {
     "name": "stderr",
     "output_type": "stream",
     "text": [
      "Testing:   0%|          | 0/633 [00:00<?, ?it/s]"
     ]
    },
    {
     "name": "stdout",
     "output_type": "stream",
     "text": [
      "torch.Size([144, 3, 224, 224])\n",
      "torch.Size([144, 512, 7, 7])\n",
      "torch.Size([144, 512, 7, 7])\n",
      "torch.Size([12, 12, 25088])\n"
     ]
    },
    {
     "name": "stderr",
     "output_type": "stream",
     "text": [
      "Testing:   0%|          | 0/633 [00:09<?, ?it/s]\n"
     ]
    },
    {
     "ename": "ZeroDivisionError",
     "evalue": "division by zero",
     "output_type": "error",
     "traceback": [
      "\u001b[31m---------------------------------------------------------------------------\u001b[39m",
      "\u001b[31mZeroDivisionError\u001b[39m                         Traceback (most recent call last)",
      "\u001b[36mCell\u001b[39m\u001b[36m \u001b[39m\u001b[32mIn[9]\u001b[39m\u001b[32m, line 4\u001b[39m\n\u001b[32m      2\u001b[39m model = pruned_models[key]\n\u001b[32m      3\u001b[39m \u001b[38;5;28mprint\u001b[39m(\u001b[33mf\u001b[39m\u001b[33m\"\u001b[39m\u001b[33mTesting model with pruning rate \u001b[39m\u001b[38;5;132;01m{\u001b[39;00mkey\u001b[38;5;132;01m}\u001b[39;00m\u001b[33m\"\u001b[39m)\n\u001b[32m----> \u001b[39m\u001b[32m4\u001b[39m \u001b[43mget_accuracy\u001b[49m\u001b[43m(\u001b[49m\u001b[43mmodel\u001b[49m\u001b[43m)\u001b[49m\n\u001b[32m      5\u001b[39m \u001b[38;5;28mprint\u001b[39m(\u001b[33m\"\u001b[39m\u001b[33m-\u001b[39m\u001b[33m\"\u001b[39m * \u001b[32m50\u001b[39m)\n\u001b[32m      6\u001b[39m \u001b[38;5;28mprint\u001b[39m()\n",
      "\u001b[36mCell\u001b[39m\u001b[36m \u001b[39m\u001b[32mIn[8]\u001b[39m\u001b[32m, line 40\u001b[39m, in \u001b[36mget_accuracy\u001b[39m\u001b[34m(model)\u001b[39m\n\u001b[32m     37\u001b[39m             wrong_class[labels[i].cpu().item()] += \u001b[32m1\u001b[39m\n\u001b[32m     38\u001b[39m         samples_class[labels[i].cpu().item()] += \u001b[32m1\u001b[39m\n\u001b[32m---> \u001b[39m\u001b[32m40\u001b[39m overall_acc = \u001b[43mall_correct\u001b[49m\u001b[43m \u001b[49m\u001b[43m/\u001b[49m\u001b[43m \u001b[49m\u001b[43mall_samples\u001b[49m\n\u001b[32m     41\u001b[39m per_class_acc = (samples_class - wrong_class) / np.maximum(samples_class, \u001b[32m1\u001b[39m)\n\u001b[32m     42\u001b[39m mean_class = per_class_acc[samples_class > \u001b[32m0\u001b[39m].mean()\n",
      "\u001b[31mZeroDivisionError\u001b[39m: division by zero"
     ]
    }
   ],
   "source": [
    "for key in pruned_models.keys():\n",
    "    model = pruned_models[key]\n",
    "    print(f\"Testing model with pruning rate {key}\")\n",
    "    get_accuracy(model)\n",
    "    print(\"-\" * 50)\n",
    "    print()"
   ]
  },
  {
   "cell_type": "code",
   "execution_count": null,
   "id": "7443d97f",
   "metadata": {},
   "outputs": [],
   "source": [
    "random_img = torch.randn(1, 12, 3, 224, 224).to(device)\n",
    "N, V, C, H, W = random_img.size() "
   ]
  },
  {
   "cell_type": "code",
   "execution_count": null,
   "id": "b9e0de9a",
   "metadata": {},
   "outputs": [],
   "source": [
    "out = pruned_models[0.5].net_1(random_img.view(-1, C, H, W))"
   ]
  },
  {
   "cell_type": "code",
   "execution_count": null,
   "id": "d09e33fd",
   "metadata": {},
   "outputs": [],
   "source": [
    "y = torch.functional.F.adaptive_avg_pool2d(out, (7, 7)).view(12, -1)"
   ]
  },
  {
   "cell_type": "code",
   "execution_count": null,
   "id": "e46ee536",
   "metadata": {},
   "outputs": [
    {
     "data": {
      "text/plain": [
       "torch.Size([12, 25088])"
      ]
     },
     "execution_count": 81,
     "metadata": {},
     "output_type": "execute_result"
    }
   ],
   "source": [
    "y.shape"
   ]
  },
  {
   "cell_type": "code",
   "execution_count": null,
   "id": "9fc222f3",
   "metadata": {},
   "outputs": [
    {
     "data": {
      "text/plain": [
       "torch.Size([1, 25088])"
      ]
     },
     "execution_count": 87,
     "metadata": {},
     "output_type": "execute_result"
    }
   ],
   "source": [
    "y = torch.max(y, 0)[0].unsqueeze(0)\n",
    "y.shape"
   ]
  },
  {
   "cell_type": "code",
   "execution_count": null,
   "id": "592c92aa",
   "metadata": {},
   "outputs": [
    {
     "data": {
      "text/plain": [
       "tensor([[-1236.4639,  -684.7574,  -813.0821,  -749.7675, -1122.9403, -1392.8016,\n",
       "         -1348.2399,  -832.9878,  -868.5643,  -896.7075,  -859.9577, -1069.5975,\n",
       "          -739.2985,  -630.5588, -1140.3524, -1270.0352,  -857.8713,  -645.1979,\n",
       "          -547.7659, -1266.9254,  -717.3286,  -948.5233,  -761.9027,  -692.7169,\n",
       "          -828.7469,  -826.9893,  -998.6613,  -737.7090,  -755.4247,  -792.4379,\n",
       "          -895.1537,  -965.6391,  -655.9093]], device='mps:0',\n",
       "       grad_fn=<LinearBackward0>)"
      ]
     },
     "execution_count": 88,
     "metadata": {},
     "output_type": "execute_result"
    }
   ],
   "source": [
    "model.net_2(y)"
   ]
  },
  {
   "cell_type": "code",
   "execution_count": null,
   "id": "2c9ca02d",
   "metadata": {},
   "outputs": [],
   "source": []
  }
 ],
 "metadata": {
  "kernelspec": {
   "display_name": "ML",
   "language": "python",
   "name": "python3"
  },
  "language_info": {
   "codemirror_mode": {
    "name": "ipython",
    "version": 3
   },
   "file_extension": ".py",
   "mimetype": "text/x-python",
   "name": "python",
   "nbconvert_exporter": "python",
   "pygments_lexer": "ipython3",
   "version": "3.13.3"
  }
 },
 "nbformat": 4,
 "nbformat_minor": 5
}
