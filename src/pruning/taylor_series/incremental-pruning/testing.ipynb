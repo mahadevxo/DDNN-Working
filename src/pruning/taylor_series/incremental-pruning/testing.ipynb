{
 "cells": [
  {
   "cell_type": "code",
   "execution_count": 2,
   "id": "00c7b786",
   "metadata": {},
   "outputs": [],
   "source": [
    "import sys\n",
    "sys.path.append(\"../../../MVCNN\")\n",
    "import torch\n",
    "from tools.ImgDataset import MultiviewImgDataset\n",
    "import numpy as np\n",
    "from torch.utils.data import DataLoader\n",
    "from tqdm import tqdm\n",
    "from torch.nn import functional as F"
   ]
  },
  {
   "cell_type": "code",
   "execution_count": 3,
   "id": "1b02e661",
   "metadata": {},
   "outputs": [],
   "source": [
    "pruned_models = {\n",
    "    0.0: torch.jit.load(\"/Users/mahadevsunilkumar/Desktop/DDNN-Working/src/pruning/taylor_series/incremental-pruning/mvcnn-pruned/models/mvcnn_pruned_0.00.pth\", map_location=torch.device('mps')),\n",
    "    0.1: torch.jit.load(\"/Users/mahadevsunilkumar/Desktop/DDNN-Working/src/pruning/taylor_series/incremental-pruning/mvcnn-pruned/models/mvcnn_pruned_0.10.pth\", map_location=torch.device('mps')),\n",
    "    0.3: torch.jit.load(\"/Users/mahadevsunilkumar/Desktop/DDNN-Working/src/pruning/taylor_series/incremental-pruning/mvcnn-pruned/models/mvcnn_pruned_0.30.pth\", map_location=torch.device('mps')),\n",
    "    0.5: torch.jit.load(\"/Users/mahadevsunilkumar/Desktop/DDNN-Working/src/pruning/taylor_series/incremental-pruning/mvcnn-pruned/models/mvcnn_pruned_0.50.pth\", map_location=torch.device('mps')),\n",
    "    0.7: torch.jit.load(\"/Users/mahadevsunilkumar/Desktop/DDNN-Working/src/pruning/taylor_series/incremental-pruning/mvcnn-pruned/models/mvcnn_pruned_0.70.pth\", map_location=torch.device('mps')),\n",
    "    0.9: torch.jit.load(\"/Users/mahadevsunilkumar/Desktop/DDNN-Working/src/pruning/taylor_series/incremental-pruning/mvcnn-pruned/models/mvcnn_pruned_0.90.pth\", map_location=torch.device('mps')),\n",
    "}"
   ]
  },
  {
   "cell_type": "code",
   "execution_count": 4,
   "id": "c6d50d75",
   "metadata": {},
   "outputs": [],
   "source": [
    "test_path = \"../../../MVCNN/ModelNet40-12View/*/test\"\n",
    "train_path = \"../../../MVCNN/ModelNet40-12View/*/train\"\n",
    "device = torch.device('mps') if torch.backends.mps.is_available() else torch.device('cuda') if torch.cuda.is_available() else torch.device('cpu')\n",
    "num_views=12"
   ]
  },
  {
   "cell_type": "code",
   "execution_count": 5,
   "id": "60cc3b36",
   "metadata": {},
   "outputs": [
    {
     "name": "stdout",
     "output_type": "stream",
     "text": [
      "Samples in dataset: 7589\n"
     ]
    }
   ],
   "source": [
    "dataset = MultiviewImgDataset(\n",
    "    root_dir=train_path,\n",
    "    scale_aug=False,\n",
    "    num_models=0,\n",
    "    num_views=12,\n",
    ")\n",
    "dataloader = DataLoader(dataset, batch_size=1, shuffle=False, num_workers=4, pin_memory=True)\n",
    "print(f\"Samples in dataset: {len(dataset)}\")"
   ]
  },
  {
   "cell_type": "code",
   "execution_count": 6,
   "id": "b6ab0c48",
   "metadata": {},
   "outputs": [
    {
     "data": {
      "text/plain": [
       "['../../../MVCNN/ModelNet40-12View/vase/train/vase_0261//vase_0261/vase_0261.0.png',\n",
       " '../../../MVCNN/ModelNet40-12View/vase/train/vase_0261//vase_0261/vase_0261.1.png',\n",
       " '../../../MVCNN/ModelNet40-12View/vase/train/vase_0261//vase_0261/vase_0261.10.png',\n",
       " '../../../MVCNN/ModelNet40-12View/vase/train/vase_0261//vase_0261/vase_0261.11.png',\n",
       " '../../../MVCNN/ModelNet40-12View/vase/train/vase_0261//vase_0261/vase_0261.2.png',\n",
       " '../../../MVCNN/ModelNet40-12View/vase/train/vase_0261//vase_0261/vase_0261.3.png',\n",
       " '../../../MVCNN/ModelNet40-12View/vase/train/vase_0261//vase_0261/vase_0261.4.png',\n",
       " '../../../MVCNN/ModelNet40-12View/vase/train/vase_0261//vase_0261/vase_0261.5.png',\n",
       " '../../../MVCNN/ModelNet40-12View/vase/train/vase_0261//vase_0261/vase_0261.6.png',\n",
       " '../../../MVCNN/ModelNet40-12View/vase/train/vase_0261//vase_0261/vase_0261.7.png',\n",
       " '../../../MVCNN/ModelNet40-12View/vase/train/vase_0261//vase_0261/vase_0261.8.png',\n",
       " '../../../MVCNN/ModelNet40-12View/vase/train/vase_0261//vase_0261/vase_0261.9.png']"
      ]
     },
     "execution_count": 6,
     "metadata": {},
     "output_type": "execute_result"
    }
   ],
   "source": [
    "dataset[0][-1]"
   ]
  },
  {
   "cell_type": "code",
   "execution_count": 14,
   "id": "c00d5d72",
   "metadata": {},
   "outputs": [
    {
     "data": {
      "text/plain": [
       "torch.Size([3, 224, 224])"
      ]
     },
     "execution_count": 14,
     "metadata": {},
     "output_type": "execute_result"
    }
   ],
   "source": [
    "next(iter(dataloader))[1][0][11].shape"
   ]
  },
  {
   "cell_type": "code",
   "execution_count": null,
   "id": "e5b12f0d",
   "metadata": {},
   "outputs": [],
   "source": [
    "def get_accuracy(model):\n",
    "    all_correct = 0\n",
    "    all_samples = 0\n",
    "    \n",
    "    wrong_class = np.zeros(33, dtype=int)\n",
    "    samples_class = np.zeros(33, dtype=int)\n",
    "    \n",
    "    model.eval()\n",
    "    model = model.to(device)\n",
    "    with torch.no_grad():\n",
    "        pbar = tqdm(dataloader, total=len(dataloader), desc=\"Testing\")\n",
    "        for _, data in enumerate(pbar):\n",
    "            labels, images = data[0], data[1]\n",
    "            labels = labels.to(device)\n",
    "            images = images.to(device)       \n",
    "            N, V, C, H, W = images.size()\n",
    "            \n",
    "            x = images.view(-1, C, H, W)\n",
    "            y = model.net_1(x)\n",
    "            # print(f\"after net_1: {y.shape}\")\n",
    "            y = y.view((int(x.shape[0]/num_views),num_views,y.shape[-3],y.shape[-2],y.shape[-1]))\n",
    "            # print(f\"after reshape: {y.shape}\")\n",
    "            y = torch.max(y, dim=1)[0]\n",
    "            # print(f\"after max pooling: {y.shape}\")\n",
    "            y = y.view(y.shape[0], -1)\n",
    "            # print(f\"after reshape: {y.shape}\")\n",
    "            preds = model.net_2(y)\n",
    "            # print(f\"after net_2: {preds.shape}\")\n",
    "            preds = preds.argmax(dim=1)\n",
    "            batch_correct = (preds == labels).sum().item()\n",
    "            all_correct += batch_correct\n",
    "            all_samples += N    \n",
    "            for i in range(N):\n",
    "                if preds[i] != labels[i]:\n",
    "                    wrong_class[labels[i].cpu().item()] += 1\n",
    "                samples_class[labels[i].cpu().item()] += 1\n",
    "\n",
    "        overall_acc = all_correct / all_samples\n",
    "        per_class_acc = (samples_class - wrong_class) / np.maximum(samples_class, 1)\n",
    "        mean_class = per_class_acc[samples_class > 0].mean()\n",
    "\n",
    "        print(f\"Overall accuracy: {overall_acc:.4f}\")\n",
    "        print(f\"Mean class accuracy: {mean_class:.4f}\")"
   ]
  },
  {
   "cell_type": "code",
   "execution_count": null,
   "id": "d8a4f5fb",
   "metadata": {},
   "outputs": [
    {
     "name": "stdout",
     "output_type": "stream",
     "text": [
      "Testing model with pruning rate 0.0\n"
     ]
    },
    {
     "name": "stderr",
     "output_type": "stream",
     "text": [
      "Testing:   0%|          | 0/7589 [00:00<?, ?it/s]"
     ]
    },
    {
     "name": "stdout",
     "output_type": "stream",
     "text": [
      "after net_1: torch.Size([12, 512, 7, 7])\n",
      "after reshape: torch.Size([1, 12, 512, 7, 7])\n",
      "after max pooling: torch.Size([1, 512, 7, 7])\n",
      "after reshape: torch.Size([1, 25088])\n",
      "after net_2: torch.Size([1, 33])\n"
     ]
    },
    {
     "name": "stderr",
     "output_type": "stream",
     "text": [
      "Testing:   0%|          | 0/7589 [00:09<?, ?it/s]\n",
      "/var/folders/_g/s3cg441n5772k0djn_3x0frc0000gp/T/ipykernel_16188/3234337798.py:41: RuntimeWarning: Mean of empty slice.\n",
      "  mean_class = per_class_acc[samples_class > 0].mean()\n",
      "/opt/homebrew/Caskroom/miniconda/base/envs/ML/lib/python3.13/site-packages/numpy/_core/_methods.py:144: RuntimeWarning: invalid value encountered in scalar divide\n",
      "  ret = ret.dtype.type(ret / rcount)\n"
     ]
    },
    {
     "name": "stdout",
     "output_type": "stream",
     "text": [
      "Overall accuracy: 1.0000\n",
      "Mean class accuracy: nan\n",
      "--------------------------------------------------\n",
      "\n",
      "Testing model with pruning rate 0.1\n"
     ]
    },
    {
     "name": "stderr",
     "output_type": "stream",
     "text": [
      "Testing:   0%|          | 0/7589 [00:00<?, ?it/s]"
     ]
    },
    {
     "name": "stdout",
     "output_type": "stream",
     "text": [
      "after net_1: torch.Size([12, 512, 7, 7])\n",
      "after reshape: torch.Size([1, 12, 512, 7, 7])\n",
      "after max pooling: torch.Size([1, 512, 7, 7])\n",
      "after reshape: torch.Size([1, 25088])\n",
      "after net_2: torch.Size([1, 33])\n"
     ]
    },
    {
     "name": "stderr",
     "output_type": "stream",
     "text": [
      "Exception ignored in: <function _MultiProcessingDataLoaderIter.__del__ at 0x17bb434c0>\n",
      "Traceback (most recent call last):\n",
      "  File \"/opt/homebrew/Caskroom/miniconda/base/envs/ML/lib/python3.13/site-packages/torch/utils/data/dataloader.py\", line 1618, in __del__\n",
      "    self._shutdown_workers()\n",
      "  File \"/opt/homebrew/Caskroom/miniconda/base/envs/ML/lib/python3.13/site-packages/torch/utils/data/dataloader.py\", line 1582, in _shutdown_workers\n",
      "    w.join(timeout=_utils.MP_STATUS_CHECK_INTERVAL)\n",
      "  File \"/opt/homebrew/Caskroom/miniconda/base/envs/ML/lib/python3.13/multiprocessing/process.py\", line 149, in join\n",
      "    res = self._popen.wait(timeout)\n",
      "  File \"/opt/homebrew/Caskroom/miniconda/base/envs/ML/lib/python3.13/multiprocessing/popen_fork.py\", line 41, in wait\n",
      "    if not wait([self.sentinel], timeout):\n",
      "  File \"/opt/homebrew/Caskroom/miniconda/base/envs/ML/lib/python3.13/multiprocessing/connection.py\", line 1148, in wait\n",
      "    ready = selector.select(timeout)\n",
      "  File \"/opt/homebrew/Caskroom/miniconda/base/envs/ML/lib/python3.13/selectors.py\", line 398, in select\n",
      "    fd_event_list = self._selector.poll(timeout)\n",
      "KeyboardInterrupt: \n",
      "Testing:   0%|          | 0/7589 [00:08<?, ?it/s]\n"
     ]
    },
    {
     "name": "stdout",
     "output_type": "stream",
     "text": [
      "Overall accuracy: 1.0000\n",
      "Mean class accuracy: nan\n",
      "--------------------------------------------------\n",
      "\n",
      "Testing model with pruning rate 0.3\n"
     ]
    },
    {
     "name": "stderr",
     "output_type": "stream",
     "text": [
      "Testing:   0%|          | 0/7589 [00:00<?, ?it/s]"
     ]
    },
    {
     "name": "stdout",
     "output_type": "stream",
     "text": [
      "after net_1: torch.Size([12, 512, 7, 7])\n",
      "after reshape: torch.Size([1, 12, 512, 7, 7])\n",
      "after max pooling: torch.Size([1, 512, 7, 7])\n",
      "after reshape: torch.Size([1, 25088])\n",
      "after net_2: torch.Size([1, 33])\n"
     ]
    },
    {
     "name": "stderr",
     "output_type": "stream",
     "text": [
      "Testing:   0%|          | 0/7589 [00:09<?, ?it/s]\n"
     ]
    },
    {
     "name": "stdout",
     "output_type": "stream",
     "text": [
      "Overall accuracy: 1.0000\n",
      "Mean class accuracy: nan\n",
      "--------------------------------------------------\n",
      "\n",
      "Testing model with pruning rate 0.5\n"
     ]
    },
    {
     "name": "stderr",
     "output_type": "stream",
     "text": [
      "Testing:   0%|          | 0/7589 [00:00<?, ?it/s]"
     ]
    }
   ],
   "source": [
    "for key in pruned_models.keys():\n",
    "    model = pruned_models[key]\n",
    "    print(f\"Testing model with pruning rate {key}\")\n",
    "    get_accuracy(model)\n",
    "    print(\"-\" * 50)\n",
    "    print()"
   ]
  },
  {
   "cell_type": "code",
   "execution_count": null,
   "id": "7443d97f",
   "metadata": {},
   "outputs": [],
   "source": [
    "random_img = torch.randn(1, 12, 3, 224, 224).to(device)\n",
    "N, V, C, H, W = random_img.size() "
   ]
  },
  {
   "cell_type": "code",
   "execution_count": null,
   "id": "b9e0de9a",
   "metadata": {},
   "outputs": [],
   "source": [
    "out = pruned_models[0.5].net_1(random_img.view(-1, C, H, W))"
   ]
  },
  {
   "cell_type": "code",
   "execution_count": null,
   "id": "d09e33fd",
   "metadata": {},
   "outputs": [],
   "source": [
    "y = F.adaptive_avg_pool2d(out, (7, 7)).view(12, -1)"
   ]
  },
  {
   "cell_type": "code",
   "execution_count": null,
   "id": "e46ee536",
   "metadata": {},
   "outputs": [],
   "source": [
    "y.shape"
   ]
  },
  {
   "cell_type": "code",
   "execution_count": null,
   "id": "9fc222f3",
   "metadata": {},
   "outputs": [],
   "source": [
    "y = torch.max(y, 0)[0].unsqueeze(0)\n",
    "y.shape"
   ]
  },
  {
   "cell_type": "code",
   "execution_count": null,
   "id": "592c92aa",
   "metadata": {},
   "outputs": [],
   "source": [
    "model.net_2(y)"
   ]
  },
  {
   "cell_type": "code",
   "execution_count": null,
   "id": "2c9ca02d",
   "metadata": {},
   "outputs": [
    {
     "data": {
      "text/plain": [
       "tensor([[[0., 0., 0.,  ..., 0., 0., 0.],\n",
       "         [0., 0., 0.,  ..., 0., 0., 0.],\n",
       "         [0., 0., 0.,  ..., 0., 0., 0.],\n",
       "         ...,\n",
       "         [0., 0., 0.,  ..., 0., 0., 0.],\n",
       "         [0., 0., 0.,  ..., 0., 0., 0.],\n",
       "         [0., 0., 0.,  ..., 0., 0., 0.]]], device='mps:0')"
      ]
     },
     "execution_count": 21,
     "metadata": {},
     "output_type": "execute_result"
    }
   ],
   "source": [
    "torch.zeros((1, 512, 12), device=device)"
   ]
  },
  {
   "cell_type": "code",
   "execution_count": null,
   "id": "864f7b6e",
   "metadata": {},
   "outputs": [],
   "source": []
  }
 ],
 "metadata": {
  "kernelspec": {
   "display_name": "ML",
   "language": "python",
   "name": "python3"
  },
  "language_info": {
   "codemirror_mode": {
    "name": "ipython",
    "version": 3
   },
   "file_extension": ".py",
   "mimetype": "text/x-python",
   "name": "python",
   "nbconvert_exporter": "python",
   "pygments_lexer": "ipython3",
   "version": "3.13.3"
  }
 },
 "nbformat": 4,
 "nbformat_minor": 5
}
