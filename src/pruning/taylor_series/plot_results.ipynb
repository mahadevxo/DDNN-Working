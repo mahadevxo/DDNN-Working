{
 "cells": [
  {
   "cell_type": "code",
   "execution_count": 58,
   "id": "830e288d",
   "metadata": {},
   "outputs": [],
   "source": [
    "import numpy as np"
   ]
  },
  {
   "cell_type": "code",
   "execution_count": 45,
   "id": "a0b9c9ff",
   "metadata": {},
   "outputs": [
    {
     "data": {
      "text/plain": [
       "30"
      ]
     },
     "execution_count": 45,
     "metadata": {},
     "output_type": "execute_result"
    }
   ],
   "source": [
    "accuracies = [\n",
    "    51.800,  \n",
    "    61.600, \n",
    "    58.700, \n",
    "    57.400, \n",
    "    51.900, \n",
    "    48.900, \n",
    "    48.400, \n",
    "    49.00, \n",
    "    46.300, \n",
    "    43.700, \n",
    "    38.200, \n",
    "    39.400, \n",
    "    38.700, \n",
    "    35.800, \n",
    "    25.600, \n",
    "    29.100, \n",
    "    24.200, \n",
    "    15.500, \n",
    "    13.500, \n",
    "    10.300, \n",
    "    10.800, \n",
    "    3.800, \n",
    "    3.00, \n",
    "    2.00, \n",
    "    1.600, \n",
    "    0.400, \n",
    "    0.800, \n",
    "    0.800, \n",
    "    0.200, \n",
    "    0.300, \n",
    "]\n",
    "len(accuracies)\n",
    "\n"
   ]
  },
  {
   "cell_type": "code",
   "execution_count": 46,
   "id": "a00e5806",
   "metadata": {},
   "outputs": [
    {
     "data": {
      "text/plain": [
       "30"
      ]
     },
     "execution_count": 46,
     "metadata": {},
     "output_type": "execute_result"
    }
   ],
   "source": [
    "comp_time = [0.125362434387207, \n",
    "    0.12848782539367700, \n",
    "    0.1206667423248290, \n",
    "    0.12679409980773900, \n",
    "    0.11859416961669900, \n",
    "    0.13185739517211900, \n",
    "    0.09530282020568850, \n",
    "    0.1215369701385500, \n",
    "    0.12713170051574700, \n",
    "    0.11790323257446300, \n",
    "    0.12822461128234900, \n",
    "    0.12335467338562000, \n",
    "    0.11763715744018600, \n",
    "    0.08038330078125, \n",
    "    0.08195257186889650, \n",
    "    0.10176682472229000, \n",
    "    0.11825132369995100, \n",
    "    0.11724853515625, \n",
    "    0.07608628273010250, \n",
    "    0.12339973449707000, \n",
    "    0.12081623077392600, \n",
    "    0.12438559532165500, \n",
    "    0.11701798439025900, \n",
    "    0.12304568290710400, \n",
    "    0.11872744560241700, \n",
    "    0.11448311805725100, \n",
    "    0.12220525741577100, \n",
    "    0.11816596984863300, \n",
    "    0.11993265151977500, \n",
    "    0.10941624641418500, \n",
    "]\n",
    "len(comp_time)"
   ]
  },
  {
   "cell_type": "code",
   "execution_count": 47,
   "id": "482e5f29",
   "metadata": {},
   "outputs": [
    {
     "data": {
      "text/plain": [
       "30"
      ]
     },
     "execution_count": 47,
     "metadata": {},
     "output_type": "execute_result"
    }
   ],
   "source": [
    "model_size = [\n",
    "    527.7921447753910, \n",
    "    509.4286117553710, \n",
    "    491.88086318969700, \n",
    "    475.2605781555180, \n",
    "    437.9324073791500, \n",
    "    446.2145462036130, \n",
    "    438.7227478027340, \n",
    "    414.87701416015600, \n",
    "    401.08189392089800, \n",
    "    374.75711822509800, \n",
    "    383.0682907104490, \n",
    "    354.39682388305700, \n",
    "    346.55131912231400, \n",
    "    352.32504653930700, \n",
    "    329.22561264038100, \n",
    "    315.2650260925290, \n",
    "    292.2446937561040, \n",
    "    293.50952529907200, \n",
    "    285.27441787719700, \n",
    "    278.4389457702640, \n",
    "    267.36527252197300, \n",
    "    269.89864349365200, \n",
    "    241.09055709838900, \n",
    "    254.38198852539100, \n",
    "    218.0434799194340, \n",
    "    224.3697853088380, \n",
    "    212.3406639099120, \n",
    "    200.26912689209000, \n",
    "    209.6368179321290, \n",
    "    192.9134750366210, \n",
    "]\n",
    "len(model_size)"
   ]
  },
  {
   "cell_type": "code",
   "execution_count": 48,
   "id": "51c777dd",
   "metadata": {},
   "outputs": [],
   "source": [
    "pruning_amounts = np.arange(0,  60,  2)\n",
    "pruning_amounts = list(pruning_amounts)"
   ]
  },
  {
   "cell_type": "code",
   "execution_count": 49,
   "id": "e731de24",
   "metadata": {},
   "outputs": [],
   "source": [
    "def get_accuracy_reward(accuracy_new,  accuracy_min):\n",
    "    if accuracy_new > (accuracy_min - 10**-3) and accuracy_new < (accuracy_min + 10**-3):\n",
    "        return 10000.0\n",
    "    elif accuracy_new > (accuracy_min + 10**-3):\n",
    "        return (accuracy_new - accuracy_min)*100\n",
    "    else:\n",
    "        return (accuracy_min - accuracy_new)*-10000.0\n",
    "\n",
    "def get_model_size_reward(model_size_new,  model_size_min):\n",
    "    delta_model_size = model_size_new - model_size_min\n",
    "    if delta_model_size < 0:\n",
    "        return 1000*delta_model_size\n",
    "    else:\n",
    "        return 3000 * delta_model_size\n",
    "\n",
    "def get_comp_time_reward(comp_time_new,  comp_time_min):\n",
    "    delta_comp_time = comp_time_new - comp_time_min\n",
    "    if delta_comp_time < 0:\n",
    "        return 1000*delta_comp_time\n",
    "    else:\n",
    "        return 3000 * delta_comp_time\n",
    "\n",
    "def reward_func(accuracy,  model_size,  comp_time,  accuracy_min,  model_size_min,  comp_time_min,  x=1,  y=1,  z=1):\n",
    "    accuracy_reward = get_accuracy_reward(accuracy,  accuracy_min)\n",
    "    model_size_reward = get_model_size_reward(model_size,  model_size_min)\n",
    "    comp_time_reward = get_comp_time_reward(comp_time,  comp_time_min)\n",
    "    # print(accuracy_reward,  model_size_reward,  comp_time_reward)\n",
    "    return x*accuracy_reward + y*model_size_reward + z*comp_time_reward"
   ]
  },
  {
   "cell_type": "code",
   "execution_count": 50,
   "id": "0b6c4763",
   "metadata": {},
   "outputs": [
    {
     "name": "stdout",
     "output_type": "stream",
     "text": [
      "Original Accuracy 51.8\n",
      "Pruning amount: 0,  Reward: 95.1999999999999\n",
      "Pruning amount: 2,  Reward: -5628.471759510189\n",
      "Pruning amount: 4,  Reward: -5463.537984085139\n",
      "Pruning amount: 6,  Reward: -5193.02797737099\n",
      "Pruning amount: 8,  Reward: -12222.402333164477\n",
      "Pruning amount: 10,  Reward: 7872.448029518236\n",
      "Pruning amount: 12,  Reward: -4524.356482029004\n",
      "Pruning amount: 14,  Reward: -4443.120293617192\n",
      "Pruning amount: 16,  Reward: -13726.85089588174\n",
      "Pruning amount: 18,  Reward: -26710.221374034612\n",
      "Pruning amount: 20,  Reward: -28481.7210745817\n",
      "Pruning amount: 22,  Reward: -42103.19113254529\n",
      "Pruning amount: 24,  Reward: -37610.90335130717\n",
      "Pruning amount: 26,  Reward: -39176.30362987441\n",
      "Pruning amount: 28,  Reward: -87181.25960826881\n",
      "Pruning amount: 30,  Reward: -72247.37745046629\n",
      "Pruning amount: 32,  Reward: -91900.39001703236\n",
      "Pruning amount: 34,  Reward: -112648.14769268116\n",
      "Pruning amount: 36,  Reward: -123431.1689925194\n",
      "Pruning amount: 38,  Reward: -133788.86547803858\n",
      "Pruning amount: 40,  Reward: -133535.16472816467\n",
      "Pruning amount: 42,  Reward: -151168.42906713553\n",
      "Pruning amount: 44,  Reward: -165909.09982204414\n",
      "Pruning amount: 46,  Reward: -146635.51546573636\n",
      "Pruning amount: 48,  Reward: -173153.13285827637\n",
      "Pruning amount: 50,  Reward: -158978.35829257994\n",
      "Pruning amount: 52,  Reward: -167841.96514368066\n",
      "Pruning amount: 54,  Reward: -167864.94018077842\n",
      "Pruning amount: 56,  Reward: -156644.23685550696\n",
      "Pruning amount: 58,  Reward: -171102.17356920248\n"
     ]
    }
   ],
   "source": [
    "old_model_size,  old_comp_time = model_size[0],  comp_time[0]\n",
    "ACC_MIN = 49.0\n",
    "#HYPERPARAMS\n",
    "ACCURACY_IMP = 0.34\n",
    "MODEL_SIZE_IMP = 0.33\n",
    "COMP_TIME_IMP = 0.33\n",
    "\n",
    "if ACCURACY_IMP + MODEL_SIZE_IMP + COMP_TIME_IMP != 1:\n",
    "    print(\"Sum of hyperparameters = \",  ACCURACY_IMP + MODEL_SIZE_IMP + COMP_TIME_IMP)\n",
    "    raise ValueError (\"Hyperparameters are not correct\")\n",
    "    \n",
    "print(\"Original Accuracy\",  accuracies[0])\n",
    "\n",
    "\n",
    "rewards = []\n",
    "\n",
    "for i in range(0,  30):\n",
    "    reward = reward_func(accuracies[i],  model_size[i],  comp_time[i],  ACC_MIN,  \n",
    "                         old_model_size,  old_comp_time,  ACCURACY_IMP,  MODEL_SIZE_IMP,  COMP_TIME_IMP)\n",
    "    print(f\"Pruning amount: {pruning_amounts[i]},  Reward: {reward}\")\n",
    "    rewards.append(reward)\n",
    "    old_model_size,  old_comp_time = model_size[i],  comp_time[i]"
   ]
  },
  {
   "cell_type": "code",
   "execution_count": 51,
   "id": "44e69453",
   "metadata": {},
   "outputs": [
    {
     "data": {
      "text/plain": [
       "[95.1999999999999,\n",
       " -5628.471759510189,\n",
       " -5463.537984085139,\n",
       " -5193.02797737099,\n",
       " -12222.402333164477,\n",
       " 7872.448029518236,\n",
       " -4524.356482029004,\n",
       " -4443.120293617192,\n",
       " -13726.85089588174,\n",
       " -26710.221374034612,\n",
       " -28481.7210745817,\n",
       " -42103.19113254529,\n",
       " -37610.90335130717,\n",
       " -39176.30362987441,\n",
       " -87181.25960826881,\n",
       " -72247.37745046629,\n",
       " -91900.39001703236,\n",
       " -112648.14769268116,\n",
       " -123431.1689925194,\n",
       " -133788.86547803858,\n",
       " -133535.16472816467,\n",
       " -151168.42906713553,\n",
       " -165909.09982204414,\n",
       " -146635.51546573636,\n",
       " -173153.13285827637,\n",
       " -158978.35829257994,\n",
       " -167841.96514368066,\n",
       " -167864.94018077842,\n",
       " -156644.23685550696,\n",
       " -171102.17356920248]"
      ]
     },
     "execution_count": 51,
     "metadata": {},
     "output_type": "execute_result"
    }
   ],
   "source": [
    "rewards"
   ]
  },
  {
   "cell_type": "code",
   "execution_count": 52,
   "id": "81f5cca1",
   "metadata": {},
   "outputs": [
    {
     "data": {
      "text/plain": [
       "7872.448029518236"
      ]
     },
     "execution_count": 52,
     "metadata": {},
     "output_type": "execute_result"
    }
   ],
   "source": [
    "max(rewards)"
   ]
  },
  {
   "cell_type": "code",
   "execution_count": 53,
   "id": "cc8d4241",
   "metadata": {},
   "outputs": [
    {
     "name": "stdout",
     "output_type": "stream",
     "text": [
      "Max reward: 7872.448029518236,  Pruning amount: 10\n"
     ]
    }
   ],
   "source": [
    "index_max = np.argmax(rewards)\n",
    "print(f\"Max reward: {rewards[index_max]},  Pruning amount: {pruning_amounts[index_max]}\")"
   ]
  },
  {
   "cell_type": "code",
   "execution_count": 54,
   "id": "e00473e9",
   "metadata": {},
   "outputs": [],
   "source": [
    "def normalize(lst: list) -> list:\n",
    "    min_val = min(lst)\n",
    "    max_val = max(lst)\n",
    "    return [(x - min_val) / (max_val - min_val) if max_val != min_val else 0 for x in lst]"
   ]
  },
  {
   "cell_type": "code",
   "execution_count": 55,
   "id": "35d1ad31",
   "metadata": {},
   "outputs": [
    {
     "data": {
      "text/plain": [
       "[0.9570378507204526,\n",
       " 0.9254198234149198,\n",
       " 0.9263309309756091,\n",
       " 0.9278252502060048,\n",
       " 0.8889944157939859,\n",
       " 1.0,\n",
       " 0.9315190458124746,\n",
       " 0.9319678011100043,\n",
       " 0.8806837198396401,\n",
       " 0.808962527649679,\n",
       " 0.7991766195373603,\n",
       " 0.7239305134833953,\n",
       " 0.7487462757596814,\n",
       " 0.7400988775804289,\n",
       " 0.4749156049016942,\n",
       " 0.5574115819042982,\n",
       " 0.448846745541488,\n",
       " 0.3342344483517946,\n",
       " 0.2746681635927257,\n",
       " 0.2174514076252958,\n",
       " 0.21885287115674643,\n",
       " 0.1214452879163396,\n",
       " 0.04001662638344085,\n",
       " 0.14648547052019387,\n",
       " 0.0,\n",
       " 0.07830260505824532,\n",
       " 0.029339321484557132,\n",
       " 0.029212405515084305,\n",
       " 0.09119648130283946,\n",
       " 0.011329665558952883]"
      ]
     },
     "execution_count": 55,
     "metadata": {},
     "output_type": "execute_result"
    }
   ],
   "source": [
    "normalized_rewards = normalize(rewards)\n",
    "normalized_rewards"
   ]
  },
  {
   "cell_type": "code",
   "execution_count": 56,
   "id": "4fc20ec0",
   "metadata": {},
   "outputs": [
    {
     "data": {
      "text/plain": [
       "np.int64(58)"
      ]
     },
     "execution_count": 56,
     "metadata": {},
     "output_type": "execute_result"
    }
   ],
   "source": [
    "pruning_amounts[29]"
   ]
  },
  {
   "cell_type": "code",
   "execution_count": 57,
   "id": "e8a3d0e2",
   "metadata": {},
   "outputs": [
    {
     "name": "stdout",
     "output_type": "stream",
     "text": [
      "Pruning Amount, Normalized Reward\n",
      "0, 1.0448907524892623\n",
      "0.9570378507204526\n",
      "2, 1.0805906408076171\n",
      "0.9254198234149198\n",
      "4, 1.0795278086491216\n",
      "0.9263309309756091\n",
      "6, 1.0777891631834446\n",
      "0.9278252502060048\n",
      "8, 1.1248664583645016\n",
      "0.8889944157939859\n",
      "10, 1.0\n",
      "1.0\n",
      "12, 1.073515355907507\n",
      "0.9315190458124746\n",
      "14, 1.0729984435180777\n",
      "0.9319678011100043\n",
      "16, 1.135481419120687\n",
      "0.8806837198396401\n",
      "18, 1.2361512008539532\n",
      "0.808962527649679\n",
      "20, 1.2512878574687225\n",
      "0.7991766195373603\n",
      "22, 1.381348045668387\n",
      "0.7239305134833953\n",
      "24, 1.3355659084719926\n",
      "0.7487462757596814\n",
      "26, 1.351170810134524\n",
      "0.7400988775804289\n",
      "28, 2.105637274662719\n",
      "0.4749156049016942\n",
      "30, 1.7940064980057944\n",
      "0.5574115819042982\n",
      "32, 2.2279319387591894\n",
      "0.448846745541488\n",
      "34, 2.9919118299483647\n",
      "0.3342344483517946\n",
      "36, 3.6407568570006776\n",
      "0.2746681635927257\n",
      "38, 4.598728566168506\n",
      "0.2174514076252958\n",
      "40, 4.569279784699656\n",
      "0.21885287115674643\n",
      "42, 8.234160560341158\n",
      "0.1214452879163396\n",
      "44, 24.989612827877135\n",
      "0.04001662638344085\n",
      "46, 6.826615612107033\n",
      "0.14648547052019387\n",
      "48, 0\n",
      "50, 12.770967188845772\n",
      "0.07830260505824532\n",
      "52, 34.08395114134981\n",
      "0.029339321484557132\n",
      "54, 34.23203198667202\n",
      "0.029212405515084305\n",
      "56, 10.965335347525787\n",
      "0.09119648130283946\n",
      "58, 88.2638586987931\n",
      "0.011329665558952883\n"
     ]
    }
   ],
   "source": [
    "print(\"Pruning Amount, Normalized Reward\")\n",
    "for i in range(0, 30):\n",
    "    try:\n",
    "        print(f\"{pruning_amounts[i]}, {1/normalized_rewards[i]}\")\n",
    "        print(normalized_rewards[i])\n",
    "    except ZeroDivisionError:\n",
    "        print(f\"{pruning_amounts[i]}, 0\")\n",
    "        continue\n",
    "    "
   ]
  },
  {
   "cell_type": "code",
   "execution_count": null,
   "id": "0f1e251c",
   "metadata": {},
   "outputs": [],
   "source": []
  }
 ],
 "metadata": {
  "kernelspec": {
   "display_name": "ML",
   "language": "python",
   "name": "python3"
  },
  "language_info": {
   "codemirror_mode": {
    "name": "ipython",
    "version": 3
   },
   "file_extension": ".py",
   "mimetype": "text/x-python",
   "name": "python",
   "nbconvert_exporter": "python",
   "pygments_lexer": "ipython3",
   "version": "3.13.2"
  }
 },
 "nbformat": 4,
 "nbformat_minor": 5
}
