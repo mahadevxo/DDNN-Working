{
 "cells": [
  {
   "cell_type": "code",
   "execution_count": 78,
   "id": "125fef90",
   "metadata": {},
   "outputs": [],
   "source": [
    "import sys\n",
    "sys.path.append(\"../SearchingOptimalPruningAmount/\")"
   ]
  },
  {
   "cell_type": "code",
   "execution_count": 79,
   "id": "869629a4",
   "metadata": {},
   "outputs": [],
   "source": [
    "from models import MVCNN\n",
    "from tools import ImgDataset\n",
    "import torch"
   ]
  },
  {
   "cell_type": "code",
   "execution_count": 80,
   "id": "60af7689",
   "metadata": {},
   "outputs": [],
   "source": [
    "model = MVCNN.SVCNN(torch.load('model-00030.pth', map_location='mps'))"
   ]
  },
  {
   "cell_type": "code",
   "execution_count": 81,
   "id": "afad84a7",
   "metadata": {},
   "outputs": [],
   "source": [
    "test_dataset = ImgDataset.SingleImgDataset(\n",
    "    root_dir='../SearchingOptimalPruningAmount/ModelNet40-12View/*/test',\n",
    "    scale_aug=False,\n",
    "    rot_aug=False,\n",
    "    test_mode=True,\n",
    "    num_models=1000,\n",
    "    num_views=12\n",
    ")\n",
    "test_loader = torch.utils.data.DataLoader(\n",
    "    test_dataset,\n",
    "    batch_size=16,\n",
    "    shuffle=False,\n",
    "    num_workers=4,\n",
    "    pin_memory=True\n",
    ")"
   ]
  },
  {
   "cell_type": "code",
   "execution_count": 82,
   "id": "fffc27ac",
   "metadata": {},
   "outputs": [],
   "source": [
    "paths_f = sorted(test_loader.dataset.filepaths, key=lambda x: int(x.split('/')[-1].split('_')[-1].split('.')[0]))"
   ]
  },
  {
   "cell_type": "code",
   "execution_count": 83,
   "id": "1031d480",
   "metadata": {},
   "outputs": [
    {
     "data": {
      "text/plain": [
       "22320"
      ]
     },
     "execution_count": 83,
     "metadata": {},
     "output_type": "execute_result"
    }
   ],
   "source": [
    "len(paths_f)"
   ]
  },
  {
   "cell_type": "code",
   "execution_count": 92,
   "id": "80e2f0a5",
   "metadata": {},
   "outputs": [
    {
     "name": "stdout",
     "output_type": "stream",
     "text": [
      "1860 1860 1860 1860 1860 1860 1860 1860 1860 1860 1860 1860\n"
     ]
    }
   ],
   "source": [
    "view_0, view_1, view_2, view_3, view_4, view_5, view_6, view_7, view_8, view_9, view_10, view_11 = [], [], [], [], [], [], [], [], [], [], [], []\n",
    "\n",
    "for i in range(len(paths_f)):\n",
    "    view_i = paths_f[i].split('/')[-1].split('_')[-1].split('.')[0]\n",
    "    if view_i == '0':\n",
    "        view_0.append(paths_f[i])\n",
    "    elif view_i == '1':\n",
    "        view_1.append(paths_f[i])\n",
    "    elif view_i == '2':\n",
    "        view_2.append(paths_f[i])\n",
    "    elif view_i == '3':\n",
    "        view_3.append(paths_f[i])\n",
    "    elif view_i == '4':\n",
    "        view_4.append(paths_f[i])\n",
    "    elif view_i == '5':\n",
    "        view_5.append(paths_f[i])\n",
    "    elif view_i == '6':\n",
    "        view_6.append(paths_f[i])\n",
    "    elif view_i == '7':\n",
    "        view_7.append(paths_f[i])\n",
    "    elif view_i == '8':\n",
    "        view_8.append(paths_f[i])\n",
    "    elif view_i == '9':\n",
    "        view_9.append(paths_f[i])\n",
    "    elif view_i == '10':\n",
    "        view_10.append(paths_f[i])\n",
    "    elif view_i == '11':\n",
    "        view_11.append(paths_f[i])\n",
    "print(len(view_0), len(view_1), len(view_2), len(view_3), len(view_4), len(view_5), len(view_6), len(view_7), len(view_8), len(view_9), len(view_10), len(view_11))"
   ]
  },
  {
   "cell_type": "code",
   "execution_count": null,
   "id": "5eaefea4",
   "metadata": {},
   "outputs": [],
   "source": [
    "svcnn = model.net_1\n",
    "mvcnn = model.net_2\n",
    "\n",
    "def pooler(svcnn_out):\n",
    "    pooled_features, _ = torch.max(torch.stack(svcnn_out), dim=0, keepdim=False)"
   ]
  }
 ],
 "metadata": {
  "kernelspec": {
   "display_name": "ML",
   "language": "python",
   "name": "python3"
  },
  "language_info": {
   "codemirror_mode": {
    "name": "ipython",
    "version": 3
   },
   "file_extension": ".py",
   "mimetype": "text/x-python",
   "name": "python",
   "nbconvert_exporter": "python",
   "pygments_lexer": "ipython3",
   "version": "3.13.3"
  }
 },
 "nbformat": 4,
 "nbformat_minor": 5
}
