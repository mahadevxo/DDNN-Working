{
 "cells": [
  {
   "cell_type": "code",
   "execution_count": 7,
   "id": "d88567e2",
   "metadata": {},
   "outputs": [],
   "source": [
    "import pandas as pd\n",
    "import matplotlib.pyplot as plt\n",
    "import numpy as np\n",
    "import random\n",
    "from scipy.optimize import curve_fit"
   ]
  },
  {
   "cell_type": "code",
   "execution_count": 8,
   "id": "e2a2006f",
   "metadata": {},
   "outputs": [],
   "source": [
    "data = pd.read_csv('~/Downloads/test_results.csv')"
   ]
  },
  {
   "cell_type": "code",
   "execution_count": 9,
   "id": "80199304",
   "metadata": {},
   "outputs": [],
   "source": [
    "data['Pruning Amount'] = data['Pruning Amount'].astype(float)\n",
    "data['Pre-Acc'] = data['Pre-Acc'].astype(float)\n",
    "data['Post-Acc'] = data['Post-Acc'].astype(float)\n",
    "data['Comp Time'] = data['Comp Time'].astype(float)\n",
    "data['Model Size'] = data['Model Size'].astype(float)"
   ]
  },
  {
   "cell_type": "code",
   "execution_count": 10,
   "id": "408d4f8a",
   "metadata": {},
   "outputs": [
    {
     "data": {
      "application/vnd.microsoft.datawrangler.viewer.v0+json": {
       "columns": [
        {
         "name": "index",
         "rawType": "int64",
         "type": "integer"
        },
        {
         "name": "Pruning Amount",
         "rawType": "float64",
         "type": "float"
        },
        {
         "name": "Pre-Acc",
         "rawType": "float64",
         "type": "float"
        },
        {
         "name": "Post-Acc",
         "rawType": "float64",
         "type": "float"
        },
        {
         "name": "Comp Time",
         "rawType": "float64",
         "type": "float"
        },
        {
         "name": "Model Size",
         "rawType": "float64",
         "type": "float"
        }
       ],
       "conversionMethod": "pd.DataFrame",
       "ref": "c4ce55c9-dfb3-4ba8-9981-8c8491a5b9c9",
       "rows": [
        [
         "0",
         "0.0",
         "65.76612903226",
         "73.62007168459",
         "1.41981106713",
         "491.72034072876"
        ],
        [
         "1",
         "1.0",
         "65.65860215054",
         "74.56093189964",
         "1.40431682269",
         "488.70598983765"
        ],
        [
         "2",
         "2.0",
         "65.68548387097",
         "73.94265232975",
         "1.49083688146",
         "482.6586265564"
        ],
        [
         "3",
         "3.0",
         "65.56899641577",
         "73.87544802867",
         "1.43250460852",
         "475.26826095581"
        ],
        [
         "4",
         "4.0",
         "65.27777777778",
         "73.63799283154",
         "1.44466270719",
         "470.49410629273"
        ],
        [
         "5",
         "5.0",
         "65.93189964158",
         "74.95071684588",
         "1.36671253613",
         "469.92868804932"
        ],
        [
         "6",
         "6.0",
         "65.63620071685",
         "75.64068100358",
         "1.35660860652",
         "461.57919692993"
        ],
        [
         "7",
         "7.0",
         "65.7482078853",
         "74.18906810036",
         "1.47133945283",
         "452.74938583374"
        ],
        [
         "8",
         "8.0",
         "65.70340501792",
         "74.4041218638",
         "1.39107061568",
         "454.8168296814"
        ],
        [
         "9",
         "9.0",
         "65.49283154122",
         "74.82974910394",
         "1.26760488465",
         "450.49617385864"
        ],
        [
         "10",
         "10.0",
         "65.41218637993",
         "74.0770609319",
         "1.34111135347",
         "439.93635940552"
        ],
        [
         "11",
         "11.0",
         "65.58243727599",
         "75.52419354839",
         "1.29978884969",
         "443.00402450562"
        ],
        [
         "12",
         "12.0",
         "65.50627240143",
         "75.33154121864",
         "1.25613963036",
         "436.88682937622"
        ],
        [
         "13",
         "13.0",
         "65.38082437276",
         "71.51433691756",
         "1.29531133743",
         "435.57803344727"
        ],
        [
         "14",
         "14.0",
         "65.58691756272",
         "71.93996415771",
         "1.31340614955",
         "419.63903427124"
        ],
        [
         "15",
         "15.0",
         "65.29569892473",
         "74.18010752688",
         "1.22211670876",
         "416.77619171143"
        ],
        [
         "16",
         "16.0",
         "65.18369175627",
         "73.4811827957",
         "1.28329364459",
         "415.29391098023"
        ],
        [
         "17",
         "17.0",
         "65.47491039427",
         "74.60125448029",
         "1.26902567773",
         "411.72325897217"
        ],
        [
         "18",
         "18.0",
         "65.66756272401",
         "74.39516129032",
         "1.18558229719",
         "404.90927505493"
        ],
        [
         "19",
         "19.0",
         "65.46146953405",
         "74.43100358423",
         "1.19039592289",
         "404.84955215454"
        ],
        [
         "20",
         "20.0",
         "65.12544802867",
         "74.44444444444",
         "1.18826110022",
         "390.11583709717"
        ],
        [
         "21",
         "21.0",
         "65.34050179211",
         "74.31899641577",
         "1.16401713235",
         "393.42963027954"
        ],
        [
         "22",
         "22.0",
         "65.62275985663",
         "72.92562724014",
         "1.1135498115",
         "389.56121063232"
        ],
        [
         "23",
         "23.0",
         "65.39426523297",
         "74.29211469534",
         "1.19119635082",
         "384.34714508057"
        ],
        [
         "24",
         "24.0",
         "65.30017921147",
         "75.75268817204",
         "1.1476672604",
         "377.83061599731"
        ],
        [
         "25",
         "25.0",
         "65.46594982079",
         "75.82437275986",
         "1.12775792394",
         "366.45285415649"
        ],
        [
         "26",
         "26.0",
         "65.48835125448",
         "73.48566308244",
         "1.08610183852",
         "371.58034896851"
        ],
        [
         "27",
         "27.0",
         "65.35842293907",
         "75.51523297491",
         "1.11450425784",
         "361.68041610718"
        ],
        [
         "28",
         "28.0",
         "65.15681003584",
         "75.04032258065",
         "1.00727010909",
         "354.40832519531"
        ],
        [
         "29",
         "29.0",
         "65.51523297491",
         "69.43548387097",
         "1.03437920979",
         "367.17975616455"
        ],
        [
         "30",
         "30.0",
         "65.34498207885",
         "75.07616487455",
         "1.01518141656",
         "349.33352279663"
        ],
        [
         "31",
         "31.0",
         "65.2688172043",
         "73.62007168459",
         "1.02823489053",
         "347.40514755249"
        ],
        [
         "32",
         "32.0",
         "65.34498207885",
         "71.07078853047",
         "1.02465554646",
         "348.44802093506"
        ],
        [
         "33",
         "33.0",
         "65.41666666667",
         "75.72132616487",
         "0.96513380323",
         "345.43926239014"
        ],
        [
         "34",
         "34.0",
         "65.23745519713",
         "74.27419354839",
         "0.98235501562",
         "317.92832946777"
        ],
        [
         "35",
         "35.0",
         "65.40322580645",
         "74.47580645161",
         "0.99358181726",
         "343.2893409729"
        ],
        [
         "36",
         "36.0",
         "65.1164874552",
         "73.87544802867",
         "0.9741287572",
         "317.52881622315"
        ],
        [
         "37",
         "37.0",
         "65.03584229391",
         "72.58512544803",
         "0.95273611659",
         "319.99708938599"
        ],
        [
         "38",
         "38.0",
         "65.11200716846",
         "75.18369175627",
         "0.97264771234",
         "312.73783874512"
        ],
        [
         "39",
         "39.0",
         "65.57347670251",
         "73.86200716846",
         "0.92391748655",
         "322.91032409668"
        ],
        [
         "40",
         "40.0",
         "65.23745519713",
         "74.90591397849",
         "0.90171333722",
         "314.97811126709"
        ],
        [
         "41",
         "41.0",
         "65.23297491039",
         "75.66308243728",
         "0.89155609267",
         "294.54300308228"
        ],
        [
         "42",
         "42.0",
         "65.7123655914",
         "72.58064516129",
         "0.84446355275",
         "290.45724868774"
        ],
        [
         "43",
         "43.0",
         "65.23297491039",
         "74.80286738351",
         "0.85844990185",
         "301.43089294434"
        ],
        [
         "44",
         "44.0",
         "65.3270609319",
         "72.80017921147",
         "0.82250449771",
         "288.98523330689"
        ],
        [
         "45",
         "45.0",
         "65.07168458781",
         "73.64247311828",
         "0.86703056381",
         "280.16764068604"
        ],
        [
         "46",
         "46.0",
         "65.24193548387",
         "75.33154121864",
         "0.85736430259",
         "278.94034957886"
        ],
        [
         "47",
         "47.0",
         "65.23297491039",
         "70.54659498208",
         "0.79579096749",
         "285.44480133057"
        ],
        [
         "48",
         "48.0",
         "65.39426523297",
         "73.33333333333",
         "0.73980307579",
         "255.95760345459"
        ],
        [
         "49",
         "49.0",
         "65.41666666667",
         "72.24462365591",
         "0.76164302372",
         "273.17417907715"
        ]
       ],
       "shape": {
        "columns": 5,
        "rows": 98
       }
      },
      "text/html": [
       "<div>\n",
       "<style scoped>\n",
       "    .dataframe tbody tr th:only-of-type {\n",
       "        vertical-align: middle;\n",
       "    }\n",
       "\n",
       "    .dataframe tbody tr th {\n",
       "        vertical-align: top;\n",
       "    }\n",
       "\n",
       "    .dataframe thead th {\n",
       "        text-align: right;\n",
       "    }\n",
       "</style>\n",
       "<table border=\"1\" class=\"dataframe\">\n",
       "  <thead>\n",
       "    <tr style=\"text-align: right;\">\n",
       "      <th></th>\n",
       "      <th>Pruning Amount</th>\n",
       "      <th>Pre-Acc</th>\n",
       "      <th>Post-Acc</th>\n",
       "      <th>Comp Time</th>\n",
       "      <th>Model Size</th>\n",
       "    </tr>\n",
       "  </thead>\n",
       "  <tbody>\n",
       "    <tr>\n",
       "      <th>0</th>\n",
       "      <td>0.0</td>\n",
       "      <td>65.766129</td>\n",
       "      <td>73.620072</td>\n",
       "      <td>1.419811</td>\n",
       "      <td>491.720341</td>\n",
       "    </tr>\n",
       "    <tr>\n",
       "      <th>1</th>\n",
       "      <td>1.0</td>\n",
       "      <td>65.658602</td>\n",
       "      <td>74.560932</td>\n",
       "      <td>1.404317</td>\n",
       "      <td>488.705990</td>\n",
       "    </tr>\n",
       "    <tr>\n",
       "      <th>2</th>\n",
       "      <td>2.0</td>\n",
       "      <td>65.685484</td>\n",
       "      <td>73.942652</td>\n",
       "      <td>1.490837</td>\n",
       "      <td>482.658627</td>\n",
       "    </tr>\n",
       "    <tr>\n",
       "      <th>3</th>\n",
       "      <td>3.0</td>\n",
       "      <td>65.568996</td>\n",
       "      <td>73.875448</td>\n",
       "      <td>1.432505</td>\n",
       "      <td>475.268261</td>\n",
       "    </tr>\n",
       "    <tr>\n",
       "      <th>4</th>\n",
       "      <td>4.0</td>\n",
       "      <td>65.277778</td>\n",
       "      <td>73.637993</td>\n",
       "      <td>1.444663</td>\n",
       "      <td>470.494106</td>\n",
       "    </tr>\n",
       "    <tr>\n",
       "      <th>...</th>\n",
       "      <td>...</td>\n",
       "      <td>...</td>\n",
       "      <td>...</td>\n",
       "      <td>...</td>\n",
       "      <td>...</td>\n",
       "    </tr>\n",
       "    <tr>\n",
       "      <th>93</th>\n",
       "      <td>93.0</td>\n",
       "      <td>32.898746</td>\n",
       "      <td>70.873656</td>\n",
       "      <td>0.084116</td>\n",
       "      <td>89.225956</td>\n",
       "    </tr>\n",
       "    <tr>\n",
       "      <th>94</th>\n",
       "      <td>94.0</td>\n",
       "      <td>24.372760</td>\n",
       "      <td>71.935484</td>\n",
       "      <td>0.078861</td>\n",
       "      <td>89.196568</td>\n",
       "    </tr>\n",
       "    <tr>\n",
       "      <th>95</th>\n",
       "      <td>95.0</td>\n",
       "      <td>4.444444</td>\n",
       "      <td>68.472222</td>\n",
       "      <td>0.070141</td>\n",
       "      <td>92.213608</td>\n",
       "    </tr>\n",
       "    <tr>\n",
       "      <th>96</th>\n",
       "      <td>96.0</td>\n",
       "      <td>5.304659</td>\n",
       "      <td>66.034946</td>\n",
       "      <td>0.056068</td>\n",
       "      <td>79.923027</td>\n",
       "    </tr>\n",
       "    <tr>\n",
       "      <th>97</th>\n",
       "      <td>97.0</td>\n",
       "      <td>5.376344</td>\n",
       "      <td>65.295699</td>\n",
       "      <td>0.054589</td>\n",
       "      <td>81.429932</td>\n",
       "    </tr>\n",
       "  </tbody>\n",
       "</table>\n",
       "<p>98 rows × 5 columns</p>\n",
       "</div>"
      ],
      "text/plain": [
       "    Pruning Amount    Pre-Acc   Post-Acc  Comp Time  Model Size\n",
       "0              0.0  65.766129  73.620072   1.419811  491.720341\n",
       "1              1.0  65.658602  74.560932   1.404317  488.705990\n",
       "2              2.0  65.685484  73.942652   1.490837  482.658627\n",
       "3              3.0  65.568996  73.875448   1.432505  475.268261\n",
       "4              4.0  65.277778  73.637993   1.444663  470.494106\n",
       "..             ...        ...        ...        ...         ...\n",
       "93            93.0  32.898746  70.873656   0.084116   89.225956\n",
       "94            94.0  24.372760  71.935484   0.078861   89.196568\n",
       "95            95.0   4.444444  68.472222   0.070141   92.213608\n",
       "96            96.0   5.304659  66.034946   0.056068   79.923027\n",
       "97            97.0   5.376344  65.295699   0.054589   81.429932\n",
       "\n",
       "[98 rows x 5 columns]"
      ]
     },
     "execution_count": 10,
     "metadata": {},
     "output_type": "execute_result"
    }
   ],
   "source": [
    "data"
   ]
  },
  {
   "cell_type": "code",
   "execution_count": 11,
   "id": "f1a5d2e0",
   "metadata": {},
   "outputs": [],
   "source": [
    "x = data['Pruning Amount']\n",
    "y = data['Post-Acc']"
   ]
  },
  {
   "cell_type": "code",
   "execution_count": 12,
   "id": "9b5765ba",
   "metadata": {},
   "outputs": [],
   "source": [
    "x1, y1 = x[:20], y[:20]\n",
    "x2, y2 = x[20:70], y[20:70]\n",
    "x3, y3 = x[70:80], y[70:80]\n",
    "x4, y4 = x[80:], y[80:]"
   ]
  },
  {
   "cell_type": "code",
   "execution_count": 13,
   "id": "74658533",
   "metadata": {},
   "outputs": [],
   "source": [
    "def fit_curve(x, y, n):\n",
    "    coeffs = np.polyfit(x, y, n)\n",
    "    poly = np.poly1d(coeffs)\n",
    "    return poly(x)"
   ]
  },
  {
   "cell_type": "code",
   "execution_count": 14,
   "id": "a19ebc64",
   "metadata": {},
   "outputs": [
    {
     "name": "stdout",
     "output_type": "stream",
     "text": [
      "[73.40682218 73.91935319 74.29316485 74.54389183 74.6871688  74.73863042\n",
      " 74.71391136 74.62864628 74.49846986 74.33901677 74.16592166 73.9948192\n",
      " 73.84134406 73.72113092 73.64981442 73.64302925 73.71641007 73.88559155\n",
      " 74.16620835 74.57389513 74.50696019 74.43499384 74.36713477 74.30330534\n",
      " 74.24342789 74.18742474 74.13521826 74.08673077 74.04188463 74.00060216\n",
      " 73.96280572 73.92841764 73.89736026 73.86955594 73.844927   73.82339578\n",
      " 73.80488464 73.78931591 73.77661193 73.76669505 73.7594876  73.75491193\n",
      " 73.75289038 73.75334529 73.75619899 73.76137384 73.76879218 73.77837633\n",
      " 73.79004866 73.80373149 73.81934717 73.83681804 73.85606644 73.87701472\n",
      " 73.89958521 73.92370025 73.94928219 73.97625337 74.00453613 74.03405281\n",
      " 74.06472576 74.0964773  74.12922979 74.16290557 74.19742697 74.23271634\n",
      " 74.26869603 74.30528836 74.34241569 74.38000035 75.7692245  75.23305637\n",
      " 74.78785163 74.4336103  74.17033236 73.99801781 73.91666667 73.92627892\n",
      " 74.02685457 74.21839361 75.58285648 74.85078965 74.3960498  74.16509926\n",
      " 74.10440039 74.16041553 74.27960704 74.40843724 74.4933685  74.48086315\n",
      " 74.31738354 73.94939202 73.32335094 72.38572263 71.08296945 69.36155375\n",
      " 67.16793785 64.44858412]\n"
     ]
    },
    {
     "data": {
      "image/png": "[encoded data removed]",
      "text/plain": [
       "<Figure size 2000x500 with 1 Axes>"
      ]
     },
     "metadata": {},
     "output_type": "display_data"
    }
   ],
   "source": [
    "y_fit1 = fit_curve(x1, y1, 3)\n",
    "y_fit2 = fit_curve(x2, y2, 3)\n",
    "y_fit3 = fit_curve(x3, y3, 2)\n",
    "y_fit4 = fit_curve(x4, y4, 3)\n",
    "y_fit = np.concatenate((y_fit1, y_fit2, y_fit3, y_fit4))\n",
    "print(y_fit)\n",
    "\n",
    "\n",
    "\n",
    "plt.figure(figsize=(20, 5))\n",
    "plt.scatter(x, y, label='Pre‑Acc data')\n",
    "plt.plot(x, y_fit, color='teal')\n",
    "plt.xlabel('Pruning Amount')\n",
    "plt.ylabel('Pre‑Acc')\n",
    "plt.legend()\n",
    "plt.show()"
   ]
  },
  {
   "cell_type": "code",
   "execution_count": 15,
   "id": "6cc40d56",
   "metadata": {},
   "outputs": [],
   "source": [
    "def curve1(x):\n",
    "    # y = 9.04·x⁵ − 11.10·x⁴ − 1.86·x³ + 4.13·x² − 1.17·x + 1.05\n",
    "    x/=100\n",
    "    y = 9.04 * x**5 - 11.10 * x**4 - 1.86 * x**3 + 4.13 * x**2 - 1.17 * x + 1.05\n",
    "    y*=75\n",
    "    return y"
   ]
  },
  {
   "cell_type": "code",
   "execution_count": null,
   "id": "68c6f8ba",
   "metadata": {},
   "outputs": [
    {
     "name": "stdout",
     "output_type": "stream",
     "text": [
      "98 98\n"
     ]
    },
    {
     "data": {
      "image/png": "[encoded data removed]",
      "text/plain": [
       "<Figure size 2000x500 with 1 Axes>"
      ]
     },
     "metadata": {},
     "output_type": "display_data"
    }
   ],
   "source": [
    "x = np.arange(0, 98, 1, dtype=float)\n",
    "y = curve1(x)\n",
    "plt.figure(figsize=(20, 5))\n",
    "plt.scatter(x, data['Post-Acc'], label='Pre‑Acc data')\n",
    "plt.plot(x, y, color='teal')\n",
    "plt.xlabel('Pruning Amount')\n",
    "plt.ylabel('Pre‑Acc')\n",
    "plt.legend()\n",
    "plt.show()"
   ]
  },
  {
   "cell_type": "code",
   "execution_count": null,
   "id": "b8975594",
   "metadata": {},
   "outputs": [],
   "source": []
  }
 ],
 "metadata": {
  "kernelspec": {
   "display_name": "ML",
   "language": "python",
   "name": "python3"
  },
  "language_info": {
   "codemirror_mode": {
    "name": "ipython",
    "version": 3
   },
   "file_extension": ".py",
   "mimetype": "text/x-python",
   "name": "python",
   "nbconvert_exporter": "python",
   "pygments_lexer": "ipython3",
   "version": "3.13.3"
  }
 },
 "nbformat": 4,
 "nbformat_minor": 5
}
