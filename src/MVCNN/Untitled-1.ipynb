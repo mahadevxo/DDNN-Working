{
 "cells": [
  {
   "cell_type": "code",
   "execution_count": 1,
   "id": "78cedf23",
   "metadata": {},
   "outputs": [],
   "source": [
    "test_path = \"ModelNet40-12View/*/test\""
   ]
  },
  {
   "cell_type": "code",
   "execution_count": 2,
   "id": "f2ffd436",
   "metadata": {},
   "outputs": [],
   "source": [
    "from tools import ImgDataset"
   ]
  },
  {
   "cell_type": "code",
   "execution_count": 3,
   "id": "677e33de",
   "metadata": {},
   "outputs": [
    {
     "name": "stdout",
     "output_type": "stream",
     "text": [
      "ModelNet40-12View/airplane/test/*/*/*.png\n",
      "ModelNet40-12View/bed/test/*/*/*.png\n",
      "ModelNet40-12View/bench/test/*/*/*.png\n",
      "ModelNet40-12View/bookshelf/test/*/*/*.png\n",
      "ModelNet40-12View/bottle/test/*/*/*.png\n",
      "ModelNet40-12View/bowl/test/*/*/*.png\n",
      "ModelNet40-12View/car/test/*/*/*.png\n",
      "ModelNet40-12View/chair/test/*/*/*.png\n",
      "ModelNet40-12View/cone/test/*/*/*.png\n",
      "ModelNet40-12View/cup/test/*/*/*.png\n",
      "ModelNet40-12View/curtain/test/*/*/*.png\n",
      "ModelNet40-12View/door/test/*/*/*.png\n",
      "ModelNet40-12View/flower_pot/test/*/*/*.png\n",
      "ModelNet40-12View/glass_box/test/*/*/*.png\n",
      "ModelNet40-12View/guitar/test/*/*/*.png\n",
      "ModelNet40-12View/keyboard/test/*/*/*.png\n",
      "ModelNet40-12View/lamp/test/*/*/*.png\n",
      "ModelNet40-12View/laptop/test/*/*/*.png\n",
      "ModelNet40-12View/mantel/test/*/*/*.png\n",
      "ModelNet40-12View/person/test/*/*/*.png\n",
      "ModelNet40-12View/piano/test/*/*/*.png\n",
      "ModelNet40-12View/plant/test/*/*/*.png\n",
      "ModelNet40-12View/radio/test/*/*/*.png\n",
      "ModelNet40-12View/range_hood/test/*/*/*.png\n",
      "ModelNet40-12View/sink/test/*/*/*.png\n",
      "ModelNet40-12View/stairs/test/*/*/*.png\n",
      "ModelNet40-12View/stool/test/*/*/*.png\n",
      "ModelNet40-12View/tent/test/*/*/*.png\n",
      "ModelNet40-12View/toilet/test/*/*/*.png\n",
      "ModelNet40-12View/tv_stand/test/*/*/*.png\n",
      "ModelNet40-12View/vase/test/*/*/*.png\n",
      "ModelNet40-12View/wardrobe/test/*/*/*.png\n",
      "ModelNet40-12View/xbox/test/*/*/*.png\n",
      "Number of images in dataset: 22320\n"
     ]
    }
   ],
   "source": [
    "dataset = ImgDataset.SingleImgDataset(root_dir=test_path)\n",
    "\n",
    "print(f\"Number of images in dataset: {len(dataset)}\")"
   ]
  },
  {
   "cell_type": "code",
   "execution_count": 4,
   "id": "f1b5cd77",
   "metadata": {},
   "outputs": [
    {
     "data": {
      "text/plain": [
       "(0,\n",
       " tensor([[[2.2489, 2.2489, 2.2489,  ..., 2.2489, 2.2489, 2.2489],\n",
       "          [2.0948, 2.1633, 2.2489,  ..., 2.2318, 2.2489, 2.2489],\n",
       "          [2.2489, 2.2489, 2.2489,  ..., 2.2489, 2.2489, 2.2489],\n",
       "          ...,\n",
       "          [2.2489, 2.1633, 2.2147,  ..., 2.2489, 2.2489, 2.2489],\n",
       "          [2.1804, 2.1119, 2.2147,  ..., 2.2489, 2.2318, 2.2489],\n",
       "          [2.2489, 2.2489, 2.2489,  ..., 2.2489, 2.2489, 2.1975]],\n",
       " \n",
       "         [[2.4286, 2.4286, 2.4286,  ..., 2.3761, 2.3936, 2.4286],\n",
       "          [2.4286, 2.4286, 2.4286,  ..., 2.3936, 2.4111, 2.4286],\n",
       "          [2.4286, 2.4286, 2.4111,  ..., 2.4286, 2.4111, 2.4286],\n",
       "          ...,\n",
       "          [2.4286, 2.4286, 2.3936,  ..., 2.4286, 2.4286, 2.4286],\n",
       "          [2.4286, 2.3761, 2.3585,  ..., 2.4111, 2.3410, 2.3761],\n",
       "          [2.3235, 2.4286, 2.4286,  ..., 2.3585, 2.4286, 2.3410]],\n",
       " \n",
       "         [[2.6400, 2.6400, 2.6400,  ..., 2.6400, 2.6400, 2.6400],\n",
       "          [2.6400, 2.5703, 2.6400,  ..., 2.6226, 2.6226, 2.6400],\n",
       "          [2.6400, 2.6400, 2.6400,  ..., 2.6400, 2.6226, 2.6400],\n",
       "          ...,\n",
       "          [2.6400, 2.6051, 2.6226,  ..., 2.6400, 2.6400, 2.6400],\n",
       "          [2.4657, 2.5180, 2.5877,  ..., 2.6400, 2.6051, 2.6400],\n",
       "          [2.6400, 2.6400, 2.6400,  ..., 2.6400, 2.6400, 2.5529]]]),\n",
       " 'ModelNet40-12View/airplane/test/airplane_0627/airplane_0627/airplane_0627.0.png')"
      ]
     },
     "execution_count": 4,
     "metadata": {},
     "output_type": "execute_result"
    }
   ],
   "source": [
    "next(iter(dataset))"
   ]
  },
  {
   "cell_type": "code",
   "execution_count": null,
   "id": "9e83bed6",
   "metadata": {},
   "outputs": [],
   "source": []
  }
 ],
 "metadata": {
  "kernelspec": {
   "display_name": "ML",
   "language": "python",
   "name": "python3"
  },
  "language_info": {
   "codemirror_mode": {
    "name": "ipython",
    "version": 3
   },
   "file_extension": ".py",
   "mimetype": "text/x-python",
   "name": "python",
   "nbconvert_exporter": "python",
   "pygments_lexer": "ipython3",
   "version": "3.13.3"
  }
 },
 "nbformat": 4,
 "nbformat_minor": 5
}
