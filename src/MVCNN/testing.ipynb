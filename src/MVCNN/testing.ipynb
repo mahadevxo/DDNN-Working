{
 "cells": [
  {
   "cell_type": "code",
   "execution_count": 1,
   "id": "cf9bada6",
   "metadata": {},
   "outputs": [],
   "source": [
    "import torch\n",
    "from models import MVCNN\n",
    "import time\n",
    "import torchvision\n",
    "from torchvision import transforms\n",
    "import os"
   ]
  },
  {
   "cell_type": "code",
   "execution_count": 2,
   "id": "0ee84826",
   "metadata": {},
   "outputs": [],
   "source": [
    "device = (\n",
    "    \"cuda\"\n",
    "    if torch.cuda.is_available()\n",
    "    else \"mps\" if torch.backends.mps.is_available() else \"cpu\"\n",
    ")"
   ]
  },
  {
   "cell_type": "code",
   "execution_count": 3,
   "id": "06e34877",
   "metadata": {},
   "outputs": [
    {
     "data": {
      "text/plain": [
       "SVCNN(\n",
       "  (net_1): Sequential(\n",
       "    (0): Conv2d(3, 64, kernel_size=(3, 3), stride=(1, 1), padding=(1, 1))\n",
       "    (1): ReLU(inplace=True)\n",
       "    (2): MaxPool2d(kernel_size=2, stride=2, padding=0, dilation=1, ceil_mode=False)\n",
       "    (3): Conv2d(64, 128, kernel_size=(3, 3), stride=(1, 1), padding=(1, 1))\n",
       "    (4): ReLU(inplace=True)\n",
       "    (5): MaxPool2d(kernel_size=2, stride=2, padding=0, dilation=1, ceil_mode=False)\n",
       "    (6): Conv2d(128, 256, kernel_size=(3, 3), stride=(1, 1), padding=(1, 1))\n",
       "    (7): ReLU(inplace=True)\n",
       "    (8): Conv2d(256, 256, kernel_size=(3, 3), stride=(1, 1), padding=(1, 1))\n",
       "    (9): ReLU(inplace=True)\n",
       "    (10): MaxPool2d(kernel_size=2, stride=2, padding=0, dilation=1, ceil_mode=False)\n",
       "    (11): Conv2d(256, 512, kernel_size=(3, 3), stride=(1, 1), padding=(1, 1))\n",
       "    (12): ReLU(inplace=True)\n",
       "    (13): Conv2d(512, 512, kernel_size=(3, 3), stride=(1, 1), padding=(1, 1))\n",
       "    (14): ReLU(inplace=True)\n",
       "    (15): MaxPool2d(kernel_size=2, stride=2, padding=0, dilation=1, ceil_mode=False)\n",
       "    (16): Conv2d(512, 512, kernel_size=(3, 3), stride=(1, 1), padding=(1, 1))\n",
       "    (17): ReLU(inplace=True)\n",
       "    (18): Conv2d(512, 512, kernel_size=(3, 3), stride=(1, 1), padding=(1, 1))\n",
       "    (19): ReLU(inplace=True)\n",
       "    (20): MaxPool2d(kernel_size=2, stride=2, padding=0, dilation=1, ceil_mode=False)\n",
       "  )\n",
       "  (net_2): Sequential(\n",
       "    (0): Linear(in_features=25088, out_features=4096, bias=True)\n",
       "    (1): ReLU(inplace=True)\n",
       "    (2): Dropout(p=0.5, inplace=False)\n",
       "    (3): Linear(in_features=4096, out_features=4096, bias=True)\n",
       "    (4): ReLU(inplace=True)\n",
       "    (5): Dropout(p=0.5, inplace=False)\n",
       "    (6): Linear(in_features=4096, out_features=40, bias=True)\n",
       "  )\n",
       ")"
      ]
     },
     "execution_count": 3,
     "metadata": {},
     "output_type": "execute_result"
    }
   ],
   "source": [
    "svcnn = MVCNN.SVCNN(name=\"VGG11_SVCNN\")\n",
    "svcnn_weights = torch.load(\n",
    "    \"trained-models/SVCNN/model-00010.pth\", weights_only=True, map_location=device\n",
    ")\n",
    "svcnn.load_state_dict(svcnn_weights, strict=False)\n",
    "svcnn.eval()\n",
    "svcnn.to(device)"
   ]
  },
  {
   "cell_type": "code",
   "execution_count": 4,
   "id": "6081bccd",
   "metadata": {},
   "outputs": [
    {
     "name": "stdout",
     "output_type": "stream",
     "text": [
      "Time taken for forward pass:  0.07177281379699707\n"
     ]
    }
   ],
   "source": [
    "random_out = None\n",
    "random_input = torch.randn(12, 3, 244, 244).to(device)\n",
    "with torch.no_grad():\n",
    "    t1 = time.time()\n",
    "    random_out = svcnn.net_1(random_input)\n",
    "    print(\"Time taken for forward pass: \", time.time() - t1)"
   ]
  },
  {
   "cell_type": "code",
   "execution_count": 5,
   "id": "f66e2cf4",
   "metadata": {},
   "outputs": [
    {
     "name": "stdout",
     "output_type": "stream",
     "text": [
      "torch.Size([1, 25088])\n"
     ]
    }
   ],
   "source": [
    "pooled_features, _ = torch.max(random_out, dim=0, keepdim=False)\n",
    "pooled_features = pooled_features.view(1, -1)\n",
    "pooled_features = pooled_features.to(device)\n",
    "print(pooled_features.shape)"
   ]
  },
  {
   "cell_type": "code",
   "execution_count": 6,
   "id": "c9a9312d",
   "metadata": {},
   "outputs": [
    {
     "name": "stdout",
     "output_type": "stream",
     "text": [
      "Time taken for final forward pass:  0.015916109085083008\n",
      "tensor([9], device='mps:0')\n"
     ]
    }
   ],
   "source": [
    "with torch.no_grad():\n",
    "    t2 = time.time()\n",
    "    random_out_final = svcnn.net_2(pooled_features)\n",
    "    print(\"Time taken for final forward pass: \", time.time() - t2)\n",
    "random_out_final.shape\n",
    "final_label = torch.argmax(random_out_final, dim=1)\n",
    "print(final_label)"
   ]
  },
  {
   "cell_type": "code",
   "execution_count": 7,
   "id": "c5f82e76",
   "metadata": {},
   "outputs": [],
   "source": [
    "transforms = transforms.Compose([\n",
    "    transforms.Resize((224, 224)),\n",
    "    transforms.ToTensor(),\n",
    "    transforms.Normalize(\n",
    "        mean=[0.485, 0.456, 0.406], \n",
    "        std=[0.229, 0.224, 0.225]\n",
    "    ),\n",
    "])"
   ]
  },
  {
   "cell_type": "code",
   "execution_count": 8,
   "id": "49f1498e",
   "metadata": {},
   "outputs": [],
   "source": [
    "objects = os.listdir(\"./ModelNet40-12View\")\n",
    "objects.remove('.DS_Store')\n",
    "len(objects)\n",
    "\n",
    "dataloaders = []"
   ]
  },
  {
   "cell_type": "code",
   "execution_count": 9,
   "id": "764640c9",
   "metadata": {},
   "outputs": [],
   "source": [
    "for object in objects:\n",
    "    dataset = torchvision.datasets.ImageFolder(\n",
    "        root=f'ModelNet40-12View/{object}/test',\n",
    "        transform=transforms\n",
    "    )\n",
    "    dataloader = torch.utils.data.DataLoader(dataset, batch_size=12, shuffle=False)\n",
    "    dataloaders.append(dataloader)"
   ]
  },
  {
   "cell_type": "code",
   "execution_count": null,
   "id": "06880d1c",
   "metadata": {},
   "outputs": [],
   "source": []
  }
 ],
 "metadata": {
  "kernelspec": {
   "display_name": "ML",
   "language": "python",
   "name": "python3"
  },
  "language_info": {
   "codemirror_mode": {
    "name": "ipython",
    "version": 3
   },
   "file_extension": ".py",
   "mimetype": "text/x-python",
   "name": "python",
   "nbconvert_exporter": "python",
   "pygments_lexer": "ipython3",
   "version": "3.10.0"
  }
 },
 "nbformat": 4,
 "nbformat_minor": 5
}
